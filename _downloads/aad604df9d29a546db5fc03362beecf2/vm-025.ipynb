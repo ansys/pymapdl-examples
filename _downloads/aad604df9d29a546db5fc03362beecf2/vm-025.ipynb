{
  "cells": [
    {
      "cell_type": "markdown",
      "metadata": {},
      "source": [
        "Stresses in a Long Cylinder {#ref_vm25}\n===========================\n\nProblem description:\n\n:   -   A long thick-walled cylinder is initially subjected to an\n        internal pressure p. Determine the radial displacement\n        $\\delta_r$ at the inner surface, the radial stress $\\sigma_r$ ,\n        and tangential stress $\\sigma_t$ , at the inner and outer\n        surfaces and at the middle wall thickness. Internal pressure is\n        then removed and the cylinder is subjected to a rotation \u03c9 about\n        its center line. Determine the radial $\\sigma_r$ and tangential\n        $\\sigma_t$ stresses at the inner wall and at an interior point\n        located at r = Xi.\n\nReference:\n\n:   -   S. Timoshenko, Strength of Materials, Part II, Elementary Theory\n        and Problems, 3rd Edition, D. Van Nostrand Co., Inc., New York,\n        NY, 1956, pg. 213, problem 1 and pg. 213, article 42.\n\nAnalysis type(s):\n\n:   -   Static Analysis `ANTYPE=0`\n\nElement type(s):\n\n:   -   2-D 8-Node Structural Solid Elements (PLANE183)\n\n![VM25 Long Cylinder Problem Sketch](../_static/vm25_setup.png){width=\"400px\"}\n\nMaterial properties:\n\n:   -   $E = 30 \\cdot 10^6 psi$\n    -   $\\mu = 0.3$\n    -   $\\rho = 0.00073 lb-sec^2/in^4$\n\nGeometric properties:\n\n:   -   $a = 4 inches$\n    -   $b = 8 inches$\n    -   $X_i = 5.43 inches$\n\nLoading:\n\n:   -   $p = 30,000 psi$\n    -   $\\Omega = 1000 rad/sec$\n\nAnalysis Assumptions and Modeling Notes:\n\n:   -   The axial length is arbitrarily selected. Elements are oriented\n        such that surface stresses may be obtained at the inner and\n        outer cylinder surfaces. POST1 is used to display linearized\n        stresses through the thickness of the cylinder when it is\n        subjected to an internal pressure.\n"
      ]
    },
    {
      "cell_type": "code",
      "execution_count": null,
      "metadata": {
        "collapsed": false
      },
      "outputs": [],
      "source": [
        "# sphinx_gallery_thumbnail_path = '_static/vm25_setup.png'\n\n# Importing the `launch_mapdl` function from the `ansys.mapdl.core` module\nfrom ansys.mapdl.core import launch_mapdl\nimport numpy as np\nimport pandas as pd\n\n# Launching MAPDL with specified settings\nmapdl = launch_mapdl(loglevel=\"WARNING\", print_com=True, remove_temp_dir_on_exit=True)\n\n# Clearing the MAPDL database\nmapdl.clear()\n\n# Run the FINISH command to exists normally from a processor\nmapdl.finish()\n\n# Set the ANSYS version\nmapdl.com(\"ANSYS MEDIA REL. 2022R2 (05/13/2022) REF. VERIF. MANUAL: REL. 2022R2\")\n\n# Run the /VERIFY command for VM25\nmapdl.run(\"/VERIFY,VM25\")\n\n# Set the title of the analysis\nmapdl.title(\"VM25 Stresses in a Long Cylinder\")\n\n# Enter the model creation /Prep7 preprocessor\nmapdl.prep7()\n\n# Deactivate automatic (smart) element sizing\nmapdl.smrtsize(sizlvl=\"OFF\")"
      ]
    },
    {
      "cell_type": "markdown",
      "metadata": {},
      "source": [
        "Define element type and properties\n==================================\n\nUse 2-D 8-Node or 6-Node Structural Solid and specify Axisymmetric\nelement behavior via setting Keyopt(3)=1.\n"
      ]
    },
    {
      "cell_type": "code",
      "execution_count": null,
      "metadata": {
        "collapsed": false
      },
      "outputs": [],
      "source": [
        "mapdl.et(1, \"PLANE183\", \"\", \"\", 1)"
      ]
    },
    {
      "cell_type": "markdown",
      "metadata": {},
      "source": [
        "Define material\n===============\n\nSet up the material and its type (a single material), Young\\'s modulus\nof 30e6, Density, rho = 0.00073 and Poisson\\'s ratio NUXY of 0.3 is\nspecified.\n"
      ]
    },
    {
      "cell_type": "code",
      "execution_count": null,
      "metadata": {
        "collapsed": false
      },
      "outputs": [],
      "source": [
        "mapdl.mp(\"EX\", 1, 30e6)\nmapdl.mp(\"DENS\", 1, 0.00073)\nmapdl.mp(\"NUXY\", 1, 0.3)"
      ]
    },
    {
      "cell_type": "markdown",
      "metadata": {},
      "source": [
        "Define geometry\n===============\n\nSet up the nodes and elements. This creates a mesh just like in the\nproblem setup.\n"
      ]
    },
    {
      "cell_type": "code",
      "execution_count": null,
      "metadata": {
        "collapsed": false
      },
      "outputs": [],
      "source": [
        "# Defining node 1 with coordinates (4)\nmapdl.n(1, 4)\n# Defining node 2 with coordinates (4+4/14)\nmapdl.n(2, \"4+4/14\")\n# Defining node 3 with coordinates (4+4/14, 0.5)\nmapdl.n(3, \"4+4/14\", 0.5)\n# Defining node 4 with coordinates (4, 0.5)\nmapdl.n(4, 4, 0.5)\n# Defining node 5 with coordinates (4+4/28)\nmapdl.n(5, \"4+4/28\")\n# Defining node 6 with coordinates (4+4/14, 0.25)\nmapdl.n(6, \"4+4/14\", 0.25)\n# Defining node 7 with coordinates (4+4/28, 0.5)\nmapdl.n(7, \"4+4/28\", 0.5)\n# Defining node 8 with coordinates (4, 0.25)\nmapdl.n(8, 4, 0.25)\n# Creating element 1 with nodes 2, 3, 4, 5, 6, 7, and 8\nmapdl.e(1, 2, 3, 4, 5, 6, 7, 8)\n\n# Generating additional nodes along element 14 using the specified\n# parameters (from an existing pattern)\nmapdl.egen(14, 8, 1, \"\", \"\", \"\", \"\", \"\", \"\", \"\", \"4/14\")\n# Merging nodes based on their coordinates\nmapdl.nummrg(\"NODE\")\n# Generate a mesh using EGEN command\nmapdl.egen(2, 111, 1, 14, \"\", \"\", \"\", \"\", \"\", \"\", \"\", 0.5)\n# Merge the nodes that share the same coordinates\nmapdl.nummrg(\"NODE\")"
      ]
    },
    {
      "cell_type": "markdown",
      "metadata": {},
      "source": [
        "Define coupling and boundary conditions\n=======================================\n\nApply a displacement boundary condition in the vertical direction (UY)\nto all nodes. Couple the axial displacements at the unconstrained Y-dir.\nApply internal pressure of 30000 psi is applied on nodes. Also, apply\ndummy pressure for surface printout. Then exit prep7 processor.\n"
      ]
    },
    {
      "cell_type": "code",
      "execution_count": null,
      "metadata": {
        "collapsed": false
      },
      "outputs": [],
      "source": [
        "mapdl.nsel(\"S\", \"LOC\", \"Y\", 0)  # Select nodes located on the Y-axis\n# Apply a displacement boundary condition\nmapdl.d(\"ALL\", \"UY\")\nmapdl.nsel(\"S\", \"LOC\", \"Y\", 1)  # Select nodes located on the positive Y-axis\n# Couple the axial displacements at the unconstrained Y-dir\nmapdl.cp(1, \"UY\", \"ALL\")\n\nmapdl.nsel(\n    \"S\", \"LOC\", \"X\", 4\n)  # Select nodes located on the X-axis at a specific coordinate\n# Apply internal pressure on nodes\nmapdl.sf(\"\", \"PRES\", 30000)\n\nmapdl.nsel(\n    \"S\", \"LOC\", \"X\", 8\n)  # Select nodes located on the X-axis at a different coordinate\n# Apply dummy pressure for surface printout\nmapdl.sf(\"\", \"PRES\", 1e-10)\n\n# Selects all entities\nmapdl.allsel()\n# Element plot\nmapdl.eplot(background=\"w\")\n\n# Finish the pre-processing processor\nmapdl.finish()\n\n# Save the finite element model\nmapdl.save(\"MODEL\")"
      ]
    },
    {
      "cell_type": "markdown",
      "metadata": {},
      "source": [
        "Solve\n=====\n\nEnter solution mode and solve the system.\n"
      ]
    },
    {
      "cell_type": "code",
      "execution_count": null,
      "metadata": {
        "collapsed": false
      },
      "outputs": [],
      "source": [
        "mapdl.slashsolu()\n\n# Set the analysis type to STATIC\nmapdl.antype(\"STATIC\")\n# Output results for all nodes\nmapdl.outpr(\"\", \"ALL\")\n# Perform the solution for the load step 1, which is the internal pressure\nmapdl.solve()\n# exists solution processor for load case 1\nmapdl.finish()"
      ]
    },
    {
      "cell_type": "markdown",
      "metadata": {},
      "source": [
        "Post-processing\n===============\n\nEnter post-processing. Compute displacement and stress components.\n"
      ]
    },
    {
      "cell_type": "code",
      "execution_count": null,
      "metadata": {
        "collapsed": false
      },
      "outputs": [],
      "source": [
        "mapdl.post1()\n\n# Set the load step 1 and substep to 1\nmapdl.set(1, 1)"
      ]
    },
    {
      "cell_type": "markdown",
      "metadata": {},
      "source": [
        "Inline functions in PyMAPDL to query node\n=========================================\n"
      ]
    },
    {
      "cell_type": "code",
      "execution_count": null,
      "metadata": {
        "collapsed": false
      },
      "outputs": [],
      "source": [
        "q = mapdl.queries\nLFT_NODE = q.node(4, 0, 0)  # store node number to 'LFT_NODE' with coordinate (4,0,0)\nMID_NODE = q.node(6, 0, 0)  # store node number to 'MID_NODE' with coordinate (6,0,0)\nRT_NODE = q.node(8, 0, 0)  # store node number to 'RT_NODE' with coordinate (8,0,0)"
      ]
    },
    {
      "cell_type": "markdown",
      "metadata": {},
      "source": [
        "Retrieve nodal deflection and section stresses\n==============================================\n"
      ]
    },
    {
      "cell_type": "code",
      "execution_count": null,
      "metadata": {
        "collapsed": false
      },
      "outputs": [],
      "source": [
        "# Retrieves the displacement \"DEF_4\" of nodes associated to\n# \"LFT_NODE\" in the X direction\ndef_4 = mapdl.get(\"DEF_4\", \"NODE\", LFT_NODE, \"U\", \"X\")\n\n# Retrieves the stress and store it \"parm\" of nodes associated to a\n# variables 'LFT_NODE','MID_NODE' and 'RT_NODE'\nrst_4_c1 = mapdl.get(\"RST_4_C1\", \"NODE\", LFT_NODE, \"S\", \"X\")\nrst_6_c1 = mapdl.get(\"RST_6_C1\", \"NODE\", MID_NODE, \"S\", \"X\")\nrst_8_c1 = mapdl.get(\"RST_8_C1\", \"NODE\", RT_NODE, \"S\", \"X\")\ntst_4_c1 = mapdl.get(\"TST_4_C1\", \"NODE\", LFT_NODE, \"S\", \"Z\")\ntst_6_c1 = mapdl.get(\"TST_6_C1\", \"NODE\", MID_NODE, \"S\", \"Z\")\ntst_8_c1 = mapdl.get(\"TST_8_C1\", \"NODE\", RT_NODE, \"S\", \"Z\")\n\n# Print the nodal stress solution (COMP means all stress components)\nmapdl.prnsol(\"S\", \"COMP\")\n\n# Define a path with the name 'STRESS' and ID 2, no limits specified\nmapdl.path(\"STRESS\", 2, \"\", 48)\nmapdl.ppath(1, LFT_NODE)  # Define the path points using the variable 'LFT_NODE'\nmapdl.ppath(2, RT_NODE)  # Define the path points using the variable 'RT_NODE'\nmapdl.plsect(\"S\", \"Z\", -1)  # Display the SZ stresses in a sectional plot\nmapdl.plsect(\"S\", \"X\", -1)  # Display the SX stresses in a sectional plot\nmapdl.prsect(-1)  # Print linearized stresses"
      ]
    },
    {
      "cell_type": "markdown",
      "metadata": {},
      "source": [
        "Verify the results.\n===================\n"
      ]
    },
    {
      "cell_type": "code",
      "execution_count": null,
      "metadata": {
        "collapsed": false
      },
      "outputs": [],
      "source": [
        "# Set target values\ntarget_def = 0.0078666\ntarget_strss = [-30000, -7778, 0]\ntarget_tst_strss = [50000, 27778, 20000]\n\n# Fill result values\nres_def = def_4\nres_strss = [rst_4_c1, rst_6_c1, rst_8_c1]\nres_tst_strss = [tst_4_c1, tst_6_c1, tst_8_c1]\n\ntitle = f\"\"\"\n\n------------------- VM25 RESULTS COMPARISON ---------------------\n\nRESULTS FOR CASE p = 30,000 psi:\n--------------------------------\n\n\"\"\"\n\ncol_headers = [\"TARGET\", \"Mechanical APDL\", \"RATIO\"]\nrow_headers = [\"Displacement, in (r = 4 in)\"]\ndata = [\n    [target_def, res_def, abs(target_def / res_def)],\n]\nprint(title)\nprint(pd.DataFrame(data, row_headers, col_headers))\n\n# Radial stress results comparison\nrow_headers = [\n    \"Stress_r, psi (r = 4 in)\",\n    \"Stress_r, psi (r = 6 in)\",\n    \"Stress_r, psi (r = 8 in)\",\n]\n\ndata = [target_strss, res_strss, np.abs(target_strss) / np.abs(res_strss)]\nprint(pd.DataFrame(np.transpose(data), row_headers, col_headers))\n\n# Tangential stress results comparison\nrow_headers = [\n    \"Stress_t, psi (r = 4 in)\",\n    \"Stress_t, psi (r = 6 in)\",\n    \"Stress_t, psi (r = 8 in)\",\n]\ndata = [\n    target_tst_strss,\n    res_tst_strss,\n    np.abs(target_tst_strss) / np.abs(res_tst_strss),\n]\nprint(pd.DataFrame(np.transpose(data), row_headers, col_headers))"
      ]
    },
    {
      "cell_type": "markdown",
      "metadata": {},
      "source": [
        "Finish the post-processing processor.\n=====================================\n"
      ]
    },
    {
      "cell_type": "code",
      "execution_count": null,
      "metadata": {
        "collapsed": false
      },
      "outputs": [],
      "source": [
        "mapdl.finish()"
      ]
    },
    {
      "cell_type": "markdown",
      "metadata": {},
      "source": [
        "Set a new title for the analysis\n================================\n"
      ]
    },
    {
      "cell_type": "code",
      "execution_count": null,
      "metadata": {
        "collapsed": false
      },
      "outputs": [],
      "source": [
        "mapdl.title(\"VM25 Stresses in a Long Cylinder - Rotation About Axis\")\n\n# Resume the Finite Element (FE) \"MODEL\" save previously\nmapdl.resume(\"MODEL\")"
      ]
    },
    {
      "cell_type": "markdown",
      "metadata": {},
      "source": [
        "Solve\n=====\n\nEnter solution mode and solve the system.\n"
      ]
    },
    {
      "cell_type": "code",
      "execution_count": null,
      "metadata": {
        "collapsed": false
      },
      "outputs": [],
      "source": [
        "mapdl.slashsolu()\n\n# Print all results\nmapdl.outpr(\"\", \"ALL\")"
      ]
    },
    {
      "cell_type": "markdown",
      "metadata": {},
      "source": [
        "Define boundary conditions\n==========================\n\nApply a displacement boundary condition in the vertical direction (UY)\nto all nodes. Rotate the cylinder with an angular velocity of 1000\nrad/sec. Also, apply dummy pressure for surface printout. Then exit\nsolution processor.\n"
      ]
    },
    {
      "cell_type": "code",
      "execution_count": null,
      "metadata": {
        "collapsed": false
      },
      "outputs": [],
      "source": [
        "mapdl.nsel(\n    \"S\", \"LOC\", \"Y\", 0\n)  # Select nodes located at Y=0 to prevent rigid body motion\nmapdl.nsel(\"R\", \"LOC\", \"X\", 4)  # Select nodes located at X=4\n# Displace all nodes in the Y-direction\nmapdl.d(\"ALL\", \"UY\")\n\nmapdl.nsel(\"S\", \"LOC\", \"X\", 4)  # Select nodes located at X=4\n# Apply a small pressure to allow stress printout\nmapdl.sf(\"\", \"PRES\", 1e-10)\n\nmapdl.nsel(\"ALL\")  # Select all nodes\n# Rotate the cylinder with an angular velocity of 1000 RAD/SEC\nmapdl.omega(\"\", 1000)\n\n# Solve the problem in load step 2 - centrifugal loading\nmapdl.solve()\n# exists solution processor\nmapdl.finish()"
      ]
    },
    {
      "cell_type": "markdown",
      "metadata": {},
      "source": [
        "Post-processing\n===============\n\nEnter post-processing. Compute displacement and stress components.\n"
      ]
    },
    {
      "cell_type": "code",
      "execution_count": null,
      "metadata": {
        "collapsed": false
      },
      "outputs": [],
      "source": [
        "mapdl.post1()"
      ]
    },
    {
      "cell_type": "markdown",
      "metadata": {},
      "source": [
        "Inline functions in PyMAPDL to query node\n=========================================\n"
      ]
    },
    {
      "cell_type": "code",
      "execution_count": null,
      "metadata": {
        "collapsed": false
      },
      "outputs": [],
      "source": [
        "q = mapdl.queries\nLFT_NODE = q.node(4, 0, 0)  # store node number to 'LFT_NODE' with coordinate (4,0,0)\nXI_NODE = q.node(\n    5.43, 0, 0\n)  # store node number to 'XI_NODE' with coordinate (5.43,0,0)"
      ]
    },
    {
      "cell_type": "markdown",
      "metadata": {},
      "source": [
        "Retrieve nodal deflection and section stresses\n==============================================\n"
      ]
    },
    {
      "cell_type": "code",
      "execution_count": null,
      "metadata": {
        "collapsed": false
      },
      "outputs": [],
      "source": [
        "rst_4_c2 = mapdl.get(\"RST_4_C2\", \"NODE\", LFT_NODE, \"S\", \"X\")\ntst_4_c2 = mapdl.get(\"TST_4_C2\", \"NODE\", LFT_NODE, \"S\", \"Z\")\nrst_x_c2 = mapdl.get(\"RST_X_C2\", \"NODE\", XI_NODE, \"S\", \"X\")\ntst_x_c2 = mapdl.get(\"TST_X_C2\", \"NODE\", XI_NODE, \"S\", \"Z\")"
      ]
    },
    {
      "cell_type": "markdown",
      "metadata": {},
      "source": [
        "Verify the results.\n===================\n"
      ]
    },
    {
      "cell_type": "code",
      "execution_count": null,
      "metadata": {
        "collapsed": false
      },
      "outputs": [],
      "source": [
        "# Set target values\ntarget_strss = [0, 4753]\ntarget_tst_strss = [40588, 29436]\n\n# Fill result values\nres_strss = [rst_4_c2, rst_x_c2]\nres_tst_strss = [tst_4_c2, tst_x_c2]\n\ntitle = f\"\"\"\n\nRESULTS FOR CASE Rotation = 1000 rad/sec:\n-----------------------------------------\n\n\"\"\"\n\ncol_headers = [\"TARGET\", \"Mechanical APDL\", \"RATIO\"]\n\n# Radial stress results comparison\nrow_headers = [\"Stress_r, psi (r = 4 in)\", \"Stress_r, psi (r = 5.43 in)\"]\n\ndata = [target_strss, res_strss, np.abs(target_strss) / np.abs(res_strss)]\n\nprint(title)\nprint(pd.DataFrame(np.transpose(data), row_headers, col_headers))\n\n# Tangential stress results comparison\nrow_headers = [\"Stress_t, psi (r = 4 in)\", \"Stress_t, psi (r = 5.43 in)\"]\n\ndata = [\n    target_tst_strss,\n    res_tst_strss,\n    np.abs(target_tst_strss) / np.abs(res_tst_strss),\n]\nprint(pd.DataFrame(np.transpose(data), row_headers, col_headers))"
      ]
    },
    {
      "cell_type": "markdown",
      "metadata": {},
      "source": [
        "Finish the post-processing processor.\n=====================================\n"
      ]
    },
    {
      "cell_type": "code",
      "execution_count": null,
      "metadata": {
        "collapsed": false
      },
      "outputs": [],
      "source": [
        "mapdl.finish()"
      ]
    },
    {
      "cell_type": "markdown",
      "metadata": {},
      "source": [
        "Stop MAPDL.\n===========\n"
      ]
    },
    {
      "cell_type": "code",
      "execution_count": null,
      "metadata": {
        "collapsed": false
      },
      "outputs": [],
      "source": [
        "mapdl.exit()"
      ]
    }
  ],
  "metadata": {
    "kernelspec": {
      "display_name": "Python 3",
      "language": "python",
      "name": "python3"
    },
    "language_info": {
      "codemirror_mode": {
        "name": "ipython",
        "version": 3
      },
      "file_extension": ".py",
      "mimetype": "text/x-python",
      "name": "python",
      "nbconvert_exporter": "python",
      "pygments_lexer": "ipython3",
      "version": "3.12.12"
    }
  },
  "nbformat": 4,
  "nbformat_minor": 0
}