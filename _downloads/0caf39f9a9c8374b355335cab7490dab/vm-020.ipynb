{
  "cells": [
    {
      "cell_type": "markdown",
      "metadata": {},
      "source": [
        "Cylindrical Membrane Under Pressure {#ref_vm20}\n===================================\n\nProblem description:\n\n:   -   A long cylindrical membrane container of diameter d and wall\n        thickness t is subjected to a uniform internal pressure P.\n        Determine the axial stress $\\sigma_1$ and the hoop stress\n        $\\sigma_2$ in the container. See VM13 for the problem sketch.\n\nReference:\n\n:   -   S. Timoshenko, Strength of Materials, Part II, Elementary Theory\n        and Problems, 3rd Edition, D. Van Nostrand Co., Inc., New York,\n        NY, 1956, pg. 121, article 25.\n\nAnalysis type(s):\n\n:   -   Static Analysis `ANTYPE=0`\n\nElement type(s):\n\n:   -   4-Node Finite Strain Shell Elements (SHELL181)\n\n![VM20 Cylindrical Membrane Problem Sketch](../_static/vm20_setup.png){width=\"400px\"}\n\nMaterial properties:\n\n:   -   $E = 30 \\cdot 10^6 psi$\n    -   $\\mu = 0.3$\n\nGeometric properties:\n\n:   -   $d = 120 in$\n    -   $t = 1 in$\n\nLoading:\n\n:   -   $p = 500 psi$\n\nAnalysis Assumptions and Modeling Notes:\n\n:   -   An arbitrary axial length is selected. Since the problem is\n        axisymmetric, only a one element sector is needed. A small angle\n        $\\theta$ = 10\u00b0 is used for approximating the circular boundary\n        with a straight-sided element. Nodal coupling is used at the\n        boundaries. An axial traction of 15,000 psi is applied to the\n        edge of the element to simulate the closed-end effect. The\n        internal pressure is applied as an equivalent negative pressure\n        on the exterior (face 1) of the element.\n"
      ]
    },
    {
      "cell_type": "code",
      "execution_count": null,
      "metadata": {
        "collapsed": false
      },
      "outputs": [],
      "source": [
        "# sphinx_gallery_thumbnail_path = '_static/vm20_setup.png'\n\n# Importing the `launch_mapdl` function from the `ansys.mapdl.core` module\nfrom ansys.mapdl.core import launch_mapdl\nimport numpy as np\nimport pandas as pd\n\n# Launch MAPDL with specified options\nmapdl = launch_mapdl(loglevel=\"WARNING\", print_com=True, remove_temp_dir_on_exit=True)\n\n# Clear the existing database\nmapdl.clear()\n\n# Run the FINISH command to exists normally from a processor\nmapdl.finish()\n\n# Set the ANSYS version\nmapdl.com(\"ANSYS MEDIA REL. 2022R2 (05/13/2022) REF. VERIF. MANUAL: REL. 2022R2\")\n\n# Run the VM20 verification\nmapdl.run(\"/VERIFY,VM20\")\n\n# Set the analysis title\nmapdl.title(\"VM20 CYLINDRICAL MEMBRANE UNDER PRESSURE\")\n\n# Enter the model creation /Prep7 preprocessor\nmapdl.prep7()"
      ]
    },
    {
      "cell_type": "markdown",
      "metadata": {},
      "source": [
        "Define element type and section properties\n==========================================\n\nUse 4-Node Structural Shell element (SHELL181) for finite strain\nmembrane. Specify key option for membrane stiffness only via setting\nKeyopt(1)=1. Include full integration via setting Keyopt(3)=2.\n"
      ]
    },
    {
      "cell_type": "code",
      "execution_count": null,
      "metadata": {
        "collapsed": false
      },
      "outputs": [],
      "source": [
        "mapdl.et(1, \"SHELL181\")  # Define element type as SHELL181\nmapdl.keyopt(1, 1, 1)  # Set key option for membrane stiffness only\nmapdl.keyopt(1, 3, 2)  # Set key option for full integration\nmapdl.sectype(1, \"SHELL\")  # Section type SHELL\nmapdl.secdata(1, 1)  # Define section data"
      ]
    },
    {
      "cell_type": "markdown",
      "metadata": {},
      "source": [
        "Define material\n===============\n\nSet up the material and its type (a single material), Young\\'s modulus\nof 30e6 and Poisson\\'s ratio NUXY of 0.3 is specified.\n"
      ]
    },
    {
      "cell_type": "code",
      "execution_count": null,
      "metadata": {
        "collapsed": false
      },
      "outputs": [],
      "source": [
        "mapdl.mp(\"EX\", 1, 30e6)  # Define modulus of elasticity\nmapdl.mp(\"NUXY\", 1, 0.3)  # Define Poisson's ratio"
      ]
    },
    {
      "cell_type": "markdown",
      "metadata": {},
      "source": [
        "Define geometry\n===============\n\nSet up the nodes and elements. This creates a mesh just like in the\nproblem setup.\n"
      ]
    },
    {
      "cell_type": "code",
      "execution_count": null,
      "metadata": {
        "collapsed": false
      },
      "outputs": [],
      "source": [
        "mapdl.csys(1)  # Define cylindrical coordinate system\n\nmapdl.n(1, 60)  # Define nodes\n\n# Define additional node with translation\nmapdl.n(2, 60, \"\", 10)\n\n# Generate additional nodes from an existing pattern\nmapdl.ngen(2, 2, 1, 2, 1, \"\", 10)\n\n# Rotate nodal coordinate system to cylindrical\nmapdl.nrotat(\"ALL\")\n\n# Define elements\nmapdl.e(1, 2, 4, 3)"
      ]
    },
    {
      "cell_type": "markdown",
      "metadata": {},
      "source": [
        "Define coupling and boundary conditions\n=======================================\n\nApply couplings and fix UZ displacement at specific node and UY\ndisplacement for all nodes. Specify axial traction= -15000 psi and\ninternal pressure= -500 psi on elements uaing SFE command. Then exit\nprep7 processor.\n"
      ]
    },
    {
      "cell_type": "code",
      "execution_count": null,
      "metadata": {
        "collapsed": false
      },
      "outputs": [],
      "source": [
        "mapdl.cp(1, \"UX\", 1, 2, 3, 4)  # Couple radial displacements\nmapdl.cp(2, \"UZ\", 2, 4)  # Couple UZ displacements\n\nmapdl.d(1, \"UZ\", \"\", \"\", 3, 2)  # Fix UZ displacement at specific node\nmapdl.d(\"ALL\", \"UY\")  # Fix UY displacement for all nodes\n\nmapdl.sfe(1, 4, \"PRES\", \"\", -15000)  # Apply axial traction on elements\nmapdl.sfe(1, 1, \"PRES\", \"\", -500)  # Apply internal pressure on elements\n\n# Selects all entities\nmapdl.allsel()\n# Element plot\nmapdl.eplot(background=\"w\")\n\n# Finish the preprocessing steps\nmapdl.finish()"
      ]
    },
    {
      "cell_type": "markdown",
      "metadata": {},
      "source": [
        "Solve\n=====\n\nEnter solution mode and solve the system.\n"
      ]
    },
    {
      "cell_type": "code",
      "execution_count": null,
      "metadata": {
        "collapsed": false
      },
      "outputs": [],
      "source": [
        "mapdl.slashsolu()\n\n# Set the analysis type to STATIC\nmapdl.antype(\"STATIC\")\n\nmapdl.outpr(\"NSOL\", 1)  # Output the nodal solution\nmapdl.outpr(\"RSOL\", 1)  # Output the result summary\n\n# Perform the solution\nmapdl.solve()\n# exists solution processor\nmapdl.finish()"
      ]
    },
    {
      "cell_type": "markdown",
      "metadata": {},
      "source": [
        "Post-processing\n===============\n\nEnter post-processing. Compute stress quantities.\n"
      ]
    },
    {
      "cell_type": "code",
      "execution_count": null,
      "metadata": {
        "collapsed": false
      },
      "outputs": [],
      "source": [
        "mapdl.post1()\n\n# Get hoop stresses at node 1\nstrs_hop = mapdl.get(\"STRS_HOP\", \"NODE\", 1, \"S\", 2)\n# Get axial stresses at node 1\nstrs_ax = mapdl.get(\"STRS_AX\", \"NODE\", 1, \"S\", 1)"
      ]
    },
    {
      "cell_type": "markdown",
      "metadata": {},
      "source": [
        "Verify the results.\n===================\n"
      ]
    },
    {
      "cell_type": "code",
      "execution_count": null,
      "metadata": {
        "collapsed": false
      },
      "outputs": [],
      "source": [
        "# Set target values\ntarget_stress = [15000, 29749]\n\n# Fill result values\nsim_res = [strs_hop, strs_ax]\n\ncol_headers = [\"TARGET\", \"Mechanical APDL\", \"RATIO\"]\nrow_headers = [\"Stress_1 (psi)\", \"Stress_2 (psi)\"]\n\ndata = [target_stress, sim_res, np.abs(target_stress) / np.abs(sim_res)]\n\ntitle = f\"\"\"\n\n------------------- VM20 RESULTS COMPARISON ---------------------\n\n\"\"\"\nprint(title)\nprint(pd.DataFrame(np.transpose(data), row_headers, col_headers))"
      ]
    },
    {
      "cell_type": "markdown",
      "metadata": {},
      "source": [
        "Finish the post-processing processor.\n=====================================\n"
      ]
    },
    {
      "cell_type": "code",
      "execution_count": null,
      "metadata": {
        "collapsed": false
      },
      "outputs": [],
      "source": [
        "mapdl.finish()"
      ]
    },
    {
      "cell_type": "markdown",
      "metadata": {},
      "source": [
        "Stop MAPDL.\n===========\n"
      ]
    },
    {
      "cell_type": "code",
      "execution_count": null,
      "metadata": {
        "collapsed": false
      },
      "outputs": [],
      "source": [
        "mapdl.exit()"
      ]
    }
  ],
  "metadata": {
    "kernelspec": {
      "display_name": "Python 3",
      "language": "python",
      "name": "python3"
    },
    "language_info": {
      "codemirror_mode": {
        "name": "ipython",
        "version": 3
      },
      "file_extension": ".py",
      "mimetype": "text/x-python",
      "name": "python",
      "nbconvert_exporter": "python",
      "pygments_lexer": "ipython3",
      "version": "3.12.12"
    }
  },
  "nbformat": 4,
  "nbformat_minor": 0
}