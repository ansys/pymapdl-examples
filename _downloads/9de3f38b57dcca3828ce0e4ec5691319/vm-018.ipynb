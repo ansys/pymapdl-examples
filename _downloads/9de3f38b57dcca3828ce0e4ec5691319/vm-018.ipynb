{
  "cells": [
    {
      "cell_type": "markdown",
      "metadata": {},
      "source": [
        "Out-of-Plane Bending of a Curved Bar {#ref_vm18}\n====================================\n\nProblem description:\n\n:   -   A portion of a horizontal circular ring, built-in at A, is\n        loaded by a vertical (Z) load F applied at the end B. The ring\n        has a solid circular cross-section of diameter d. Determine the\n        deflection $\\delta$ at end B, the maximum bending stress\n        $\\sigma_{Bend}$ , and the maximum torsional shear stress \u03c4.\n\nReference:\n\n:   -   S. Timoshenko, Strength of Materials, Part I, Elementary Theory\n        and Problems, 3rd Edition, D. Van Nostrand Co., Inc., New York,\n        NY, 1955, pg. 412, eq. 241.\n\nAnalysis type(s):\n\n:   -   Static Analysis `ANTYPE=0`\n\nElement type(s):\n\n:   -   Elastic Curved Pipe Element (PIPE18)\n    -   3-D 3 Node Pipe Element (PIPE289)\n\n![](../_static/vm18_setup1.png){.align-center width=\"400px\"}\n\n![](../_static/vm18_setup2.png){.align-center width=\"400px\"}\n\nMaterial properties:\n\n:   -   $E = 30 \\cdot 10^6 psi$\n    -   $\\mu = 0.3$\n\nGeometric properties:\n\n:   -   $r = 100 in$\n    -   $d = 2 in$\n    -   $\\theta = 90\u00b0$\n\nLoading:\n\n:   -   $F = 50 lb$\n\nAnalysis Assumptions and Modeling Notes:\n\n:   -   Node 10 is arbitrarily located on the radius of curvature side\n        of the element to define the plane of the elbow when PIPE18\n        elements are used. The wall thickness is set to half the\n        diameter for a solid bar. Since the section has no hole in the\n        middle, ovalization cannot occur and PIPE289 elements can be\n        used to determine the deflection and stresses.\n"
      ]
    },
    {
      "cell_type": "code",
      "execution_count": null,
      "metadata": {
        "collapsed": false
      },
      "outputs": [],
      "source": [
        "# sphinx_gallery_thumbnail_path = '_static/vm18_setup1.png'\n\n# Importing the `launch_mapdl` function from the `ansys.mapdl.core` module\nfrom ansys.mapdl.core import launch_mapdl\nimport numpy as np\nimport pandas as pd\n\n# Launch MAPDL with specified settings\nmapdl = launch_mapdl(loglevel=\"WARNING\", print_com=True, remove_temp_dir_on_exit=True)\n\n# Clear the existing database\nmapdl.clear()\n\n# Run the FINISH command to exists normally from a processor\nmapdl.finish()\n\n# Set the ANSYS version\nmapdl.com(\"ANSYS MEDIA REL. 2022R2 (05/13/2022) REF. VERIF. MANUAL: REL. 2022R2\")\n\n# Run the /VERIFY command\nmapdl.run(\"/VERIFY,VM18\")\n\n# Set the title of the analysis\nmapdl.title(\"VM18 OUT-OF-PLANE BENDING OF A CURVED BAR\")\n\n# Enter the model creation /Prep7 preprocessor\nmapdl.prep7()"
      ]
    },
    {
      "cell_type": "markdown",
      "metadata": {},
      "source": [
        "Define element type and real properties\n=======================================\n\nUse Elastic Curved Pipe element (PIPE18) and set KEYOPT(6)=2 for\nprinting member forces.\n"
      ]
    },
    {
      "cell_type": "code",
      "execution_count": null,
      "metadata": {
        "collapsed": false
      },
      "outputs": [],
      "source": [
        "mapdl.et(1, \"PIPE18\", \"\", \"\", \"\", \"\", \"\", 2)\n\n# Define geometry parameters (OD, wall thickness, radius) using \"r\" command (real constant)\nmapdl.r(1, 2, 1, 100)"
      ]
    },
    {
      "cell_type": "markdown",
      "metadata": {},
      "source": [
        "Define material\n===============\n\nSet up the material and its type (a single material), Young\\'s modulus\nof 30e6 and Poisson\\'s ratio NUXY of 0.3 is specified.\n"
      ]
    },
    {
      "cell_type": "code",
      "execution_count": null,
      "metadata": {
        "collapsed": false
      },
      "outputs": [],
      "source": [
        "mapdl.mp(\"EX\", 1, 30e6)\nmapdl.mp(\"NUXY\", 1, 0.3)"
      ]
    },
    {
      "cell_type": "markdown",
      "metadata": {},
      "source": [
        "Define geometry\n===============\n\nSet up the nodes and elements. This creates a mesh just like in the\nproblem setup.\n"
      ]
    },
    {
      "cell_type": "code",
      "execution_count": null,
      "metadata": {
        "collapsed": false
      },
      "outputs": [],
      "source": [
        "# Define nodes\nmapdl.n(1, 100)\nmapdl.n(2, \"\", 100)\nmapdl.n(10)\n\n# Define element\nmapdl.e(1, 2, 10)"
      ]
    },
    {
      "cell_type": "markdown",
      "metadata": {},
      "source": [
        "Define boundary conditions and load\n===================================\n\nFix all dofs at node 1. Specify nodal force F = -50 lb along Z direction\nat node 2. Then exit prep7 processor.\n"
      ]
    },
    {
      "cell_type": "code",
      "execution_count": null,
      "metadata": {
        "collapsed": false
      },
      "outputs": [],
      "source": [
        "mapdl.d(1, \"ALL\")  # Define boundary conditions\nmapdl.f(2, \"FZ\", -50)  # Define load\n\n# Selects all entities\nmapdl.allsel()\n# Element plot\nmapdl.eplot(vtk=False)\n\n# Finish preprocessing processor\nmapdl.finish()"
      ]
    },
    {
      "cell_type": "markdown",
      "metadata": {},
      "source": [
        "Solve\n=====\n\nEnter solution mode and solve the system.\n"
      ]
    },
    {
      "cell_type": "code",
      "execution_count": null,
      "metadata": {
        "collapsed": false
      },
      "outputs": [],
      "source": [
        "mapdl.slashsolu()\n\n# Set the analysis type to STATIC\nmapdl.antype(\"STATIC\")\n\n# Set output options\nmapdl.outpr(\"BASIC\", 1)\n\n# Perform the solution\nmapdl.solve()\n# exists solution processor\nmapdl.finish()"
      ]
    },
    {
      "cell_type": "markdown",
      "metadata": {},
      "source": [
        "Post-processing\n===============\n\nEnter post-processing. Compute deflection and stress quantities.\n"
      ]
    },
    {
      "cell_type": "code",
      "execution_count": null,
      "metadata": {
        "collapsed": false
      },
      "outputs": [],
      "source": [
        "mapdl.post1()\n\n# Set the current results set to the last set to be read from result file\nmapdl.set(\"LAST\")\n\n# Get displacement results at node 2 in the Z direction\ndef_z = mapdl.get(\"DEF\", \"NODE\", 2, \"U\", \"Z\")\n\n# Create an element table for bending stresses using ETABLE command\nstrs_ben = mapdl.etable(\"STRS_BEN\", \"NMISC\", 91)\n\n# Create an element table for shear stresses using ETABLE command\nstrs_shr = mapdl.etable(\"STRS_SHR\", \"LS\", 4)\n\n# Get bending stresses (ETAB: STRS_BEN) for element 1\nstrss_b = mapdl.get(\"STRSS_B\", \"ELEM\", 1, \"ETAB\", \"STRS_BEN\")\n\n# Get shear stresses (ETAB: STRS_SHR) for element 1\nstrss_t = mapdl.get(\"STRSS_T\", \"ELEM\", 1, \"ETAB\", \"STRS_SHR\")"
      ]
    },
    {
      "cell_type": "markdown",
      "metadata": {},
      "source": [
        "Verify the results.\n===================\n"
      ]
    },
    {
      "cell_type": "code",
      "execution_count": null,
      "metadata": {
        "collapsed": false
      },
      "outputs": [],
      "source": [
        "# Set target values\ntarget_val = [-2.648, 6366, -3183]\n\n# Fill result values\nsim_res = [def_z, strss_b, strss_t]\n\ncol_headers = [\"TARGET\", \"Mechanical APDL\", \"RATIO\"]\nrow_headers = [\"Deflection (in)\", \"Stress_Bend (psi)\", \"Shear Stress (psi)\"]\n\ndata = [target_val, sim_res, np.abs(target_val) / np.abs(sim_res)]\n\ntitle = f\"\"\"\n\n------------------- VM18 RESULTS COMPARISON ---------------------\n\nPIPE18:\n-------\n\"\"\"\n\nprint(title)\nprint(pd.DataFrame(np.transpose(data), row_headers, col_headers))"
      ]
    },
    {
      "cell_type": "markdown",
      "metadata": {},
      "source": [
        "Finish the post-processing processor.\n=====================================\n"
      ]
    },
    {
      "cell_type": "code",
      "execution_count": null,
      "metadata": {
        "collapsed": false
      },
      "outputs": [],
      "source": [
        "mapdl.finish()"
      ]
    },
    {
      "cell_type": "markdown",
      "metadata": {},
      "source": [
        "Clears the database without restarting.\n=======================================\n"
      ]
    },
    {
      "cell_type": "code",
      "execution_count": null,
      "metadata": {
        "collapsed": false
      },
      "outputs": [],
      "source": [
        "mapdl.run(\"/CLEAR,NOSTART\")"
      ]
    },
    {
      "cell_type": "markdown",
      "metadata": {},
      "source": [
        "Set a new title for the analysis\n================================\n"
      ]
    },
    {
      "cell_type": "code",
      "execution_count": null,
      "metadata": {
        "collapsed": false
      },
      "outputs": [],
      "source": [
        "mapdl.title(\"VM18 OUT-OF-PLANE BENDING OF A CURVED BAR Using PIPE289 ELEMENT MODEL\")"
      ]
    },
    {
      "cell_type": "markdown",
      "metadata": {},
      "source": [
        "Switches to the preprocessor (PREP7)\n====================================\n"
      ]
    },
    {
      "cell_type": "code",
      "execution_count": null,
      "metadata": {
        "collapsed": false
      },
      "outputs": [],
      "source": [
        "mapdl.prep7()"
      ]
    },
    {
      "cell_type": "markdown",
      "metadata": {},
      "source": [
        "Define element type and section properties\n==========================================\n\nUse 3-D 3-Node Pipe element (PIPE289) and set KEYOPT(4)= 2 Thick pipe\ntheory.\n"
      ]
    },
    {
      "cell_type": "code",
      "execution_count": null,
      "metadata": {
        "collapsed": false
      },
      "outputs": [],
      "source": [
        "mapdl.et(1, \"PIPE289\", \"\", \"\", \"\", 2)\nmapdl.sectype(1, \"PIPE\")  # Set section type PIPE\nmapdl.secdata(2, 1, 16)  # Set section data (OD, wall thickness)"
      ]
    },
    {
      "cell_type": "markdown",
      "metadata": {},
      "source": [
        "Define material\n===============\n\nSet up the material and its type (a single material), Young\\'s modulus\nof 30e6 and Poisson\\'s ratio NUXY of 0.3 is specified.\n"
      ]
    },
    {
      "cell_type": "code",
      "execution_count": null,
      "metadata": {
        "collapsed": false
      },
      "outputs": [],
      "source": [
        "mapdl.mp(\"EX\", 1, 30e6)\nmapdl.mp(\"NUXY\", 1, 0.3)"
      ]
    },
    {
      "cell_type": "markdown",
      "metadata": {},
      "source": [
        "Define geometry\n===============\n\nSet up the nodes and elements. This creates a mesh just like in the\nproblem setup.\n"
      ]
    },
    {
      "cell_type": "code",
      "execution_count": null,
      "metadata": {
        "collapsed": false
      },
      "outputs": [],
      "source": [
        "mapdl.csys(1)  # Set coordinate system to 1\n\nmapdl.n(1, 100)  # Define nodes\n\n# Generate additional nodes\nmapdl.ngen(19, 1, 1, \"\", \"\", \"\", 5)\n\n# Define element\nmapdl.e(1, 3, 2)\n\n# Generate additional elements from an existing pattern\nmapdl.egen(9, 2, -1)\n\n# Reset coordinate system to global\nmapdl.csys(0)"
      ]
    },
    {
      "cell_type": "markdown",
      "metadata": {},
      "source": [
        "Define boundary conditions and load\n===================================\n\nFix all dofs at node 1. Specify nodal force F = -50 lb along Z direction\nat node 19. Then exit prep7 processor.\n"
      ]
    },
    {
      "cell_type": "code",
      "execution_count": null,
      "metadata": {
        "collapsed": false
      },
      "outputs": [],
      "source": [
        "mapdl.d(1, \"ALL\")\nmapdl.f(19, \"FZ\", -50)\n\n# Selects all entities\nmapdl.allsel()\n# Element plot\nmapdl.eplot(vtk=False)\n\n# exists pre-processing processor\nmapdl.finish()"
      ]
    },
    {
      "cell_type": "markdown",
      "metadata": {},
      "source": [
        "Solve\n=====\n\nEnter solution mode and solve the system.\n"
      ]
    },
    {
      "cell_type": "code",
      "execution_count": null,
      "metadata": {
        "collapsed": false
      },
      "outputs": [],
      "source": [
        "mapdl.slashsolu()\n\n# Set the analysis type to STATIC\nmapdl.antype(\"STATIC\")\n\n# Set output options\nmapdl.outpr(\"BASIC\", 1)\n\n# Perform the solution\nmapdl.solve()\n# exists solution processor\nmapdl.finish()"
      ]
    },
    {
      "cell_type": "markdown",
      "metadata": {},
      "source": [
        "Post-processing\n===============\n\nEnter post-processing. Compute deflection and stress quantities.\n"
      ]
    },
    {
      "cell_type": "code",
      "execution_count": null,
      "metadata": {
        "collapsed": false
      },
      "outputs": [],
      "source": [
        "mapdl.post1()\n\n# Set the current results set to the last set\nmapdl.set(\"LAST\")\nmapdl.graphics(\"POWER\")  # Set graphics mode to POWER\nmapdl.eshape(1)  # Set element shape\nmapdl.view(1, 1, 1, 1)  # Set view\n\n# Get displacement results at node 19 in the Z direction\ndef_z = mapdl.get(\"DEF\", \"NODE\", 19, \"U\", \"Z\")\n\n# Create an element table for bending stresses using ETABLE command\nstrs_ben = mapdl.etable(\"STRS_BEN\", \"SMISC\", 35)\n\n# Get bending stresses (ETAB: STRS_BEN) for element 1 using ETABLE command\nstrss_b = mapdl.get(\"STRSS_B\", \"ELEM\", 1, \"ETAB\", \"STRS_BEN\")\n\n# for graphics displays\nmapdl.show(option=\"REV\")\n# Plot elemtal solution values for SXY component\nmapdl.plesol(\"S\", \"XY\")\n# Get minimum shear stress\nshear_sxy = mapdl.get(\"SHEAR\", \"PLNSOL\", 0, \"MIN\")\nmapdl.show(\"close\")"
      ]
    },
    {
      "cell_type": "markdown",
      "metadata": {},
      "source": [
        "Verify the results.\n===================\n"
      ]
    },
    {
      "cell_type": "code",
      "execution_count": null,
      "metadata": {
        "collapsed": false
      },
      "outputs": [],
      "source": [
        "# Set target values\ntarget_val = [-2.648, 6366, -3183]\n\n# Fill result values\nsim_res = [def_z, strss_b, shear_sxy]\n\ncol_headers = [\"TARGET\", \"Mechanical APDL\", \"RATIO\"]\nrow_headers = [\"Deflection (in)\", \"Stress_Bend (psi)\", \"Shear Stress (psi)\"]\n\ndata = [target_val, sim_res, np.abs(target_val) / np.abs(sim_res)]\n\ntitle = f\"\"\"\n\nPIPE289:\n--------\n\"\"\"\n\nprint(title)\nprint(pd.DataFrame(np.transpose(data), row_headers, col_headers))"
      ]
    },
    {
      "cell_type": "markdown",
      "metadata": {},
      "source": [
        "Finish the post-processing processor.\n=====================================\n"
      ]
    },
    {
      "cell_type": "code",
      "execution_count": null,
      "metadata": {
        "collapsed": false
      },
      "outputs": [],
      "source": [
        "mapdl.finish()"
      ]
    },
    {
      "cell_type": "markdown",
      "metadata": {},
      "source": [
        "Stop MAPDL.\n===========\n"
      ]
    },
    {
      "cell_type": "code",
      "execution_count": null,
      "metadata": {
        "collapsed": false
      },
      "outputs": [],
      "source": [
        "mapdl.exit()"
      ]
    }
  ],
  "metadata": {
    "kernelspec": {
      "display_name": "Python 3",
      "language": "python",
      "name": "python3"
    },
    "language_info": {
      "codemirror_mode": {
        "name": "ipython",
        "version": 3
      },
      "file_extension": ".py",
      "mimetype": "text/x-python",
      "name": "python",
      "nbconvert_exporter": "python",
      "pygments_lexer": "ipython3",
      "version": "3.12.12"
    }
  },
  "nbformat": 4,
  "nbformat_minor": 0
}