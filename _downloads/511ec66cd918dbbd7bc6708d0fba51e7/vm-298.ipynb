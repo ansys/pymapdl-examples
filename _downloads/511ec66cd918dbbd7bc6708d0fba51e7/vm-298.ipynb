{
  "cells": [
    {
      "cell_type": "markdown",
      "metadata": {},
      "source": [
        "PSD Analysis of 40-Story Building Under Wind Load Excitation {#ref_vm298}\n============================================================\n\nProblem description:\n\n:   -   A 40-story building is modeled using spring-damper (`COMBIN14`)\n        and point mass elements (`MASS21`). The stiffness represents the\n        linear elastic massless column and the mass of each floor is\n        concentrated at the floor level, as shown in Figure: Finite\n        Element Representation of 40-Story Building Using Spring-Mass\n        Damper System.\n    -   The wind load excitation is applied at discrete floor levels\n        along the wind motion. Because natural strong winds are\n        turbulent in nature with randomly fluctuating wind velocities, a\n        probabilistic approach like Power Spectral Density (PSD)\n        analysis is the most suitable approach to analyze such\n        structures. This analysis is performed to calculate the response\n        PSD of the 40th floor.\n\nReference:\n\n:   -   Yang, J.N., Lin, Y.K., \\\"Along-Wind Motion of Multistorey\n        Building\\\", ASCE Publications, April 1981.\n\nAnalysis type(s):\n\n:   -   Modal Analysis `ANTYPE=2`\n    -   PSD Analysis `ANTYPE=8`\n\nElement type(s):\n\n:   -   Spring-Damper Element (`COMBIN14`)\n    -   Structural Point Mass Element (`MASS21`)\n\n![VM298 Finite Element Representation of 40-Story Building Using Spring-Mass Damper System](../_static/vm298_setup.png){.align-center\nwidth=\"200px\"}\n\nMaterial properties:\n\n:   -   Floor mass, $m = 1.29 \\times 10^6 kg$\n    -   Column stiffness, $K = 1 \\cdot 10^9 N/m$\n    -   Damping coefficient, $\\beta = 2.155 \\times 10^4 N/m/sec$\n\nGeometric properties:\n\n:   -   Number of stories, $N = 40$\n    -   Story height, $h = 4 m$\n\nLoading (Aerodynamics Properties):\n\n:   -   Wind load tributary area, $A_w = 192 m^2$\n    -   Gradient height, $Z_g = 300 m$\n    -   Gradient wind velocity, $U_g = 44.69 m/sec$\n    -   Reference mean wind velocity at 10 m height, $U_r = 11.46 m/sec$\n    -   Drag coefficient, $C_d = 1.2$\n    -   Air density, $\\rho = 1.23 kg/m^3$\n    -   Ground surface drag coefficient, $K_o = 0.03$\n    -   Exponent for the mean-wind-profile power law, $\\alpha = 0.4$\n    -   Constant term, $C_1 = 7.7$\n\nNotes:\n\n:   -   Partly correlated wind excitation PSD spectrum (Davenport\n        spectrum) is applied at each floor. For illustration, see\n        Figure: Partly Correlated Wind Excitation PSD Spectrum\n        (Davenport Spectrum).\n\n![](../_static/vm298_setup2.png){.align-centeralign-center\nwidth=\"400px\"}\n\nAnalysis Assumptions and Modeling Notes:\n\n:   -   The 40-story building is modeled using 1-D spring-damper system\n        with one end fixed at its foundation. The motion of the tall\n        building is allowed along the wind direction only.\n    -   The damping in the structure is based on material beta damping\n        using `MP,BETD`.\n    -   The modal analysis is performed using the Lanczos eigensolver.\n        Only the first frequency is used in the subsequent PSD analysis.\n    -   The PSD analysis loading consists of partly correlated wind\n        excitation PSD applied at each of the floors. The different wind\n        spectrum curves are calculated as APDL array parameters and\n        input with `PSDVAL` and `COVAL`. In this example, the\n        displacement response PSD at the top floor is calculated and\n        compared with the reference curve. Using this calculated\n        response PSD, the standard deviation is calculated and compared\n        with the reference value.\n\nPostprocessing:\n\n:   -   Displacement response at the top floor (40th floor) is\n        calculated.\n    -   The response PSD is computed and plotted.\n    -   The standard deviation of the response PSD is calculated.\n\nReference results:\n\n:   -   Modal frequency of first mode, $\\omega_1 = 1.02 rad/sec$\n    -   Standard deviation of response PSD at the top floor,\n        $\\sigma_{X40} = 4.65\\cdot 10^{-2} m$\n\nAdditional Notes:\n\n:   -   The model uses COMBIN14 elements for spring-damper\n        representation and MASS21 elements for point mass\n        representation.\n    -   The wind load is applied as a power spectral density (PSD)\n        analysis.\n    -   The results are visualized using plots of the response PSD and\n        displacement.\n    -   The model is verified against the reference values provided in\n        the literature.\n    -   The results are consistent with the expected behavior of a\n        40-story building under wind load excitation.\n"
      ]
    },
    {
      "cell_type": "code",
      "execution_count": null,
      "metadata": {
        "collapsed": false
      },
      "outputs": [],
      "source": [
        "# sphinx_gallery_thumbnail_path = '_static/vm298_setup.png'\n\n\"\"\nimport math\nimport time\n\nfrom ansys.mapdl.core import launch_mapdl\nfrom matplotlib import pyplot as plt\nimport numpy as np\n\nmapdl = launch_mapdl(loglevel=\"WARNING\", print_com=True, remove_temp_dir_on_exit=True)\n\n# ANSYS MEDIA REL. 2025R1 (11/08/2024) REF. VERIF. MANUAL: REL. 2025R1\nmapdl.title(\"VM298,PSD ANALYSIS OF 40-STORY BUILDING UNDER WIND LOAD EXCITATION\")\n\n\"\"\"\nParameter definition\n--------------------\n\"\"\"\n\n\n_N = 40  # NUMBER OF STORIES\n_H = 4  # M, STORY HEIGHT\n_HT = _N * _H  # M, TOTAL HEIGHT\n_MASS = 1.29e6  # KG, LUMPED MASS AT FLOOR LEVEL\n_K = 1e9  # N/M, ELASTIC STIFFNESS BETWEEN FLOORS\n_BETA = 2.155e4  # N/M/SEC, DAMPING COEFFICIENT BETWEEN FLOORS\n\n# Aerodynamic parameters of wind excitation\n\n_Aw = 192  # M^2, WIND LOAD TRIBUTARY AREA\nZg = 300  # M, GRADIENT HEIGHT\n_Ug = 44.69  # M/SEC, GRADIENT WIND VELOCITY\n_Ur = 11.46  # M/SEC, REFERENCE MEAN WIND VELOCITY AT 10 M HEIGHT\n_Cd = 1.2  # DRAG COEFFICIENT\n_RHO = 1.23  # KG/M^3, AIR DENSITY\n_KO = 0.03  # GROUND SURFACE DRAG COEFFICIENT\n_ALPHA = 0.4  # EXPONENT FOR THE MEAN-WIND-PROFILE POWER LAW\n_C1 = 7.7  # CONSTANT TERM\n\n_PI = math.pi  # PI, CIRCULAR CONSTANT"
      ]
    },
    {
      "cell_type": "markdown",
      "metadata": {},
      "source": [
        "Preprocessing: Model 40-story building using 1-D spring-damper system and point mass elements\n=============================================================================================\n"
      ]
    },
    {
      "cell_type": "code",
      "execution_count": null,
      "metadata": {
        "collapsed": false
      },
      "outputs": [],
      "source": [
        "mapdl.prep7(mute=True)\n\n# Add nodes along x-axis for spring-damper elements\n\nfor i in range(1, _N + 2):\n    mapdl.n(i, 0, _H * (i - 1), 0)\n\n# Spring-damper elements\n\nmapdl.et(1, 14)\nmapdl.keyopt(1, 2, 1)\nmapdl.r(1, _K, _BETA)\nmapdl.type(1)\nmapdl.real(1)\nmapdl.mat(1)\n\n# Add nodes for mass elements\n\nfor i in range(1, _N + 1):\n    mapdl.e(i, i + 1)\n\n# Add point mass elements\n\nmapdl.et(2, 21)\nmapdl.keyopt(2, 3, 2)\nmapdl.r(2, _MASS)\nmapdl.type(2)\nmapdl.real(2)\nmapdl.mat(2)\nmaxnod = mapdl.get(\"MAXNOD\", \"NODE\", 0, \"NUM\", \"MAX\")\n\n# Add point mass elements at each floor\n\nfor i in range(2, int(maxnod + 1)):\n    mapdl.e(i)\n\n# Add node components\n\nmapdl.nsel(\"S\", \"LOC\", \"Y\", 0)\nmapdl.cm(\"NODE_BASE\", \"NODE\")\nmapdl.nsel(\"INVE\")\nmapdl.cm(\"NODE_FLOOR\", \"NODE\")\nmapdl.allsel(\"ALL\", \"ALL\")\n\n# Add boundary conditions\n\nmapdl.cmsel(\"S\", \"NODE_BASE\")\nmapdl.d(\"ALL\", \"ALL\")\nmapdl.allsel(\"ALL\", \"ALL\")\nmapdl.cmsel(\"S\", \"NODE_FLOOR\")\nmapdl.d(\"ALL\", \"UY\")\nmapdl.d(\"ALL\", \"UZ\")\nmapdl.allsel(\"ALL\", \"ALL\")\n\n# Display element plot\n\nmapdl.eplot()\n\nmapdl.finish()"
      ]
    },
    {
      "cell_type": "markdown",
      "metadata": {},
      "source": [
        "Modal analysis\n==============\n\nPerform modal analysis to obtain the first mode frequency and prepare\nfor the PSD analysis.\n"
      ]
    },
    {
      "cell_type": "code",
      "execution_count": null,
      "metadata": {
        "collapsed": false
      },
      "outputs": [],
      "source": [
        "NMODES = 1\nmapdl.slashsolu()\nmapdl.antype(\"MODAL\")\nmapdl.modopt(\"LANB\", NMODES)\nmapdl.mxpand()\n\nmapdl.solve()\nmapdl.finish()\n\n# Circular frequency of first mode\n\nfreq_1 = mapdl.get(\"FREQ_1\", \"MODE\", 1, \"FREQ\")\nOMG_1 = 2 * _PI * freq_1\n\nprint(\"freq:\", freq_1)\nprint(\"omg:\", OMG_1)\n\n# Define frequency parameters\n\nFREQ_PTS = 120  # Wind load spectrum input\nFREQ_BEGIN = 1e-03  # Beginning of frequency range in rad/sec\nFREQ_END = 2 / (2 * _PI)  # End of frequency range in rad/sec\nFREQ_INC = (FREQ_END - FREQ_BEGIN) / FREQ_PTS  # Frequency increment in rad/sec\n\n# Frequency table (Hz)\n\nmapdl.dim(\"FREQ_ARRAY\", \"ARRAY\", FREQ_PTS)\nmapdl.vfill(\"FREQ_ARRAY\", \"RAMP\", FREQ_BEGIN, FREQ_INC)\nFREQ_ARRAY = mapdl.parameters[\"FREQ_ARRAY\"]\n\n# Circular frequency table in rad/s\n\nOMG_BEG = 2 * _PI * FREQ_BEGIN\nOMG_INC = 2 * _PI * FREQ_INC\nmapdl.dim(\"OMG_ARRAY\", \"ARRAY\", FREQ_PTS)\nmapdl.vfill(\"OMG_ARRAY\", \"RAMP\", OMG_BEG, OMG_INC)\nOMG_ARRAY = mapdl.parameters[\"OMG_ARRAY\"]\n\n# Table of direct and cospectral input PSD wind spectrum values (Davenport)\n# Create a 2D array for direct input PSD wind spectrum values\n\nmapdl.dim(\"COPHIFF\", \"ARRAY\", _N, _N, FREQ_PTS)\nmapdl.vfill(\"COPHIFF\", \"DATA\", 0.0)\nCOPHIFF = mapdl.parameters[\"COPHIFF\"]\n\n# Compute the direct and cospectral input PSD wind spectrum values\n\nstart_time = time.time()\n\nfor j in range(1, _N):\n    _uj = _Ug * ((j * _H) / Zg) ** _ALPHA\n    _vj = 0.5 * _RHO * _Aw * _Cd * (_uj) ** 2\n    for k in range(j, _N):\n        _uk = _Ug * ((k * _H) / Zg) ** _ALPHA\n        _vk = 0.5 * _RHO * _Aw * _Cd * (_uk) ** 2\n        COEFV = (4 * _vj * _vk) * (2 * _KO * _Ur**2)\n        COEFU = _uj * _uk\n        for i in range(FREQ_PTS):\n            OMG = OMG_ARRAY[i]\n            TERM1 = (600 * OMG / (_PI * _Ur)) ** 2\n            TERM1 = TERM1 / (1 + TERM1) ** (4 / 3)\n            EXPO = -(_C1 * OMG * (abs(j - k)) * _H) / (2 * _PI * _Ur)\n            exp_term = math.exp(EXPO)\n            con = COEFV * TERM1 * exp_term / (COEFU * OMG)\n            COPHIFF[j, k, i] = con\n\nend_time = time.time()\nelapsed_time = end_time - start_time\nprint(f\"Elapsed time: {elapsed_time} seconds\")"
      ]
    },
    {
      "cell_type": "markdown",
      "metadata": {},
      "source": [
        "PSD analysis\n============\n"
      ]
    },
    {
      "cell_type": "code",
      "execution_count": null,
      "metadata": {
        "collapsed": false
      },
      "outputs": [],
      "source": [
        "mapdl.slashsolu()\n# Perform spectrum analysis\nmapdl.antype(\"SPECTRUM\")\n# Power Spectral Density analysis\nmapdl.spopt(\"PSD\")\n\n# Conversion factor from 2-sided input PSD in m^2/rad/s to 1-sided input PSD in m^2/Hz.\n_FACT = 4 * _PI\n\nstart_time = time.time()\n\nwith mapdl.non_interactive:\n    for j in range(1, _N):\n        # SET PSD UNIT FOR WIND FORCE\n        mapdl.psdunit(j, \"FORC\")\n        for k in range(j, _N):\n            for i in range(FREQ_PTS):\n                mapdl.psdfrq(j, k, FREQ_ARRAY[i][0])\n                if j == k:\n                    mapdl.psdval(j, COPHIFF[j, j, i] * _FACT)\n                else:\n                    mapdl.coval(j, k, COPHIFF[j, k, i] * _FACT)\n        if j == 40:\n            mapdl.show(\"PNG\", \"REV\")\n            mapdl.plopts(\"DATE\", 0)\n            # DISPLAY APPLIED WIND EXCITATION PSD SPECTRUM\n            mapdl.psdgraph(j - 1, j, 3)\n        if j == 1:\n            mapdl.show(\"PNG\", \"REV\")\n            mapdl.plopts(\"DATE\", 0)\n            mapdl.psdgraph(j - 1, j, 3)\n        # DELETE PREVIOUS WIND SPECTRUM LOAD\n        mapdl.fdele(j, \"FX\")\n        # APPLY WIND LOAD ALONG X-DIRECTION\n        mapdl.f(j + 1, \"FX\", 1.0)\n        # PERFORM THE PARTICIPATION FACTOR CALCULATION\n        mapdl.pfact(j, \"NODE\")\n\nmapdl.screenshot()\nmapdl.show(\"CLOSE\")\n\nend_time = time.time()\nelapsed_time = end_time - start_time\nprint(f\"Elapsed time: {elapsed_time} seconds\")\n\n# DELETE PREVIOUS NODAL WIND FORCE\nmapdl.fdele(node=\"ALL\", lab=\"FX\")\n# DISPLACEMENT RESPONSE (RELATIVE BY DEFAULT)\nmapdl.psdres(lab=\"DISP\")\n# PSD MODE COMBINATION (USE DEFAULT TOLERANCE)\nmapdl.psdcom()"
      ]
    },
    {
      "cell_type": "markdown",
      "metadata": {},
      "source": [
        "Solve the PSD analysis\n======================\n"
      ]
    },
    {
      "cell_type": "code",
      "execution_count": null,
      "metadata": {
        "collapsed": false
      },
      "outputs": [],
      "source": [
        "mapdl.solve()\nmapdl.finish()"
      ]
    },
    {
      "cell_type": "markdown",
      "metadata": {},
      "source": [
        "Post-processing\n===============\n"
      ]
    },
    {
      "cell_type": "code",
      "execution_count": null,
      "metadata": {
        "collapsed": false
      },
      "outputs": [],
      "source": [
        "# Post-processing in POST1\n# ~~~~~~~~~~~~~~~~~~~~~~~~\n\nmapdl.post1()\nmapdl.set(3, 1)\nmapdl.nsel(\"\", \"NODE\", \"\", 41)\n# Reactivates suppressed printout\nmapdl.gopr()\n\n# 1-sigma displacement solution\nprnsol_u = mapdl.prnsol(\"U\")\nprint(\"1-SIGMA DISPLACEMENT SOLUTION:\", prnsol_u)\n\nmapdl.finish()"
      ]
    },
    {
      "cell_type": "markdown",
      "metadata": {},
      "source": [
        "Post-processing in POST26 (time-history postprocessing)\n=======================================================\n"
      ]
    },
    {
      "cell_type": "code",
      "execution_count": null,
      "metadata": {
        "collapsed": false
      },
      "outputs": [],
      "source": [
        "mapdl.post26()\n\n# USER-DEFINED FREQUENCY 6.36E-03 HZ (0.04 RAD/SEC)\nmapdl.store(lab=\"PSD\", freq=\"6.36E-03\")\n# STORE DISPLACEMENT UX OF 40TH FLOOR\nN41_UX = mapdl.nsol(nvar=\"2\", node=\"41\", item=\"U\", comp=\"X\")\n# STORE RESPONSE PSD IN M2/HZ (ONE-SIDED)\nPSD_UX_HZ = mapdl.rpsd(ir=\"3\", ia=\"2\", itype=\"1\", datum=\"2\", name=\"RPSD_UX_HZ\")\n\n# GET THE CIRCULAR FREQUENCY AS A VARIABLE (AS ON REFERENCE PLOT FIG.2)\nmapdl.vget(par=\"FREQ\", ir=\"1\")\n\nmapdl.parameters[\"factr\"] = _FACT / 2\nfact = mapdl.vfact(\"factr\")\n\n# mapdl.voper(parr='OMEGA', par1='FREQ', oper='MAX', par2='FREQ')\nmapdl.voper(\"OMEGA\", \"FREQ\", \"MAX\", \"FREQ\")\n\nmapdl.vput(par=\"OMEGA\", ir=\"4\", name=\"OMEGA\")\n\n# GET THE RPSD 2-SIDED IN M2/RAD/S (AS ON REFERENCE PLOT FIG.2)\nmapdl.vget(par=\"RPSD_UX_HZ\", ir=\"3\")\n\nmapdl.parameters[\"inv_fact\"] = 1 / _FACT\nmapdl.vfact(factr=\"inv_fact\")\n\n# voper(parr='', par1='', oper='', par2='', con1='', con2='', **kwargs)\nmapdl.voper(parr=\"RPSD_UX\", par1=\"RPSD_UX_HZ\", oper=\"MAX\", par2=\"RPSD_UX_HZ\")\n\n# vput(par='', ir='', tstrt='', kcplx='', name='', **kwargs)\nmapdl.vput(par=\"RPSD_UX\", ir=\"5\", name=\"RPSD_UX\")\n\n# PLOT RPSD LIN-LOG (AS ON REFERENCE PLOT FIG.2)\nmapdl.show(\"PNG\", \"REV\")\nmapdl.axlab(\"X\", \"FREQUENCY, [RAD/SEC]\")\nmapdl.axlab(\"Y\", \"RPSD OF TOP FLOOR,[M**2.SEC/RAD]\")\nmapdl.yrange(ymin=\"1e-5\", ymax=\"1e-1\")\nmapdl.gropt(lab=\"LOGY\", key=\"ON\")\n\n# Specifies the X variable to be displayed\nmapdl.xvar(n=\"4\")\n\n# The frequency distribution of the displacement response PSD at the top floor X_40\n# is shown in the following figure. It is typical of wind response of tall structures.\n# The first peak occurring around 0.04 rad/sec is due to the maximum of the wind spectrum\n# (quasi-static response). The second peak occurring around 1.08 rad/sec coincides with\n# the first natural frequency of the building (dynamic response).\n\nmapdl.plvar(nvar1=\"5\")\n\nmapdl.screenshot()\nmapdl.show(\"CLOSE\")"
      ]
    },
    {
      "cell_type": "markdown",
      "metadata": {},
      "source": [
        "Post-process PSD response plot using Matplotlib\n"
      ]
    },
    {
      "cell_type": "code",
      "execution_count": null,
      "metadata": {
        "collapsed": false
      },
      "outputs": [],
      "source": [
        "ndim = len(mapdl.parameters[\"RPSD_UX\"])\n\n# store MAPDL results to python variables\nmapdl.dim(\"frequencies\", \"array\", ndim, 1)\nfrequencies = mapdl.vget(\"frequencies(1)\", 4)\n\n# store MAPDL results to python variables\nmapdl.dim(\"response\", \"array\", ndim, 1)\nresponse = mapdl.vget(\"response(1)\", 5)\n\n# use Matplotlib to create graph\nfig = plt.figure()\nax = fig.add_subplot(111)\n# plt.xscale(\"log\")\nplt.yscale(\"log\")\nplt.ylim(1e-5, 1e-1)\nplt.xlim(1e-2, 2)\nax.plot(frequencies, response)\nax.set_xlabel(\"FREQUENCY, [RAD/SEC]\")\nax.set_ylabel(\"RPSD OF TOP FLOOR,[M**2.SEC/RAD]\")\nfig.show()"
      ]
    },
    {
      "cell_type": "markdown",
      "metadata": {},
      "source": [
        "The above figure is plotted using lin-log scale to match Figure 2 in the\nreference. To better show the general shape of the response PSD, it is\nplotted using a log-log scale in the figure below.\n\nBoth plots are not the default response PSD (1-sided with m\\^2/Hz\nunits). APDL operations are done on the results to obtain the 2-sided\nresponse PSD expressed in m\\^2/rad/s as is presented in the reference\narticle.\n"
      ]
    },
    {
      "cell_type": "markdown",
      "metadata": {},
      "source": [
        "Post-process PSD response using Matplotlib - Log-Log Scale\n"
      ]
    },
    {
      "cell_type": "code",
      "execution_count": null,
      "metadata": {
        "collapsed": false
      },
      "outputs": [],
      "source": [
        "# PLOT RPSD LOG-LOG\nmapdl.show(\"PNG\", \"REV\")\nmapdl.axlab(\"X\", \"FREQUENCY, [RAD/SEC]\")\nmapdl.axlab(\"Y\", \"RPSD OF TOP FLOOR,[M**2.SEC/RAD]\")\nmapdl.xrange(xmin=\"1E-2\", xmax=\"2\")\nmapdl.gropt(lab=\"LOGX\", key=\"ON\")\n\nmapdl.plvar(nvar1=\"5\")\n\nmapdl.screenshot()\nmapdl.show(\"CLOSE\")"
      ]
    },
    {
      "cell_type": "markdown",
      "metadata": {},
      "source": [
        "Use Matplotlib to create graph\n"
      ]
    },
    {
      "cell_type": "code",
      "execution_count": null,
      "metadata": {
        "collapsed": false
      },
      "outputs": [],
      "source": [
        "fig = plt.figure()\nax = fig.add_subplot(111)\nplt.xscale(\"log\")\nplt.yscale(\"log\")\nplt.ylim(1e-5, 1e-1)\nplt.xlim(1e-2, 2)\nax.plot(frequencies, response)\nax.set_xlabel(\"FREQUENCY, [RAD/SEC]\")\nax.set_ylabel(\"RPSD OF TOP FLOOR,[M**2.SEC/RAD]\")\nplt.show()"
      ]
    },
    {
      "cell_type": "markdown",
      "metadata": {},
      "source": [
        "Compute the standard deviation of the response PSD\n"
      ]
    },
    {
      "cell_type": "code",
      "execution_count": null,
      "metadata": {
        "collapsed": false
      },
      "outputs": [],
      "source": [
        "# 1-SIGMA DISPLACEMENT SOLUTION FROM POST26 (RPSD INTEGRATION)\nmapdl.int1(ir=\"6\", iy=\"3\", ix=\"1\")\n\n# VARIANCE\nd_variance = mapdl.get(\n    par=\"D_VARIANCE\", entity=\"VARI\", entnum=\"6\", item1=\"EXTREME\", it1num=\"VLAST\"\n)\n\n# STANDARD DEVIATION\nrms_value = math.sqrt(d_variance)\n\n# REFERENCE STANDARD DEVIATION VALUE, SigmaX40 = 4.65E-2 M\nprint(f\"rms_value={rms_value:0.2f}\")\n\nmapdl.finish()"
      ]
    },
    {
      "cell_type": "markdown",
      "metadata": {},
      "source": [
        "Verify the results\n==================\n"
      ]
    },
    {
      "cell_type": "code",
      "execution_count": null,
      "metadata": {
        "collapsed": false
      },
      "outputs": [],
      "source": [
        "from tabulate import tabulate\n\n# Set target values\ntarget_freq = 1.02\ntarget_rms = 0.0465\n\n# Fill result values\nsim_freq_res = OMG_1\nsim_rms_res = rms_value\n\n\n# Using the computed displacement response PSD, the standard deviation is computed\n# by integration and square root operations. It matches the 1-sigma displacement\n# obtained directly in POST1 at load step 3 - substep 1. It is compared with the\n# reference in the table below.\n\nheaders = [\"Units\", \"TARGET\", \"Mechanical APDL\", \"RATIO\"]\ndata_freq = [\n    [\n        \"FREQ (rad/sec)\",\n        target_freq,\n        sim_freq_res,\n        np.abs(sim_freq_res) / np.abs(target_freq),\n    ]\n]\ndata_rms = [\n    [\"RMS Value (m)\", target_rms, sim_rms_res, np.abs(sim_rms_res) / np.abs(target_rms)]\n]\n\nprint(\n    f\"\"\"\n------------------- VM298 RESULTS COMPARISON ---------------------\nMODAL FREQUENCY\n\n{tabulate(data_freq, headers=headers)}\n\nSTANDARD DEVIATION OF RESPONSE PSD\n\n{tabulate(data_rms, headers=headers)}\n\n\"\"\"\n)"
      ]
    },
    {
      "cell_type": "markdown",
      "metadata": {},
      "source": [
        "Stop MAPDL.\n"
      ]
    },
    {
      "cell_type": "code",
      "execution_count": null,
      "metadata": {
        "collapsed": false
      },
      "outputs": [],
      "source": [
        "mapdl.exit()\n\n\"\""
      ]
    }
  ],
  "metadata": {
    "kernelspec": {
      "display_name": "Python 3",
      "language": "python",
      "name": "python3"
    },
    "language_info": {
      "codemirror_mode": {
        "name": "ipython",
        "version": 3
      },
      "file_extension": ".py",
      "mimetype": "text/x-python",
      "name": "python",
      "nbconvert_exporter": "python",
      "pygments_lexer": "ipython3",
      "version": "3.12.12"
    }
  },
  "nbformat": 4,
  "nbformat_minor": 0
}