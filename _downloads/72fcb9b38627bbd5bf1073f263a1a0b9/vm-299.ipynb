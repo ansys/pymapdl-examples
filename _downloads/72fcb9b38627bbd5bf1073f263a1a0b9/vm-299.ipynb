{
  "cells": [
    {
      "cell_type": "markdown",
      "metadata": {},
      "source": [
        "Sound Diffusion in a Flat Room {#ref_vm299}\n==============================\n\nProblem description:\n\n:   -   Sound diffusion is modeled in a flat room of size 30 x 30 x 3\n        $m^3$. A sound source is placed at (2,2,1) with a sound power\n        level of $1 \\cdot 10^-2 W$. The wall absorption coefficient is\n        equal to 0.1. The coefficient of atmospheric attenuation is\n        $0.01 m^-1$.\n\nReference:\n\n:   -   A.BILLON,J.PICAUT,\\'INTRODUCING ATMOSPHERIC ATTENUATION WITHIN A\n        DIFFUSION MODEL FOR ROOM-ACOUSTIC PREDICTIONS MARCH 2008.\n\nAnalysis type(s):\n\n:   -   Static Analysis `ANTYPE=0`\n\nElement type(s):\n\n:   -   3D 20-Node Acoustic Solid (FLUID220)\n\n![VM299 Finite Element Model of a Flat Room](../_static/vm299_setup.png){width=\"400px\"}\n\nMaterial properties:\n\n:   -   Speed of sound, $c_0 = 343 m/s$\n    -   Density, $\\rho = 1.21 kg/m^3$\n    -   Wall absorption coefficient, $\\alpha = 0.1$\n    -   Atmospheric attenuation coefficient attn. = $0.01 m^-1$\n\nGeometric properties:\n\n:   -   Room length = $30 m$\n    -   Room width = $30 m$\n    -   Room height = $3 m$\n\nLoading:\n\n:   -   Sound power source = $1 \\cdot 10^{-2} W$\n\nAnalysis Assumptions and Modeling Notes:\n\n:   -   Steady analysis is performed to determine the sound pressure\n        level inside the room. In the post-processing, the sound\n        pressure level (SPL) is listed every 2 m along a line passing\n        through the room center at 1 m high. The sound pressure level is\n        calculated in Mechanical APDL as:\n\n        $SPL = 10 \\times \\log_{10} \\times \\frac{\\rho \\times c_0^2 \\times w}{P_{ref}^2}$\n\n    where w is diffuse sound energy and reference pressure\n    $P_{ref} = 2 \\times 10^{-5}$.\n"
      ]
    },
    {
      "cell_type": "code",
      "execution_count": null,
      "metadata": {
        "collapsed": false
      },
      "outputs": [],
      "source": [
        "# sphinx_gallery_thumbnail_path = '_static/vm299_setup.png'\n\nimport math\n\n# Importing the `launch_mapdl` function from the `ansys.mapdl.core` module\nfrom ansys.mapdl.core import launch_mapdl\nimport numpy as np\n\n# Launch MAPDL with specified options\nmapdl = launch_mapdl(loglevel=\"WARNING\", print_com=True, remove_temp_dir_on_exit=True)\n# Clear the current database\nmapdl.clear()\n\n# Run the FINISH command to exists normally from a processor\nmapdl.finish()\n\n# Set the ANSYS version\nmapdl.com(\"ANSYS MEDIA REL. 2022R2 (05/13/2022) REF. VERIF. MANUAL: REL. 2022R2\")\n\n# Run the /VERIFY command for VM299\nmapdl.run(\"/VERIFY,VM299\")\n\n# Set the title of the analysis\nmapdl.title(\"VM299 SOUND PRESSURE LEVEL IN A FLAT ROOM\")\n\n# Entering the PREP7 environment in MAPDL\nmapdl.prep7()\n\n# It is not recommended to use '/NOPR' in a normal PyMAPDL session.\nmapdl._run(\"/NOPR\")\n\n# Constant value of PI\npi = math.pi\n\n# Set parameters for ROOM SIZE\nLX = 30\nLY = 30\nLZ = 3\nVOL = LX * LY * LZ\nSURF = 2 * (LX * LY + LY * LZ + LX * LZ)\nMFP = 4 * VOL / SURF\n\n# set parameters for MATERIAL PROPERTIES\nC0 = 343\nRHO = 1.21\nROOMD = MFP * C0 / 3\nATTN_Val = 0.01\nROOMDP = ROOMD / (1.0 + ATTN_Val * MFP)\nALPHA = 0.1\nWS = 1.0e-2"
      ]
    },
    {
      "cell_type": "markdown",
      "metadata": {},
      "source": [
        "Define material\n===============\n\nSet up the material and its type (a single material), density, speed of\nsound wall absorption coefficient and Atmospheric attenuation\ncoefficient is specified.\n"
      ]
    },
    {
      "cell_type": "code",
      "execution_count": null,
      "metadata": {
        "collapsed": false
      },
      "outputs": [],
      "source": [
        "mapdl.mp(\"DENS\", 1, RHO)\nmapdl.mp(\"SONC\", 1, C0)\nmapdl.tb(\"AFDM\", 1, \"\", \"\", \"ROOM\")\nmapdl.tbdata(1, ROOMDP, ATTN_Val)"
      ]
    },
    {
      "cell_type": "markdown",
      "metadata": {},
      "source": [
        "Define geometry\n===============\n\nSet up the nodes and elements. This creates a mesh just like in the\nproblem setup.\n"
      ]
    },
    {
      "cell_type": "code",
      "execution_count": null,
      "metadata": {
        "collapsed": false
      },
      "outputs": [],
      "source": [
        "H = 0.5\na = np.array([0, 2.0, LX])\nb = np.array([0, 2.0, LY])\nc = np.array([0, 2.0, LZ])\nfor i in range(2):\n    for j in range(2):\n        for k in range(2):\n            mapdl.block(a[i], a[i + 1], b[j], b[j + 1], c[k], c[k + 1])\n# mapdl.aplot()\n\n# Generates new volumes by \u201cgluing\u201d volumes.\nmapdl.vglue(\"ALL\")\n# Define element, 3-D Acoustic Fluid 20-Node Solid Element\nmapdl.et(1, 220, 3, 4)\nmapdl.type(1)  # set element type, Type=1\nmapdl.mat(1)  # set material type, MAT=1\nmapdl.esize(H)  # Specifies the element size.\n\n# Generates nodes and volume elements within volumes.\nmapdl.vmesh(9, 15, 1)\n\n# For elements that support multiple shapes, specifies the element shape, set mshape=3D\nmapdl.mshape(0, \"3D\")\n# Generates nodes and volume elements within volumes.\nmapdl.vmesh(1)\n# select nodes of specified location\nmapdl.nsel(\"S\", \"LOC\", \"X\", 0)\nmapdl.nsel(\"A\", \"LOC\", \"X\", LX)\nmapdl.nsel(\"A\", \"LOC\", \"Y\", 0)\nmapdl.nsel(\"A\", \"LOC\", \"Y\", LY)\nmapdl.nsel(\"A\", \"LOC\", \"Z\", 0)\nmapdl.nsel(\"A\", \"LOC\", \"Z\", LZ)"
      ]
    },
    {
      "cell_type": "markdown",
      "metadata": {},
      "source": [
        "Define boundary conditions\n==========================\n\nDefine Absorption coefficient and transmission loss.Define Mass source;\nmass source rate; or power source in an energy diffusion solution for\nroom acoustics. Then exit prep7 processor.\n\nEffectiely, this sets: - Sound power source = $1 \\cdot 10^{-2} W$\n"
      ]
    },
    {
      "cell_type": "code",
      "execution_count": null,
      "metadata": {
        "collapsed": false
      },
      "outputs": [],
      "source": [
        "mapdl.sf(\"ALL\", \"ATTN\", ALPHA)\n# Selects all entities\nmapdl.allsel()\n# select nodes of specified location\nmapdl.nsel(\"S\", \"LOC\", \"X\", a[1])\nmapdl.nsel(\"R\", \"LOC\", \"Y\", b[1])\nmapdl.nsel(\"R\", \"LOC\", \"Z\", c[1])\n\nmapdl.bf(\"ALL\", \"MASS\", WS)\n\n# Selects all entities\nmapdl.allsel()\nmapdl.eplot()\n# Finish pre-processing processor\nmapdl.finish()"
      ]
    },
    {
      "cell_type": "markdown",
      "metadata": {},
      "source": [
        "Solve\n=====\n\nEnter solution mode and solve the system.\n"
      ]
    },
    {
      "cell_type": "code",
      "execution_count": null,
      "metadata": {
        "collapsed": false
      },
      "outputs": [],
      "source": [
        "mapdl.slashsolu()\n# SOLVE STATIC ANALYSIS\nmapdl.solve()\n# exists solution processor\nmapdl.finish()"
      ]
    },
    {
      "cell_type": "markdown",
      "metadata": {},
      "source": [
        "Post-processing\n===============\n\nEnter post-processing and read results set\n"
      ]
    },
    {
      "cell_type": "code",
      "execution_count": null,
      "metadata": {
        "collapsed": false
      },
      "outputs": [],
      "source": [
        "mapdl.post1()\n# Set the current results set to the last set to be read from result file\nmapdl.set(\"LAST\")\n# Defines a path name and establishes parameters for the path\nmapdl.path(\"X_SPL\", 2, \"\", 15)\nmapdl.ppath(1, \"NODE\", 0, 15, 1)\nmapdl.ppath(2, \"NODE\", 30, 15, 1)\n# Interpolates an item onto a path.\nmapdl.pdef(\"UX\", \"U\", \"X\", \"NOAV\")\nmapdl.pdef(\"SPLX\", \"SPL\", \"\", \"NOAV\")\n\n# redirects output to the default system output file\nmapdl.run(\"/OUT\")\n\n# Prints path items along a geometry path.\nmapdl.prpath(\"UX\", \"SPLX\")\n\n# redirects solver output to a file named \"SCRATCH\"\nmapdl.run(\"/OUT,SCRATCH\")\n# Sets various line graph display options\n# DIVX: Determines the number of divisions (grid markers) that will be plotted on the X\nmapdl.gropt(\"DIVX\", 15)\n# Specifies a linear ordinate (Y) scale range.\nmapdl.yrange(71, 82)\n# DIVY: Determines the number of divisions (grid markers) that will be plotted on the Y\nmapdl.gropt(\"DIVY\", 11)\n# Specifies the device and other parameters for graphics displays.\n# Creates PNG (Portable Network Graphics) files that are named Jobnamennn.png\nmapdl.show(\"PNG\", \"rev\")\n\nmapdl.plpath(\"UX\", \"SPLX\")  # Displays path items on a graph.\nmapdl.show(\"CLOSE\")  # This option purges the graphics file buffer."
      ]
    },
    {
      "cell_type": "markdown",
      "metadata": {},
      "source": [
        "Inline functions in PyMAPDL to query node\n=========================================\n"
      ]
    },
    {
      "cell_type": "code",
      "execution_count": null,
      "metadata": {
        "collapsed": false
      },
      "outputs": [],
      "source": [
        "q = mapdl.queries\nn1 = q.node(5, 15, 1)\nn2 = q.node(10, 15, 1)\nn3 = q.node(15, 15, 1)\nn4 = q.node(20, 15, 1)\nn5 = q.node(25, 15, 1)"
      ]
    },
    {
      "cell_type": "markdown",
      "metadata": {},
      "source": [
        "Post-processing: Compute sound pressure level (SPL)\n===================================================\n"
      ]
    },
    {
      "cell_type": "code",
      "execution_count": null,
      "metadata": {
        "collapsed": false
      },
      "outputs": [],
      "source": [
        "en_1 = mapdl.get(\"EN_1\", \"NODE\", n1, \"ENKE\")\nen_2 = mapdl.get(\"EN_2\", \"NODE\", n2, \"ENKE\")\nen_3 = mapdl.get(\"EN_3\", \"NODE\", n3, \"ENKE\")\nen_4 = mapdl.get(\"EN_4\", \"NODE\", n4, \"ENKE\")\nen_5 = mapdl.get(\"EN_5\", \"NODE\", n5, \"ENKE\")\n\nPREF = 2e-5\nx1 = (RHO * en_1 * C0**2) / PREF**2\nx2 = (RHO * en_2 * C0**2) / PREF**2\nx3 = (RHO * en_3 * C0**2) / PREF**2\nx4 = (RHO * en_4 * C0**2) / PREF**2\nx5 = (RHO * en_5 * C0**2) / PREF**2\nSPL_1 = 10 * (math.log10(x1))\nSPL_2 = 10 * (math.log10(x2))\nSPL_3 = 10 * (math.log10(x3))\nSPL_4 = 10 * (math.log10(x4))\nSPL_5 = 10 * (math.log10(x5))\n\n# Fill the target tesult values in array\ntarget_ref = np.array([80.0, 79.0, 77.5, 76.0, 74.5])\n\n# Fill the simulated result values in array\nvalue = np.array([SPL_1, SPL_2, SPL_3, SPL_4, SPL_5])\n\n# store ratio\nvalue_ratio = []\nfor i in range(len(target_ref)):\n    a = value[i] / target_ref[i]\n    value_ratio.append(a)\n\n# assign labels position in meter\nlabel = np.array([5, 10, 15, 20, 25])"
      ]
    },
    {
      "cell_type": "markdown",
      "metadata": {},
      "source": [
        "Verify the results.\n===================\n"
      ]
    },
    {
      "cell_type": "code",
      "execution_count": null,
      "metadata": {
        "collapsed": false
      },
      "outputs": [],
      "source": [
        "message = f\"\"\"\n------------------- VM299 RESULTS COMPARISON ---------------------\n   SPL at Position, X(m)  |  TARGET     |   Mechanical APDL  |   RATIO\n-----------------------------------------------------------------\n\"\"\"\nprint(message)\n\nfor i in range(len(target_ref)):\n    message = f\"\"\"\n    {label[i]:.5f}          {target_ref[i]:.5f}           {value[i]:.5f}       {value_ratio[i]:.5f}\n    \"\"\"\n    print(message)\n\nmessage = f\"\"\"\n-----------------------------------------------------------------\n\"\"\"\nprint(message)"
      ]
    },
    {
      "cell_type": "markdown",
      "metadata": {},
      "source": [
        "Finish the post-processing processor.\n=====================================\n"
      ]
    },
    {
      "cell_type": "code",
      "execution_count": null,
      "metadata": {
        "collapsed": false
      },
      "outputs": [],
      "source": [
        "mapdl.finish()"
      ]
    },
    {
      "cell_type": "markdown",
      "metadata": {},
      "source": [
        "Stop MAPDL.\n===========\n"
      ]
    },
    {
      "cell_type": "code",
      "execution_count": null,
      "metadata": {
        "collapsed": false
      },
      "outputs": [],
      "source": [
        "mapdl.exit()"
      ]
    }
  ],
  "metadata": {
    "kernelspec": {
      "display_name": "Python 3",
      "language": "python",
      "name": "python3"
    },
    "language_info": {
      "codemirror_mode": {
        "name": "ipython",
        "version": 3
      },
      "file_extension": ".py",
      "mimetype": "text/x-python",
      "name": "python",
      "nbconvert_exporter": "python",
      "pygments_lexer": "ipython3",
      "version": "3.12.12"
    }
  },
  "nbformat": 4,
  "nbformat_minor": 0
}