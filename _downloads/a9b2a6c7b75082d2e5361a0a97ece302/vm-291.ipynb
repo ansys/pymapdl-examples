{
  "cells": [
    {
      "cell_type": "markdown",
      "metadata": {},
      "source": [
        "Force on the Boundary of a Semi-Infinite Body (Boussinesq Problem) {#ref_vm291}\n==================================================================\n\nProblem description:\n\n:   -   A point force is applied at the origin of a half-space 2D\n        axisymmetric solid modeled with far-field domain. Determine the\n        displacement in the Y-direction on nodes along the radial\n        direction (at location Y = 0) and vertical direction (at\n        location X = 0).\n\nReference:\n\n:   -   TIMOSHENKO,S.P.,AND J.N.GOODIER,THEORY OF ELASTICITY\n        MCGRAW-HILL,NEW YORK, PP 398-402, 1970.\n\nAnalysis type(s):\n\n:   -   Static Analysis `ANTYPE=0`\n\nElement type(s):\n\n:   -   Structural Infinite Solid (INFIN257)\n    -   2-D 4-Node Structural Solid (PLANE182)\n    -   2-D 8-Node Structural Solid (PLANE183)\n\n![**PLANE182 and INFIN257**](../_static/vm291_setup1.png){.align-center\nwidth=\"400px\"}\n\n![**PLANE183 and INFIN257**](../_static/vm291_setup2.png){.align-center\nwidth=\"400px\"}\n\nMaterial properties:\n\n:   -   Youngs modulus, $E = 1.0$\n    -   Poissons ratio, $\\mu = 0.3$\n\nGeometric properties:\n\n:   -   Radius of finite mesh $= 4.0$\n    -   Radius of infinite mesh $= 4.0$\n\nLoading:\n\n:   -   Point Load $= 1.0$\n\nAnalysis Assumptions and Modeling Notes:\n\n:   -   The problem is solved for two cases:\n        -   Case 1: Using PLANE182 and INFIN257 elements\n        -   Case 2: Using PLANE183 and INFIN257 elements\n    -   The problem is composed with 12 axisymmetric finite element mesh\n        (PLANE182 or PLANE183) with a radius of 4 from the origin, and 4\n        infinite element mesh (INFIN257) modeling the far-field domain\n        with a radius of 4 extending from the finite element domain. The\n        infinite element mesh is modeled using the EINFIN command. The\n        UX degrees of freedom are constrained at location X = 0. The UY\n        results are computed along the radial and vertical direction on\n        the nodes belonging to the finite element mesh and then compared\n        to the analytical results.\n    -   The analytic solution to compute vertical displacement for the\n        problem of a point load on a half space is:\n        $\\omega = \\frac{P}{2 \\pi E} \\bigg [ \\frac{(1+\\nu)z^2}{(r^2+z^2)^{3/2}} + \\frac{2(1-\\nu ^2)}{(r^2 + z^2)^{1/2}} \\bigg]$\n        Where $P$ is the point load, $E$ is the Young's modulus, $\\nu$\n        is the Poisson's ratio, and $r$ and $z$ are the radial and\n        vertical distance from the point load. The above equation\n        clearly shows the $\\frac {1}{r}$ singularity at the point of\n        application of the load ($r=0$ and $z=0$), which indicates that\n        the finite element results may not be close to the analytical\n        solution a points close to the origin.\n"
      ]
    },
    {
      "cell_type": "code",
      "execution_count": null,
      "metadata": {
        "collapsed": false
      },
      "outputs": [],
      "source": [
        "# sphinx_gallery_thumbnail_path = '_static/vm291_setup1.png'\n\nimport math\n\n# Importing the `launch_mapdl` function from the `ansys.mapdl.core` module\nfrom ansys.mapdl.core import launch_mapdl\nimport numpy as np\n\n# Launch MAPDL with specified options\nmapdl = launch_mapdl(loglevel=\"WARNING\", print_com=True, remove_temp_dir_on_exit=True)\n\n# Clear the current database\nmapdl.clear()\n\n# Run the FINISH command to exists normally from a processor\nmapdl.finish()\n\n# Set the ANSYS version\nmapdl.com(\"ANSYS MEDIA REL. 2022R2 (05/13/2022) REF. VERIF. MANUAL: REL. 2022R2\")\n\n# Run the /VERIFY command for VM291\nmapdl.run(\"/VERIFY,VM291\")\n\n# Set the title of the analysis\nmapdl.title(\"VM291 FORCE ON BOUNDARY OF A SEMI-INFINITE BODY (BOUSSINESQ PROBLEM)\")\n\n# Entering the PREP7 environment in MAPDL\nmapdl.prep7(mute=True)\n\n# Constant value of PI\npi = math.pi"
      ]
    },
    {
      "cell_type": "markdown",
      "metadata": {},
      "source": [
        "Define element type and properties\n==================================\n\nUse 2D 4-Node structural solid element (PLANE182) and set Keyopt(3)=1,\nAxisymmetric.\n"
      ]
    },
    {
      "cell_type": "code",
      "execution_count": null,
      "metadata": {
        "collapsed": false
      },
      "outputs": [],
      "source": [
        "mapdl.et(1, \"PLANE182\")\nmapdl.keyopt(1, 3, 1)"
      ]
    },
    {
      "cell_type": "markdown",
      "metadata": {},
      "source": [
        "Define material\n===============\n\nSet up the material and its type (a single material), Young\\'s modulus\nof 30e6 and Poisson\\'S ratio of 0.1 is specified.\n"
      ]
    },
    {
      "cell_type": "code",
      "execution_count": null,
      "metadata": {
        "collapsed": false
      },
      "outputs": [],
      "source": [
        "exx = 1.0\nmapdl.mp(\"EX\", 1, exx)\nnuxy = 0.1\nmapdl.mp(\"PRXY\", 1, nuxy)"
      ]
    },
    {
      "cell_type": "markdown",
      "metadata": {},
      "source": [
        "Define geometry\n===============\n\nSet up the nodes and elements. This creates a mesh just like in the\nproblem setup.\n"
      ]
    },
    {
      "cell_type": "code",
      "execution_count": null,
      "metadata": {
        "collapsed": false
      },
      "outputs": [],
      "source": [
        "mapdl.n(1, 0, 0)\nmapdl.n(2, 1, 0)\nmapdl.n(3, 0.75, -0.75)\nmapdl.n(4, 0, -1)\nmapdl.n(5, 2, 0)\nmapdl.n(6, 1.75, -0.75)\nmapdl.n(7, 1.5, -1.5)\nmapdl.n(8, 0.75, -1.75)\nmapdl.n(9, 0, -2)\nmapdl.n(10, 3, 0)\nmapdl.n(11, 2.5833, -1.0833)\nmapdl.n(12, 2.1667, -2.1667)\nmapdl.n(13, 1.0833, -2.5833)\nmapdl.n(14, 0, -3)\nmapdl.n(15, 4, 0)\nmapdl.n(16, 3.4167, -1.4167)\nmapdl.n(17, 2.8333, -2.8333)\nmapdl.n(18, 1.4167, -3.4167)\nmapdl.n(19, 0, -4)\n\n# Define Mat =1 and Type = 1\nmapdl.mat(1)\nmapdl.type(1)\n\n# FORM 2D 4 NODE STRUCTURAL SOLID ELEMENTS\nmapdl.e(4, 3, 2, 1)\nmapdl.e(6, 5, 2, 3)\nmapdl.e(7, 6, 3, 8)\nmapdl.e(9, 8, 3, 4)\nmapdl.e(11, 10, 5, 6)\nmapdl.e(12, 11, 6, 7)\nmapdl.e(13, 12, 7, 8)\nmapdl.e(14, 13, 8, 9)\nmapdl.e(16, 15, 10, 11)\nmapdl.e(17, 16, 11, 12)\nmapdl.e(18, 17, 12, 13)\nmapdl.e(19, 18, 13, 14)"
      ]
    },
    {
      "cell_type": "markdown",
      "metadata": {},
      "source": [
        "Inline functions in PyMAPDL to query node\n=========================================\n\nSelect node located at (0,0,0) and assign it to variable \\\"NPOLE\\\".\n"
      ]
    },
    {
      "cell_type": "code",
      "execution_count": null,
      "metadata": {
        "collapsed": false
      },
      "outputs": [],
      "source": [
        "q = mapdl.queries\nNPOLE = q.node(0, 0, 0)\n\n# selects nodes\nmapdl.nsel(\"S\", \"\", \"\", 15, 19)\n\n# GENERATE SEMI-INFINITE SOLID ELEMENTS\nmapdl.einfin(\"\", NPOLE)\n\n# Selects all entities\nmapdl.allsel()"
      ]
    },
    {
      "cell_type": "markdown",
      "metadata": {},
      "source": [
        "Define boundary conditions\n==========================\n\nFix UX degrees of freedom at node location X=0. Apply a negative force\n1.0 lb along FY direction at node 1. Then exit prep7 processor.\n\nEffectiely, this sets: - $Point Load = 1.0$\n"
      ]
    },
    {
      "cell_type": "code",
      "execution_count": null,
      "metadata": {
        "collapsed": false
      },
      "outputs": [],
      "source": [
        "# Selects nodes using location x=0\nmapdl.nsel(\"S\", \"LOC\", \"X\", 0)\n# CONSTRAINT UX DOF AT LOCATION X=0\nmapdl.d(\"ALL\", \"UX\", 0)\n\n# Selects all entities\nmapdl.allsel()\nmapdl.eplot()\n\n# FORCE magnitude\np = -1\n# APPLY FORCE ALONG Y DIRECTION AT NODE1 having magnitude \"p\"\nmapdl.f(1, \"FY\", p)\n\n# Finish pre-processing processor\nmapdl.finish()"
      ]
    },
    {
      "cell_type": "markdown",
      "metadata": {},
      "source": [
        "Solve\n=====\n\nEnter solution mode and solve the system.\n"
      ]
    },
    {
      "cell_type": "code",
      "execution_count": null,
      "metadata": {
        "collapsed": false
      },
      "outputs": [],
      "source": [
        "mapdl.slashsolu()\n\n# Performing static analysis\nmapdl.antype(\"STATIC\")\n# Controls the solution data written to the database.\nmapdl.outres(\"ALL\", \"ALL\")\n# Sets the time for a load step, time=1\nmapdl.time(1)\n# SOLVE STATIC ANALYSIS\nmapdl.solve()\n# exists solution processor\nmapdl.finish()"
      ]
    },
    {
      "cell_type": "markdown",
      "metadata": {},
      "source": [
        "Post-processing\n===============\n\nEnter post-processing. Compute deflections.\n"
      ]
    },
    {
      "cell_type": "code",
      "execution_count": null,
      "metadata": {
        "collapsed": false
      },
      "outputs": [],
      "source": [
        "mapdl.post1()\n\n# Set the current results set to the last set to be read from result file\nmapdl.set(\"LAST\")\n# redirects output to the default system output file\nmapdl.run(\"/OUT\")\n# reactivates suppressed printout\nmapdl.gopr()\n\n# Set constant parameters\nr1 = 1\nz1 = 1\n\n# UY AT NODE (1,0,0)\nuy1 = p * (1 - nuxy**2) / (pi * exx * r1)\n# UY AT NODE (0,1,0)\nup1 = p / (2 * pi * exx * z1) * (1 + nuxy + 2 - 2 * nuxy**2)\n# MAPDL UY AT NODE(1,0,0)\nuya1 = mapdl.get(\"UYA1\", \"NODE\", 2, \"U\", \"Y\")\n# MADPL UY AT NODE(0,1,0)\nupa1 = mapdl.get(\"UPA1\", \"NODE\", 4, \"U\", \"Y\")\n\n# Set constant parameters\nr2 = 2\nz2 = 2\n\n# UY AT NODE (2,0,0)\nuy2 = p * (1 - nuxy**2) / (pi * exx * r2)\n# UY AT NODE (0,2,0)\nup2 = p / (2 * pi * exx * z2) * (1 + nuxy + 2 - 2 * nuxy**2)\n# MAPDL UY AT NODE(2,0,0)\nuya2 = mapdl.get(\"UYA2\", \"NODE\", 5, \"U\", \"Y\")\n# MADPL UY AT NODE(0,2,0)\nupa2 = mapdl.get(\"UPA2\", \"NODE\", 9, \"U\", \"Y\")\n\n# Set constant parameters, R3=3 and Z3=3\nr3 = 3\nz3 = 3\n\n# UY AT NODE (3,0,0)\nuy3 = p * (1 - nuxy**2) / (pi * exx * r3)\n# UY AT NODE (0,3,0)\nup3 = p / (2 * pi * exx * z3) * (1 + nuxy + 2 - 2 * nuxy**2)\n# MAPDL UY AT NODE(3,0,0)\nuya3 = mapdl.get(\"UYA3\", \"NODE\", 10, \"U\", \"Y\")\n# MADPL UY AT NODE(0,3,0)\nupa3 = mapdl.get(\"UPA3\", \"NODE\", 14, \"U\", \"Y\")\n\n# Set constant parameters, R4=4 and Z4=4\nr4 = 4\nz4 = 4\n\n# UY AT NODE (4,0,0)\nuy4 = p * (1 - nuxy**2) / (pi * exx * r4)\n# UY AT NODE (0,4,0)\nup4 = p / (2 * pi * exx * z4) * (1 + nuxy + 2 - 2 * nuxy**2)\n# MAPDL UY AT NODE(4,0,0)\nuya4 = mapdl.get(\"UYA4\", \"NODE\", 15, \"U\", \"Y\")\n# MADPL UY AT NODE(0,4,0)\nupa4 = mapdl.get(\"UPA4\", \"NODE\", 19, \"U\", \"Y\")\n\n# assign labels for nodes\nlabel1 = np.array([\"NODE5\", \"NODE10\", \"NODE15\"])\nlabel2 = np.array([\"NODE9\", \"NODE14\", \"NODE19\"])\n\n# create results arrays for printout\nvalue1 = np.array([uy2, uy3, uy4])\nvalue_ana1 = np.array([uya2, uya3, uya4])\nvalue_ratio1 = []\nfor i in range(len(value_ana1)):\n    a = value1[i] / value_ana1[i]\n    value_ratio1.append(a)\n\n# create results arrays for printout\nvalue2 = np.array([up2, up3, up4])\nvalue_ana2 = np.array([upa2, upa3, upa4])\nvalue_ratio2 = []\nfor i in range(len(value_ana2)):\n    a = value2[i] / value_ana2[i]\n    value_ratio2.append(a)"
      ]
    },
    {
      "cell_type": "markdown",
      "metadata": {},
      "source": [
        "Verify the results.\n===================\n"
      ]
    },
    {
      "cell_type": "code",
      "execution_count": null,
      "metadata": {
        "collapsed": false
      },
      "outputs": [],
      "source": [
        "results = f\"\"\"\n--------------------------VM291 RESULTS COMPARISON--------------------------\n\nUSING PLANE182 AND INFIN257 ELEMENTS\n-------------------------------------\n\nVERTICAL DISPLACEMENT(UY) ON THE SURFACE (Y=0)\n----------------------------------------------\n\n    |    NODES    |   TARGET   |   Mechanical APDL   | RATIO\n\n\"\"\"\nprint(results)\n\nfor i in range(len(value1)):\n    message = f\"\"\"\n        {label1[i]}         {value1[i]:.5f}       {value_ana1[i]:.5f}       {value_ratio1[i]:.5f}\n    \"\"\"\n    print(message)\n\nresults = f\"\"\"\n\nVERTICAL DISPLACEMENT(UY) BELOW THE POINT LOAD (X=0)\n----------------------------------------------------\n\n\"\"\"\nprint(results)\n\nfor i in range(len(value2)):\n    message = f\"\"\"\n        {label2[i]}         {value2[i]:.5f}       {value_ana2[i]:.5f}       {value_ratio2[i]:.5f}\n    \"\"\"\n    print(message)"
      ]
    },
    {
      "cell_type": "markdown",
      "metadata": {},
      "source": [
        "Finish the post-processing processor.\n=====================================\n"
      ]
    },
    {
      "cell_type": "code",
      "execution_count": null,
      "metadata": {
        "collapsed": false
      },
      "outputs": [],
      "source": [
        "mapdl.finish()"
      ]
    },
    {
      "cell_type": "markdown",
      "metadata": {},
      "source": [
        "Clears the database without restarting.\n=======================================\n"
      ]
    },
    {
      "cell_type": "code",
      "execution_count": null,
      "metadata": {
        "collapsed": false
      },
      "outputs": [],
      "source": [
        "mapdl.run(\"/CLEAR,NOSTART\")\n# redirects output to the default system output file\nmapdl.run(\"/OUT\")\n\n# Enter PREP7 module for the new analysis\nmapdl.prep7(mute=True)\n\n# Constant value of PI\npi = math.pi"
      ]
    },
    {
      "cell_type": "markdown",
      "metadata": {},
      "source": [
        "Define material\n===============\n\nSet up the material and its type (a single material), Young\\'s modulus\nof 30e6 and Poisson\\'S ratio of 0.1 is specified.\n"
      ]
    },
    {
      "cell_type": "code",
      "execution_count": null,
      "metadata": {
        "collapsed": false
      },
      "outputs": [],
      "source": [
        "exx = 1.0\nmapdl.mp(\"EX\", 1, exx)\nnuxy = 0.1\nmapdl.mp(\"PRXY\", 1, nuxy)"
      ]
    },
    {
      "cell_type": "markdown",
      "metadata": {},
      "source": [
        "Define element type and properties\n==================================\n\nUse 2D 8-Node structural solid element (PLANE183) and set Keyopt(3)=1,\nAxisymmetric.\n"
      ]
    },
    {
      "cell_type": "code",
      "execution_count": null,
      "metadata": {
        "collapsed": false
      },
      "outputs": [],
      "source": [
        "mapdl.et(1, \"PLANE183\")\nmapdl.keyopt(1, 3, 1)"
      ]
    },
    {
      "cell_type": "markdown",
      "metadata": {},
      "source": [
        "Define geometry\n===============\n\nSet up the nodes and elements. This creates a mesh just like in the\nproblem setup.\n"
      ]
    },
    {
      "cell_type": "code",
      "execution_count": null,
      "metadata": {
        "collapsed": false
      },
      "outputs": [],
      "source": [
        "mapdl.n(1, 0.0000, -1.0000, 0.0000)\nmapdl.n(2, 0.75000, -0.75000, 0.0000)\nmapdl.n(3, 0.37500, -0.87500, 0.0000)\nmapdl.n(4, 1.0000, 0.0000, 0.0000)\nmapdl.n(5, 0.87500, -0.37500, 0.0000)\nmapdl.n(6, 0.0000, 0.0000, 0.0000)\nmapdl.n(7, 0.50000, 0.0000, 0.0000)\nmapdl.n(8, 0.0000, -0.50000, 0.0000)\nmapdl.n(9, 1.7500, -0.75000, 0.0000)\nmapdl.n(10, 2.0000, 0.0000, 0.0000)\nmapdl.n(11, 1.8750, -0.37500, 0.0000)\nmapdl.n(12, 1.5000, 0.0000, 0.0000)\nmapdl.n(13, 1.2500, -0.75000, 0.0000)\nmapdl.n(14, 1.5000, -1.5000, 0.0000)\nmapdl.n(15, 1.6250, -1.1250, 0.0000)\nmapdl.n(16, 0.75000, -1.7500, 0.0000)\nmapdl.n(17, 0.75000, -1.2500, 0.0000)\nmapdl.n(18, 1.1250, -1.6250, 0.0000)\nmapdl.n(19, 0.0000, -2.0000, 0.0000)\nmapdl.n(20, 0.37500, -1.8750, 0.0000)\nmapdl.n(21, 0.0000, -1.5000, 0.0000)\nmapdl.n(22, 2.5833, -1.0833, 0.0000)\nmapdl.n(23, 3.0000, 0.0000, 0.0000)\nmapdl.n(24, 2.7917, -0.54165, 0.0000)\nmapdl.n(25, 2.5000, 0.0000, 0.0000)\nmapdl.n(26, 2.1667, -0.91665, 0.0000)\nmapdl.n(27, 2.1667, -2.1667, 0.0000)\nmapdl.n(28, 2.3750, -1.6250, 0.0000)\nmapdl.n(29, 1.8334, -1.8334, 0.0000)\nmapdl.n(30, 1.0833, -2.5833, 0.0000)\nmapdl.n(31, 1.6250, -2.3750, 0.0000)\nmapdl.n(32, 0.91665, -2.1667, 0.0000)\nmapdl.n(33, 0.0000, -3.0000, 0.0000)\nmapdl.n(34, 0.54165, -2.7917, 0.0000)\nmapdl.n(35, 0.0000, -2.5000, 0.0000)\nmapdl.n(36, 3.4167, -1.4167, 0.0000)\nmapdl.n(37, 4.0000, 0.0000, 0.0000)\nmapdl.n(38, 3.7083, -0.70835, 0.0000)\nmapdl.n(39, 3.5000, 0.0000, 0.0000)\nmapdl.n(40, 3.0000, -1.2500, 0.0000)\nmapdl.n(41, 2.8333, -2.8333, 0.0000)\nmapdl.n(42, 3.1250, -2.1250, 0.0000)\nmapdl.n(43, 2.5000, -2.5000, 0.0000)\nmapdl.n(44, 1.4167, -3.4167, 0.0000)\nmapdl.n(45, 2.1250, -3.1250, 0.0000)\nmapdl.n(46, 1.2500, -3.0000, 0.0000)\nmapdl.n(47, 0.0000, -4.0000, 0.0000)\nmapdl.n(48, 0.70835, -3.7083, 0.0000)\nmapdl.n(49, 0.0000, -3.5000, 0.0000)\n\n# Define Mat =1 and Type = 1\nmapdl.mat(1)\nmapdl.type(1)\n\n# DEFINE ELEMENTS\nmapdl.e(1, 2, 4, 6, 3, 5, 7, 8)\nmapdl.e(9, 10, 4, 2, 11, 12, 5, 13)\nmapdl.e(14, 9, 2, 16, 15, 13, 17, 18)\nmapdl.e(19, 16, 2, 1, 20, 17, 3, 21)\nmapdl.e(22, 23, 10, 9, 24, 25, 11, 26)\nmapdl.e(27, 22, 9, 14, 28, 26, 15, 29)\nmapdl.e(30, 27, 14, 16, 31, 29, 18, 32)\nmapdl.e(33, 30, 16, 19, 34, 32, 20, 35)\nmapdl.e(36, 37, 23, 22, 38, 39, 24, 40)\nmapdl.e(41, 36, 22, 27, 42, 40, 28, 43)\nmapdl.e(44, 41, 27, 30, 45, 43, 31, 46)\nmapdl.e(47, 44, 30, 33, 48, 46, 34, 49)"
      ]
    },
    {
      "cell_type": "markdown",
      "metadata": {},
      "source": [
        "Inline functions in PyMAPDL to query node\n=========================================\n\nSelect node located at (0,0,0) and assign it to variable \\\"NPOLE\\\".\n"
      ]
    },
    {
      "cell_type": "code",
      "execution_count": null,
      "metadata": {
        "collapsed": false
      },
      "outputs": [],
      "source": [
        "q = mapdl.queries\nNPOLE = q.node(0, 0, 0)\n\n# select nodes\nmapdl.nsel(\"S\", \"NODE\", \"\", 36, 38, 1)\nmapdl.nsel(\"A\", \"NODE\", \"\", 41, 42, 1)\nmapdl.nsel(\"A\", \"NODE\", \"\", 44, 45, 1)\nmapdl.nsel(\"A\", \"NODE\", \"\", 47, 48, 1)\n\n# GENERATE SEMI-INFINITE SOLID ELEMENTS\nmapdl.einfin(\"\", NPOLE)\n\n# Selects all entities\nmapdl.allsel()\nmapdl.eplot()"
      ]
    },
    {
      "cell_type": "markdown",
      "metadata": {},
      "source": [
        "Define boundary conditions\n==========================\n\nFix UX degrees of freedom at node location X=0. Apply a negative force\n1.0 lb along FY direction at node 6. Then exit prep7 processor.\n\nEffectiely, this sets: - $Point Load = 1.0$\n"
      ]
    },
    {
      "cell_type": "code",
      "execution_count": null,
      "metadata": {
        "collapsed": false
      },
      "outputs": [],
      "source": [
        "# Selects nodes using location x=0\nmapdl.nsel(\"S\", \"LOC\", \"X\", 0)\n# CONSTRAINT UX DOF AT LOCATION X=0\nmapdl.d(\"ALL\", \"UX\", 0)\n# Selects all entities\nmapdl.allsel()\n\n# FORCE magnitude\np = -1\n# APPLY FORCE ALONG Y DIRECTION AT NODE6\nmapdl.f(6, \"FY\", p)\n\n# Finish pre-processing processor\nmapdl.finish()"
      ]
    },
    {
      "cell_type": "markdown",
      "metadata": {},
      "source": [
        "Solve\n=====\n\nEnter solution mode and solve the system.\n"
      ]
    },
    {
      "cell_type": "code",
      "execution_count": null,
      "metadata": {
        "collapsed": false
      },
      "outputs": [],
      "source": [
        "mapdl.slashsolu()\n\n# Performing static analysis\nmapdl.antype(\"STATIC\")\n# Controls the solution data written to the database.\nmapdl.outres(\"ALL\", \"ALL\")\n# Sets the time for a load step, time=1\nmapdl.time(1)\n# SOLVE STATIC ANALYSIS\nmapdl.solve()\n# exists solution processor\nmapdl.finish()"
      ]
    },
    {
      "cell_type": "markdown",
      "metadata": {},
      "source": [
        "Post-processing\n===============\n\nEnter post-processing. Compute deflections.\n"
      ]
    },
    {
      "cell_type": "code",
      "execution_count": null,
      "metadata": {
        "collapsed": false
      },
      "outputs": [],
      "source": [
        "mapdl.post1()\n\n# Set the current results set to the last set to be read from result file\nmapdl.set(\"LAST\")\n# redirects output to the default system output file\nmapdl.run(\"/OUT\")\n# reactivates suppressed printout\nmapdl.gopr()\n\n# Set constant parameters\nr1 = 1\nz1 = 1\n\n# UY AT NODE (1,0,0)\nuy1 = p * (1 - nuxy**2) / (pi * exx * r1)\n# UY AT NODE (0,1,0)\nup1 = p / (2 * pi * exx * z1) * (1 + nuxy + 2 - 2 * nuxy**2)\n# MAPDL UY AT NODE(1,0,0)\nuya1 = mapdl.get(\"UYA1\", \"NODE\", 4, \"U\", \"Y\")\n# MADPL UY AT NODE(0,1,0)\nupa1 = mapdl.get(\"UPA1\", \"NODE\", 1, \"U\", \"Y\")\n\n# Set constant parameters\nr2 = 2\nz2 = 2\n\n# UY AT NODE (2,0,0)\nuy2 = p * (1 - nuxy**2) / (pi * exx * r2)\n# UY AT NODE (0,2,0)\nup2 = p / (2 * pi * exx * z2) * (1 + nuxy + 2 - 2 * nuxy**2)\n# MAPDL UY AT NODE(2,0,0)\nuya2 = mapdl.get(\"UYA2\", \"NODE\", 10, \"U\", \"Y\")\n# MADPL UY AT NODE(0,2,0)\nupa2 = mapdl.get(\"UPA2\", \"NODE\", 19, \"U\", \"Y\")\n\n# Set constant parameters\nr3 = 3\nz3 = 3\n\n# UY AT NODE (3,0,0)\nuy3 = p * (1 - nuxy**2) / (pi * exx * r3)\n# UY AT NODE (0,3,0)\nup3 = p / (2 * pi * exx * z3) * (1 + nuxy + 2 - 2 * nuxy**2)\n# MAPDL UY AT NODE(3,0,0)\nuya3 = mapdl.get(\"UYA3\", \"NODE\", 23, \"U\", \"Y\")\n# MADPL UY AT NODE(0,3,0)\nupa3 = mapdl.get(\"UPA3\", \"NODE\", 33, \"U\", \"Y\")\n\n# Set constant parameters\nr4 = 4\nz4 = 4\n\n# UY AT NODE (4,0,0)\nuy4 = p * (1 - nuxy**2) / (pi * exx * r4)\n# UY AT NODE (0,4,0)\nup4 = p / (2 * pi * exx * z4) * (1 + nuxy + 2 - 2 * nuxy**2)\n# MAPDL UY AT NODE(4,0,0)\nuya4 = mapdl.get(\"UYA4\", \"NODE\", 37, \"U\", \"Y\")\n# MADPL UY AT NODE(0,4,0)\nupa4 = mapdl.get(\"UPA4\", \"NODE\", 47, \"U\", \"Y\")\n\n# assign labels for nodes\nlabel1 = np.array([\"NODE10\", \"NODE23\", \"NODE37\"])\nlabel2 = np.array([\"NODE19\", \"NODE33\", \"NODE47\"])\n\n# create results arrays for printout\nvalue1 = np.array([uy2, uy3, uy4])\nvalue_ana1 = np.array([uya2, uya3, uya4])\nvalue_ratio1 = []\nfor i in range(len(value_ana1)):\n    a = value1[i] / value_ana1[i]\n    value_ratio1.append(a)\n\n# create results arrays for printout\nvalue2 = np.array([up2, up3, up4])\nvalue_ana2 = np.array([upa2, upa3, upa4])\nvalue_ratio2 = []\nfor i in range(len(value_ana2)):\n    a = value2[i] / value_ana2[i]\n    value_ratio2.append(a)\n\nmapdl.gopr()\nresults = f\"\"\"\n\nUSING PLANE183 AND INFIN257 ELEMENTS\n------------------------------------\n\nVERTICAL DISPLACEMENT(UY) ON THE SURFACE (Y=0)\n----------------------------------------------\n\n\"\"\"\nprint(results)\n\n\nfor i in range(len(value1)):\n    message = f\"\"\"\n        {label1[i]}         {value1[i]:.5f}       {value_ana1[i]:.5f}       {value_ratio1[i]:.5f}\n    \"\"\"\n    print(message)\n\nresults = f\"\"\"\n\nVERTICAL DISPLACEMENT(UY) BELOW THE POINT LOAD (X=0)\n----------------------------------------------------\n\n\"\"\"\nprint(results)\n\nfor i in range(len(value2)):\n    message = f\"\"\"\n        {label2[i]}         {value2[i]:.5f}       {value_ana2[i]:.5f}       {value_ratio2[i]:.5f}\n    \"\"\"\n    print(message)\n\nmessage = f\"\"\"\n-----------------------------------------------------------------\n\"\"\"\nprint(message)"
      ]
    },
    {
      "cell_type": "markdown",
      "metadata": {},
      "source": [
        "Finish the post-processing processor.\n=====================================\n"
      ]
    },
    {
      "cell_type": "code",
      "execution_count": null,
      "metadata": {
        "collapsed": false
      },
      "outputs": [],
      "source": [
        "mapdl.finish()"
      ]
    },
    {
      "cell_type": "markdown",
      "metadata": {},
      "source": [
        "Stop MAPDL.\n===========\n"
      ]
    },
    {
      "cell_type": "code",
      "execution_count": null,
      "metadata": {
        "collapsed": false
      },
      "outputs": [],
      "source": [
        "mapdl.exit()"
      ]
    }
  ],
  "metadata": {
    "kernelspec": {
      "display_name": "Python 3",
      "language": "python",
      "name": "python3"
    },
    "language_info": {
      "codemirror_mode": {
        "name": "ipython",
        "version": 3
      },
      "file_extension": ".py",
      "mimetype": "text/x-python",
      "name": "python",
      "nbconvert_exporter": "python",
      "pygments_lexer": "ipython3",
      "version": "3.12.12"
    }
  },
  "nbformat": 4,
  "nbformat_minor": 0
}