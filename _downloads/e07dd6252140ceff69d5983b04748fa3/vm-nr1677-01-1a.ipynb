{
  "cells": [
    {
      "cell_type": "markdown",
      "metadata": {},
      "source": [
        "Nuclear Regulatory Commission Piping Benchmarks {#ref_VM-NR1677-01-1}\n===============================================\n\nProblem description:\n\n:   -   The example problem contains Mechanical APDL solutions to\n        Nuclear Regulatory Commission (NRC) piping benchmark problems\n        taken from publications NUREG/CR-1677, Volumes 1, Problem 1.\n    -   The piping benchmark solutions given in NRC publications were\n        obtained by using a computer program EPIPE which is a\n        modification of the widely available program SAP IV specifically\n        prepared to perform piping analyses.\n    -   This benchmark problem contains three straight sections, two\n        bends, and two fixed anchors. The total mass of the system is\n        represented by structural mass element (MASS21) specified at\n        individual nodes.\n    -   Modal and response spectrum analysis is performed on the piping\n        model. Frequencies obtained from modal solve and the\n        nodal/element solution obtained from spectrum solve are compared\n        against reference results.\n    -   For response spectrum analysis, acceleration response spectrum\n        curve defined by `SV` and `FREQ` commands.\n\nReference:\n\n:   -   P.Bezler, M. Hartzman & M. Reich,\\\"Dynamic Analysis of Uniform\n        Support Motion Response Spectrum Method\\\", (NUREG/CR-1677),\n        Brookhaven National Laboratory, August 1980, Problem 1, Pages\n        24-47.\n\nAnalysis type(s):\n\n:   -   Modal Analysis `ANTYPE=2`\n    -   Spectral Analysis `ANTYPE=8`\n\nElement type(s):\n\n:   -   Structural Mass Element (`MASS21`)\n    -   3-D 3-Node Pipe Element (`PIPE289`)\n    -   3-D 3-Node Elbow Element (`ELBOW290`)\n\n```{=html}\n<!-- -->\n```\n\nModel description:\n\n:   -   The model consists of a piping system with straight pipes and\n        elbows.\n    -   The system is subjected to uniform support motion in three\n        spatial directions.\n    -   The model is meshed using `PIPE289` and `ELBOW290` elements for\n        the piping components and `MASS21` elements for point mass\n        representation.\n\nPostprocessing:\n\n:   -   Frequencies obtained from modal solution.\n    -   Maximum nodal displacements and rotations are extracted.\n    -   Element forces and moments are calculated for specific elements.\n    -   Reaction forces from the spectrum solution are obtained.\n"
      ]
    },
    {
      "cell_type": "code",
      "execution_count": null,
      "metadata": {
        "collapsed": false
      },
      "outputs": [],
      "source": [
        "# sphinx_gallery_thumbnail_path = '_static/vm-nr1677-01-1a_setup.png'\n\n\"\"\n# Import the MAPDL module\nfrom ansys.mapdl.core import launch_mapdl\nimport numpy as np\nfrom tabulate import tabulate\n\n# Launch MAPDL with a specific log level and print command output\n# Here, we set loglevel to \"WARNING\" to reduce verbosity and print_com to True to see commands\nmapdl = launch_mapdl(loglevel=\"WARNING\", print_com=True)\n\n\"\"\"\nPreprocessing: Modeling of NRC Piping Benchmark Problems using ``PIPE289`` and ``ELBOW290`` elements\n-----------------------------------------------------------------------------------------------------\n\n\"\"\""
      ]
    },
    {
      "cell_type": "markdown",
      "metadata": {},
      "source": [
        "Specify material properties, real constants and Element types\n"
      ]
    },
    {
      "cell_type": "code",
      "execution_count": null,
      "metadata": {
        "collapsed": false
      },
      "outputs": [],
      "source": [
        "# Clear any previous data in MAPDL\n\nmapdl.clear()\n\nmapdl.title(\"NRC Piping Benchmark Problems, Volume 1, Problem 1\")\n\nmapdl.prep7(mute=True)\n\n# Define Material Properties for pipe elements in :math:``psi``\n\nmapdl.mp(\"ex\", 1, 24e6)\nmapdl.mp(\"nuxy\", 1, 0.3)\n\n# PIPE289 using cubic shape function and Thick pipe theory.\n\nmapdl.et(1, \"pipe289\")\nmapdl.keyopt(1, 4, 2)\n\n# ELBOW290 using cubic shape function and number of Fourier terms = 6.\n\nmapdl.et(2, \"elbow290\", \"\", 6)\n\n# Real Constants for straight and bend pipe elements in :math:``in``\n\nmapdl.sectype(1, \"pipe\")\nmapdl.secdata(7.289, 0.241, 24)\n\n# MASS21, 3-D Mass without Rotary Inertia\n\nmapdl.et(3, \"mass21\")\nmapdl.keyopt(3, 3, 2)\n\n# Define real constants for mass elements, 3-D mass in :math:``lb-sec^2/in``\n\nmapdl.r(12, 0.03988)  # Mass @ node 2\nmapdl.r(13, 0.05032)  # Mass @ node 6\nmapdl.r(14, 0.02088)  # Mass @ node 28\nmapdl.r(15, 0.01698)  # Mass @ node 10\nmapdl.r(16, 0.01307)  # Mass @ node 11\nmapdl.r(17, 0.01698)  # Mass @ node 15\nmapdl.r(18, 0.01044)  # Mass @ node 35\nmapdl.r(19, 0.01795)  # Mass @ node 19\nmapdl.r(20, 0.01501)  # Mass @ node 20"
      ]
    },
    {
      "cell_type": "markdown",
      "metadata": {},
      "source": [
        "Geometry modeling of nuclear piping system\n"
      ]
    },
    {
      "cell_type": "code",
      "execution_count": null,
      "metadata": {
        "collapsed": false
      },
      "outputs": [],
      "source": [
        "# Define Keypoints\n\nmapdl.k(1, 0.0, 0.0, 0.0)\nmapdl.k(2, 0.0, 54.45, 0.0)\nmapdl.k(3, 0.0, 108.9, 0.0)\nmapdl.k(4, 10.632, 134.568, 0.0)\nmapdl.k(5, 36.3, 145.2, 0.0)\nmapdl.k(6, 54.15, 145.2, 0.0)\nmapdl.k(7, 72.0, 145.2, 0.0)\nmapdl.k(8, 97.668, 145.2, 10.632)\nmapdl.k(9, 108.3, 145.2, 36.3)\nmapdl.k(10, 108.3, 145.2, 56.80)\nmapdl.k(11, 108.3, 145.2, 77.3)\n\nmapdl.k(12, 2.7631, 122.79, 0)\nmapdl.k(13, 22.408, 142.44, 0)\nmapdl.k(14, 85.9, 145, 2.76)\nmapdl.k(15, 106, 145, 22.4)\n\n# Straight Pipe system\n\nmapdl.l(1, 2)\nmapdl.l(2, 3)\nmapdl.l(5, 6)\nmapdl.l(6, 7)\nmapdl.l(9, 10)\nmapdl.l(10, 11)  # Line number 6\n\n# Bend Pipe system\n\nmapdl.larc(3, 4, 12)  # Line number 7\nmapdl.larc(4, 5, 13)\nmapdl.larc(7, 8, 14)\nmapdl.larc(8, 9, 15)  # line number 10"
      ]
    },
    {
      "cell_type": "markdown",
      "metadata": {},
      "source": [
        "Meshing of nuclear piping system using pipe and elbow elements\n"
      ]
    },
    {
      "cell_type": "code",
      "execution_count": null,
      "metadata": {
        "collapsed": false
      },
      "outputs": [],
      "source": [
        "# Meshing for straight pipe using PIPE289 elements\n\nmapdl.type(1)\nmapdl.mat(1)\nmapdl.secnum(1)\nmapdl.real(1)\n\nmapdl.lsel(\"s\", \"line\", \"\", 1, 6)\nmapdl.allsel(\"below\", \"line\")\nmapdl.lesize(\"all\", \"\", \"\", 2)\nmapdl.lmesh(\"all\")\nmapdl.allsel(\"all\", \"all\")\n\n# Meshing for bend pipe using ELBOW290 elements\n\nmapdl.type(2)\nmapdl.secnum(1)\nmapdl.mat(1)\n\nmapdl.lsel(\"s\", \"\", \"\", 7, 14)\nmapdl.allsel(\"below\", \"line\")\nmapdl.lesize(\"all\", \"\", \"\", 2)\nmapdl.lmesh(\"all\")\nmapdl.allsel(\"all\", \"all\")"
      ]
    },
    {
      "cell_type": "markdown",
      "metadata": {},
      "source": [
        "The total system mass of nuclear piping system is represented by\nstructural mass element `MASS21` specified at individual nodes.\n"
      ]
    },
    {
      "cell_type": "code",
      "execution_count": null,
      "metadata": {
        "collapsed": false
      },
      "outputs": [],
      "source": [
        "# Specify mass elements with real constants at respective nodes\n\nmapdl.type(3)\nmapdl.real(12)\nmapdl.e(2)  # Mass element at node 2\n\nmapdl.real(13)\nmapdl.e(6)  # Mass element at node 6\n\nmapdl.real(14)\nmapdl.e(28)  # Mass element at node 28\n\nmapdl.real(15)\nmapdl.e(10)  # Mass element at node 10\n\nmapdl.real(16)\nmapdl.e(11)  # Mass element at node 11\n\nmapdl.real(17)\nmapdl.e(15)  # Mass element at node 15\n\nmapdl.real(18)\nmapdl.e(35)  # Mass element at node 35\n\nmapdl.real(19)\nmapdl.e(19)  # Mass element at node 19\n\nmapdl.real(20)\nmapdl.e(20)  # Mass element at node 20"
      ]
    },
    {
      "cell_type": "markdown",
      "metadata": {},
      "source": [
        "Using `ELBOW`, to convert some `PIPE289` into `ELBOW290`\n"
      ]
    },
    {
      "cell_type": "code",
      "execution_count": null,
      "metadata": {
        "collapsed": false
      },
      "outputs": [],
      "source": [
        "mapdl.elbow(\"on\", \"\", \"\", \"sect\")\nmapdl.allsel(\"all\", \"all\")"
      ]
    },
    {
      "cell_type": "markdown",
      "metadata": {},
      "source": [
        "Display the nuclear piping system model\n"
      ]
    },
    {
      "cell_type": "code",
      "execution_count": null,
      "metadata": {
        "collapsed": false
      },
      "outputs": [],
      "source": [
        "mapdl.eplot()"
      ]
    },
    {
      "cell_type": "markdown",
      "metadata": {},
      "source": [
        "Define constraints\n"
      ]
    },
    {
      "cell_type": "code",
      "execution_count": null,
      "metadata": {
        "collapsed": false
      },
      "outputs": [],
      "source": [
        "mapdl.dk(1, \"all\", 0)\nmapdl.dk(11, \"all\", 0)\nmapdl.allsel(\"all\", \"all\")"
      ]
    },
    {
      "cell_type": "markdown",
      "metadata": {},
      "source": [
        "Finish preprocessing aspects of nuclear piping system.\n"
      ]
    },
    {
      "cell_type": "code",
      "execution_count": null,
      "metadata": {
        "collapsed": false
      },
      "outputs": [],
      "source": [
        "mapdl.finish()"
      ]
    },
    {
      "cell_type": "markdown",
      "metadata": {},
      "source": [
        "Modal analysis\n==============\n\nPerform modal analysis to obtain the first five natural frequencies of\nthe system. The results will be used to determine the response spectrum\nanalysis. The modal analysis is performed using the LANB method.\n"
      ]
    },
    {
      "cell_type": "code",
      "execution_count": null,
      "metadata": {
        "collapsed": false
      },
      "outputs": [],
      "source": [
        "mapdl.slashsolu()\nmapdl.antype(\"modal\")\n\n# LANB mode extraction method\n\nnmodes = 5\nmapdl.modopt(\"lanb\", nmodes)\n\n# Set the number of modes to extract\nmapdl.mxpand(\"\", \"\", \"\", \"yes\")"
      ]
    },
    {
      "cell_type": "markdown",
      "metadata": {},
      "source": [
        "Solve the modal analysis\n========================\n"
      ]
    },
    {
      "cell_type": "code",
      "execution_count": null,
      "metadata": {
        "collapsed": false
      },
      "outputs": [],
      "source": [
        "mapdl.solve()\nmapdl.finish()"
      ]
    },
    {
      "cell_type": "markdown",
      "metadata": {},
      "source": [
        "Postprocessing: Extracting frequencies from the modal analysis\n==============================================================\n"
      ]
    },
    {
      "cell_type": "code",
      "execution_count": null,
      "metadata": {
        "collapsed": false
      },
      "outputs": [],
      "source": [
        "mapdl.post1()\n\n# Frequencies from Modal solve\n\nfreq_list = mapdl.set(\"list\").to_list()\n\nprint(\"Frequencies from Modal solve:\")\nfor set, time_freq, load_step, substep, cumulative in freq_list:\n    print(f\" - {time_freq:0.3f} Hz\")\n\nmapdl.finish()"
      ]
    },
    {
      "cell_type": "markdown",
      "metadata": {},
      "source": [
        "Response Spectrum Analysis\n==========================\n\nPerform spectrum analysis using the frequencies obtained from the modal\nanalysis. The response spectrum analysis will be performed for a single\npoint excitation response spectrum. The damping ratio is set to a\nconstant value for all modes. The modes are grouped based on a\nsignificance level, and the seismic acceleration response loading is\ndefined. The excitation is applied along the X, Y, and Z directions with\nspecified frequencies and corresponding spectral values. Start the\nsolution controls for spectrum solve\n"
      ]
    },
    {
      "cell_type": "code",
      "execution_count": null,
      "metadata": {
        "collapsed": false
      },
      "outputs": [],
      "source": [
        "mapdl.slashsolu()\n\n# Perform Spectrum Analysis\nmapdl.antype(\"spectr\")\n\n# Single Point Excitation Response Spectrum\nmapdl.spopt(\"sprs\")\n\n# specify constant damping ratio for all modes\nmapdl.dmprat(0.02)\n\n# Group Modes based on significance level\nmapdl.grp(0.001)\n\n# Seismic Acceleration Response Loading\nmapdl.svtyp(2)"
      ]
    },
    {
      "cell_type": "markdown",
      "metadata": {},
      "source": [
        "Solve the spectrum analysis along X direction\n=============================================\n\nExcitation along X direction\n"
      ]
    },
    {
      "cell_type": "code",
      "execution_count": null,
      "metadata": {
        "collapsed": false
      },
      "outputs": [],
      "source": [
        "mapdl.sed(1)\n\nmapdl.freq()  # Erase frequency values\n\nmapdl.freq(3.1, 4, 5, 5.81, 7.1, 8.77, 10.99, 14.08, 17.24)\nmapdl.freq(25, 28.5, 30, 34.97, 55, 80, 140, 162, 588.93)\nmapdl.sv(0.02, 400, 871, 871, 700, 1188, 1188, 440, 775, 775)\nmapdl.sv(0.02, 533.2, 467.2, 443.6, 380, 289, 239.4, 192.6, 184.1, 145)\n\nmapdl.solve()"
      ]
    },
    {
      "cell_type": "markdown",
      "metadata": {},
      "source": [
        "Solve the spectrum analysis along Y direction\n=============================================\n\nExcitation along Y direction\n"
      ]
    },
    {
      "cell_type": "code",
      "execution_count": null,
      "metadata": {
        "collapsed": false
      },
      "outputs": [],
      "source": [
        "mapdl.sed(\"\", 1)\n\nmapdl.freq()  # Erase frequency values\n\nmapdl.freq(3.1, 4, 5, 5.81, 7.1, 8.77, 10.99, 14.08, 17.24)\nmapdl.freq(25, 28.5, 30, 34.97, 55, 80, 140, 162, 588.93)\nmapdl.sv(0.02, 266.7, 580.7, 580.7, 466.7, 792, 792, 293.3, 516.7, 516.7)\nmapdl.sv(0.02, 355.5, 311.5, 295.7, 253.3, 192.7, 159.6, 128.4, 122.7, 96.7)\n\nmapdl.solve()"
      ]
    },
    {
      "cell_type": "markdown",
      "metadata": {},
      "source": [
        "Solve the spectrum analysis along Z direction\n=============================================\n"
      ]
    },
    {
      "cell_type": "code",
      "execution_count": null,
      "metadata": {
        "collapsed": false
      },
      "outputs": [],
      "source": [
        "# Excitation along Z direction\n\nmapdl.sed(\"\", \"\", 1)\n\nmapdl.freq()  # Erase frequency values\n\nmapdl.freq(3.1, 4, 5, 5.81, 7.1, 8.77, 10.99, 14.08, 17.24)\nmapdl.freq(25, 28.5, 30, 34.97, 55, 80, 140, 162, 588.93)\nmapdl.sv(0.02, 400, 871, 871, 700, 1188, 1188, 440, 775, 775)\nmapdl.sv(0.02, 533.2, 467.2, 443.6, 380, 289, 239.4, 192.6, 184.1, 145)\n\nmapdl.solve()"
      ]
    },
    {
      "cell_type": "markdown",
      "metadata": {},
      "source": [
        "Finish the spectrum analysis\n"
      ]
    },
    {
      "cell_type": "code",
      "execution_count": null,
      "metadata": {
        "collapsed": false
      },
      "outputs": [],
      "source": [
        "mapdl.finish()"
      ]
    },
    {
      "cell_type": "markdown",
      "metadata": {},
      "source": [
        "Postprocessing: Extracting results from the spectrum analysis\n=============================================================\n\nExtract maximum nodal displacements and rotations from the spectrum\nsolution. The results will be stored in the MAPDL database and can be\naccessed using the [starstatus]{.title-ref} command. The nodal\ndisplacements and rotations are obtained for specific nodes in the\nmodel. The element forces and moments are obtained for specific nodes\nfrom spectrum solution. The reaction forces from the spectrum solution\nare also extracted.\n"
      ]
    },
    {
      "cell_type": "code",
      "execution_count": null,
      "metadata": {
        "collapsed": false
      },
      "outputs": [],
      "source": [
        "mapdl.post1()\n\nmcom_file = mapdl.input(\"\", \"mcom\")\n\nadisx = mapdl.get(\"AdisX\", \"NODE\", 10, \"U\", \"X\")\nadisy = mapdl.get(\"AdisY\", \"NODE\", 36, \"U\", \"Y\")\nadisz = mapdl.get(\"AdisZ\", \"NODE\", 28, \"U\", \"Z\")\narotx = mapdl.get(\"ArotX\", \"NODE\", 9, \"ROT\", \"X\")\naroty = mapdl.get(\"ArotY\", \"NODE\", 18, \"ROT\", \"Y\")\narotz = mapdl.get(\"ArotZ\", \"NODE\", 9, \"ROT\", \"Z\")"
      ]
    },
    {
      "cell_type": "markdown",
      "metadata": {},
      "source": [
        "Element Forces and Moments obtained from spectrum solution for Node\n\\\"I\\\"\n"
      ]
    },
    {
      "cell_type": "code",
      "execution_count": null,
      "metadata": {
        "collapsed": false
      },
      "outputs": [],
      "source": [
        "elems = [12, 14]\n\n# Output labels\n# px = section axial force at node I and J.\n# vy = section shear forces along Y direction at node I and J.\n# vz = section shear forces along Z direction at node I and J.\n# tx = section torsional moment at node I and J\n# my = section bending moments along Y direction at node I and J.\n# mz = section bending moments along Z direction at node I and J.\nlabels = [\"px\", \"vy\", \"vz\", \"tx\", \"my\", \"mz\"]\n\n# SMISC mapping\n# To obtain the SMISC values for each element\nSMISC = {\n    # Element number 12\n    12: {\n        # Obtained from the Element reference for PIPE289\n        \"i\": [1, 6, 5, 4, 2, 3],\n        \"j\": [14, 19, 18, 17, 15, 16],\n    },\n    # Element number 14\n    14: {\n        # Obtained from the Element reference for ELBOW290\n        \"i\": [1, 6, 5, 4, 2, 3],\n        \"j\": [36, 41, 40, 39, 37, 38],\n    },\n}\n\nfor elem in elems:\n    mapdl.esel(\"s\", \"elem\", \"\", elem)\n\n    for node in [\"i\", \"j\"]:\n        for label, id_ in zip(labels, SMISC[elem][node]):\n            label_ = f\"{label}{node}_{elem}\"\n            mapdl.etable(label_, \"smisc\", id_)\n\nmapdl.allsel(\"all\")\nmapdl.run(\"/GOPR\")"
      ]
    },
    {
      "cell_type": "markdown",
      "metadata": {},
      "source": [
        "Reaction forces from spectrum solution\n"
      ]
    },
    {
      "cell_type": "code",
      "execution_count": null,
      "metadata": {
        "collapsed": false
      },
      "outputs": [],
      "source": [
        "reaction_force = mapdl.prrsol()"
      ]
    },
    {
      "cell_type": "markdown",
      "metadata": {},
      "source": [
        "Finish postprocessing of response spectrum analysis.\n"
      ]
    },
    {
      "cell_type": "code",
      "execution_count": null,
      "metadata": {
        "collapsed": false
      },
      "outputs": [],
      "source": [
        "mapdl.finish()"
      ]
    },
    {
      "cell_type": "markdown",
      "metadata": {},
      "source": [
        "Verify the results\n==================\n"
      ]
    },
    {
      "cell_type": "markdown",
      "metadata": {},
      "source": [
        "Frequencies Obtained from Modal Solution =======================\n\nThe results obtained from the modal solution are compared against target\nvalues. The target values are defined based on the reference results\nfrom the NRC publication.\n"
      ]
    },
    {
      "cell_type": "code",
      "execution_count": null,
      "metadata": {
        "collapsed": false
      },
      "outputs": [],
      "source": [
        "# Set target values\ntarget_freq = np.array([28.515, 56.441, 82.947, 144.140, 166.260])  # in Hz\n\n# Fill result values\nsim_freq_res = [freq[1] for freq in freq_list]\n\n# Store ratio\nvalue_ratio = []\nfor i in range(len(target_freq)):\n    con = sim_freq_res[i] / target_freq[i]\n    value_ratio.append(np.abs(con))\n\nprint(\"Frequencies Obtained Modal Solution \\n\")\n\n# Prepare data for tabulation\ndata_freq = [\n    [i + 1, target_freq[i], sim_freq_res[i], value_ratio[i]]\n    for i in range(len(target_freq))\n]\n\n# Define headers\nheaders = [\"Mode\", \"Target\", \"Mechanical APDL\", \"Ratio\"]\n\n# Print table\nprint(\n    f\"\"\"------------------- VM-NR1677-01-1-a.1 RESULTS COMPARISON ---------------------  \n{tabulate(data_freq, headers=headers, tablefmt=\"grid\")}  \n\"\"\"\n)\n\n\"\"\n# Set target values\ntarget_res = np.array(\n    [7.830e-03, 2.648e-03, 1.748e-02, 1.867e-04, 2.123e-04, 7.217e-05]\n)\n\n# Fill result values\n# adisx, adisy, adisz, arotx, aroty, arotz = 7.8e-03, 2.6e-03, 1.75e-02, 1.9e-04, 2.1e-04, 7.2e-05\nsim_res = np.array([adisx, adisy, adisz, arotx, aroty, arotz])\n\n# Output labels\nlabels = [\n    \"UX at node10\",\n    \"UY at node36\",\n    \"UZ at node28\",\n    \"ROTX at node9\",\n    \"ROTY at node18\",\n    \"ROTZ at node9\",\n]\n\n# Store ratio\nvalue_ratio = []\nfor i in range(len(target_res)):\n    con = sim_res[i] / target_res[i]\n    value_ratio.append(np.abs(con))\n\nprint(\"Maximum nodal displacements and rotations obtained from spectrum solution:\")\n\n# Prepare data for tabulation\ndata_freq = [\n    [labels[i], target_res[i], sim_res[i], value_ratio[i]]\n    for i in range(len(target_res))\n]\n\n# Define headers\nheaders = [\"Result Node\", \"Target\", \"Mechanical APDL\", \"Ratio\"]\n\n# Print table\nprint(\n    f\"\"\"  \n{tabulate(data_freq, headers=headers, tablefmt=\"grid\")}  \n\"\"\"\n)"
      ]
    },
    {
      "cell_type": "markdown",
      "metadata": {},
      "source": [
        "Element forces and moments obtained from spectrum solution for specific\nelements =======================\n"
      ]
    },
    {
      "cell_type": "code",
      "execution_count": null,
      "metadata": {
        "collapsed": false
      },
      "outputs": [],
      "source": [
        "# For Node# 12:\n\n# Set target values\nTARGET = {\n    12: {\n        \"i\": np.array([24.019, 7.514, 34.728, 123.39, 2131.700, 722.790]),\n        \"j\": np.array([24.018, 7.514, 34.728, 123.39, 2442.700, 786.730]),\n    },\n    14: {\n        \"i\": np.array([5.1505, 7.2868, 7.9178, 450.42, 675.58, 314.970]),\n        \"j\": np.array([6.006, 6.6138, 7.9146, 157.85, 858.09, 302.940]),\n    },\n}\n\nsections = [\n    \"Axial force\",\n    \"Shear force Y\",\n    \"Shear force Z\",\n    \"Torque\",\n    \"Moment Y\",\n    \"Moment Z\",\n]\n\n\nfor node, element in zip([12, 14], [\"Pipe289\", \"Elbow290\"]):\n    print(\"\\n\\n===================================================\")\n    print(f\"Element forces and moments at element {node} ({element})\")\n    print(\"===================================================\")\n\n    etab_i = [\n        f\"pxi_{node}\",\n        f\"vyi_{node}\",\n        f\"vzi_{node}\",\n        f\"txi_{node}\",\n        f\"myi_{node}\",\n        f\"mzi_{node}\",\n    ]\n    etab_j = [\n        f\"pxj_{node}\",\n        f\"vyj_{node}\",\n        f\"vzj_{node}\",\n        f\"txj_{node}\",\n        f\"myj_{node}\",\n        f\"mzj_{node}\",\n    ]\n    targets_i = TARGET[node][\"i\"]\n    targets_j = TARGET[node][\"j\"]\n\n    for each_section, each_tab_i, each_tab_j, target_i, target_j in zip(\n        sections, etab_i, etab_j, targets_i, targets_j\n    ):\n\n        print(f\"\\n{each_section}\")\n        print(\"=\" * len(each_section))\n\n        # Element forces and moments at element, node \"i\"\n        values_i = [\"Node i\"]\n\n        values_i.append(mapdl.get_array(\"ELEM\", \"\", \"ETAB\", each_tab_i)[node - 1])\n        values_i.append(target_i)\n        values_i.append(values_i[1] / target_i)\n\n        # Element forces and moments at element , node \"j\"\n        values_j = [\"Node j\"]\n\n        values_j.append(mapdl.get_array(\"ELEM\", \"\", \"ETAB\", each_tab_j)[node - 1])\n        values_j.append(target_j)\n        values_j.append(values_j[1] / target_j)\n\n        headers = [\"Node\", \"Mechanical APDL\", \"Target\", \"Ratio\"]\n        print(tabulate([values_i, values_j], headers=headers))"
      ]
    },
    {
      "cell_type": "markdown",
      "metadata": {},
      "source": [
        "Reaction forces\n===============\n"
      ]
    },
    {
      "cell_type": "code",
      "execution_count": null,
      "metadata": {
        "collapsed": false
      },
      "outputs": [],
      "source": [
        "print(\"\\n\\nReaction forces\")\nprint(\"===============\")\n\nheaders = reaction_force.get_columns()\nvalues = reaction_force.to_list()\n\nprint(tabulate(values, headers=headers))"
      ]
    },
    {
      "cell_type": "markdown",
      "metadata": {},
      "source": [
        "Stop MAPDL.\n"
      ]
    },
    {
      "cell_type": "code",
      "execution_count": null,
      "metadata": {
        "collapsed": false
      },
      "outputs": [],
      "source": [
        "mapdl.exit()"
      ]
    }
  ],
  "metadata": {
    "kernelspec": {
      "display_name": "Python 3",
      "language": "python",
      "name": "python3"
    },
    "language_info": {
      "codemirror_mode": {
        "name": "ipython",
        "version": 3
      },
      "file_extension": ".py",
      "mimetype": "text/x-python",
      "name": "python",
      "nbconvert_exporter": "python",
      "pygments_lexer": "ipython3",
      "version": "3.12.12"
    }
  },
  "nbformat": 4,
  "nbformat_minor": 0
}