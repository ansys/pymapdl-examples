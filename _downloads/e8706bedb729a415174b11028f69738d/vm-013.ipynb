{
  "cells": [
    {
      "cell_type": "markdown",
      "metadata": {},
      "source": [
        "Cylindrical Shell Under Pressure {#ref_vm13}\n================================\n\nProblem description:\n\n:   -   A long cylindrical pressure vessel of mean diameter d and wall\n        thickness t has closed ends and is subjected to an internal\n        pressure P. Determine the axial stress $\\sigma_y$ and the hoop\n        stress $\\sigma_z$ in the vessel at the midthickness of the wall.\n\nReference:\n\n:   -   S. Timoshenko, Strength of Materials, Part I, Elementary Theory\n        and Problems, 3rd Edition, D. Van Nostrand Co., Inc., New York,\n        NY, 1955, pg. 45, article 11.\n    -   UGURAL AND FENSTER, ADV. STRENGTH AND APPL. ELAS., 1981.\n\nAnalysis type(s):\n\n:   -   Static Analysis `ANTYPE=0`\n\nElement type(s):\n\n:   -   2-Node Finite Strain Axisymmetric Shell (SHELL208)\n\n![VM13 Cylindrical Shell Problem Sketch](../_static/vm13_setup.png){width=\"400px\"}\n\nMaterial properties:\n\n:   -   $E = 30 \\cdot 10^6 psi$\n    -   $\\mu = 0.3$\n\nGeometric properties:\n\n:   -   $t = 1 in$\n    -   $d = 120 in$\n\nLoading:\n\n:   -   $P = 500 psi$\n\nAnalysis Assumptions and Modeling Notes:\n\n:   -   An arbitrary axial length of 10 inches is selected. Nodal\n        coupling is used in the radial direction. An axial force of\n        5654866.8 lb ($(P\u03c0d^2)/4$) is applied to simulate the closed-end\n        effect.\n"
      ]
    },
    {
      "cell_type": "code",
      "execution_count": null,
      "metadata": {
        "collapsed": false
      },
      "outputs": [],
      "source": [
        "# sphinx_gallery_thumbnail_path = '_static/vm13_setup.png'\n\n# Importing the `launch_mapdl` function from the `ansys.mapdl.core` module\nfrom ansys.mapdl.core import launch_mapdl\nimport numpy as np\n\n# Launch MAPDL with specified settings\nmapdl = launch_mapdl(loglevel=\"WARNING\", print_com=True, remove_temp_dir_on_exit=True)\n\n# Clear any existing database\nmapdl.clear()\n\n# Set the ANSYS version\nmapdl.com(\"ANSYS MEDIA REL. 2022R2 (05/13/2022) REF. VERIF. MANUAL: REL. 2022R2\")\n\n# Run the FINISH command to exists normally from a processor\nmapdl.finish()\n\n# Run the /VERIFY command for VM13\nmapdl.verify(\"vm13\")\n\n# Set the title of the analysis\nmapdl.title(\"VM13 CYLINDRICAL SHELL UNDER PRESSURE\")\n\n# Enter the model creation preprocessor\nmapdl.prep7(mute=True)"
      ]
    },
    {
      "cell_type": "markdown",
      "metadata": {},
      "source": [
        "Define element type and section properties\n==========================================\n\nUse 2-Node Axisymmetric Shell element (SHELL208) and \\\"SHELL\\\" as\nsection type.\n"
      ]
    },
    {
      "cell_type": "code",
      "execution_count": null,
      "metadata": {
        "collapsed": false
      },
      "outputs": [],
      "source": [
        "mapdl.et(1, \"SHELL208\")  # Element type SHELL208\nmapdl.sectype(1, \"SHELL\")  # Section type SHELL\nmapdl.secdata(1)  # Define section data\nmapdl.secnum(1)  # Assign section number"
      ]
    },
    {
      "cell_type": "markdown",
      "metadata": {},
      "source": [
        "Define material\n===============\n\nSet up the material and its type (a single material), Young\\'s modulus\nof 30e6 and Poisson\\'s ratio of 0.3 is specified.\n"
      ]
    },
    {
      "cell_type": "code",
      "execution_count": null,
      "metadata": {
        "collapsed": false
      },
      "outputs": [],
      "source": [
        "mapdl.mp(\"EX\", 1, 30e6)\nmapdl.mp(\"NUXY\", 1, 0.3)"
      ]
    },
    {
      "cell_type": "markdown",
      "metadata": {},
      "source": [
        "Define geometry\n===============\n\nSet up the nodes and elements. This creates a mesh just like in the\nproblem setup.\n"
      ]
    },
    {
      "cell_type": "code",
      "execution_count": null,
      "metadata": {
        "collapsed": false
      },
      "outputs": [],
      "source": [
        "mapdl.n(1, 60)  # Node 1, 60 degrees\nmapdl.n(2, 60, 10)  # Node 2, 60 degrees and 10 units in Z-direction\n\n# Define element connectivity\nmapdl.e(1, 2)  # Element 1 with nodes 1 and 2"
      ]
    },
    {
      "cell_type": "markdown",
      "metadata": {},
      "source": [
        "Define coupling and boundary conditions\n=======================================\n\nCouple the nodes \\#1 and 2 in radial direction (rotation around Z-axis).\nFix UY displacement for node 1. Fix ROTZ (rotation around Z-axis) for\nnode 2. Apply a concentrated force value of 5654866.8 lb in FY direction\nat node 2. Internal pressure of 500 psi is applied. Then exit prep7\nprocessor.\n\nEffectively, this sets:\n\n:   $P = 500 psi$\n"
      ]
    },
    {
      "cell_type": "code",
      "execution_count": null,
      "metadata": {
        "collapsed": false
      },
      "outputs": [],
      "source": [
        "mapdl.cp(1, \"UX\", 1, 2)  # Couple radial direction (rotation around Z-axis)\nmapdl.d(1, \"UY\", \"\", \"\", \"\", \"\", \"ROTZ\")  # Fix UY displacement for node 1\nmapdl.d(2, \"ROTZ\")  # Fix ROTZ (rotation around Z-axis) for node 2\n\nmapdl.f(2, \"FY\", 5654866.8)  # Apply a concentrated force FY to node 2\nmapdl.sfe(1, 1, \"PRES\", \"\", 500)  # Apply internal pressure of 500 psi to element 1\n\n# Selects all entities\nmapdl.allsel()\nmapdl.eplot()\n\n# Finish the pre-processing processor\nmapdl.finish()"
      ]
    },
    {
      "cell_type": "markdown",
      "metadata": {},
      "source": [
        "Solve\n=====\n\nEnter solution mode and solve the system.\n"
      ]
    },
    {
      "cell_type": "code",
      "execution_count": null,
      "metadata": {
        "collapsed": false
      },
      "outputs": [],
      "source": [
        "mapdl.slashsolu()\n# Set the analysis type to STATIC\nmapdl.antype(\"STATIC\")\n# Controls the solution printout\nmapdl.outpr(\"ALL\", 1)\n# Solve the analysis\nmapdl.solve()\n# Finish the solution processor\nmapdl.finish()"
      ]
    },
    {
      "cell_type": "markdown",
      "metadata": {},
      "source": [
        "Post-processing\n===============\n\nEnter post-processing and compute stress components.\n"
      ]
    },
    {
      "cell_type": "code",
      "execution_count": null,
      "metadata": {
        "collapsed": false
      },
      "outputs": [],
      "source": [
        "mapdl.post1()\n\n# Create element tables for stress components\nmapdl.etable(\"STRS_Y\", \"S\", \"Y\")\nmapdl.etable(\"STRS_Z\", \"S\", \"Z\")\n\n# Retrieve element stresses from the element tables using *Get\nstress_y = mapdl.get(\"STRSS_Y\", \"ELEM\", 1, \"ETAB\", \"STRS_Y\")\nstress_z = mapdl.get(\"STRSS_Z\", \"ELEM\", 1, \"ETAB\", \"STRS_Z\")\n\n# Fill the array with target values\nTarget_values = np.array([15000, 29749])"
      ]
    },
    {
      "cell_type": "markdown",
      "metadata": {},
      "source": [
        "Verify the results.\n===================\n"
      ]
    },
    {
      "cell_type": "code",
      "execution_count": null,
      "metadata": {
        "collapsed": false
      },
      "outputs": [],
      "source": [
        "results = f\"\"\"\n------------------- VM13 RESULTS COMPARISON ---------------------\n   RESULT      |  TARGET     |   Mechanical APDL   |   RATIO\nStress, Y (psi)  {Target_values[0]:.5f}    {stress_y:.5f}       {abs(stress_y/Target_values[0]):.5f}\nStress, Z (psi)  {Target_values[1]:.5f}    {stress_z:.5f}       {abs(stress_z/Target_values[1]):.5f}\n-----------------------------------------------------------------\n\"\"\"\nprint(results)"
      ]
    },
    {
      "cell_type": "markdown",
      "metadata": {},
      "source": [
        "Finish the post-processing processor.\n=====================================\n"
      ]
    },
    {
      "cell_type": "code",
      "execution_count": null,
      "metadata": {
        "collapsed": false
      },
      "outputs": [],
      "source": [
        "mapdl.finish()"
      ]
    },
    {
      "cell_type": "markdown",
      "metadata": {},
      "source": [
        "Stop MAPDL.\n===========\n"
      ]
    },
    {
      "cell_type": "code",
      "execution_count": null,
      "metadata": {
        "collapsed": false
      },
      "outputs": [],
      "source": [
        "mapdl.exit()"
      ]
    }
  ],
  "metadata": {
    "kernelspec": {
      "display_name": "Python 3",
      "language": "python",
      "name": "python3"
    },
    "language_info": {
      "codemirror_mode": {
        "name": "ipython",
        "version": 3
      },
      "file_extension": ".py",
      "mimetype": "text/x-python",
      "name": "python",
      "nbconvert_exporter": "python",
      "pygments_lexer": "ipython3",
      "version": "3.12.12"
    }
  },
  "nbformat": 4,
  "nbformat_minor": 0
}