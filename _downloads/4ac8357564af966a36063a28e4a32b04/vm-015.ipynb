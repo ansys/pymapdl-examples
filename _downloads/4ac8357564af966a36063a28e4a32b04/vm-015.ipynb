{
  "cells": [
    {
      "cell_type": "markdown",
      "metadata": {},
      "source": [
        "Bending of a Circular Plate Using Axisymmetric Shell Elements {#ref_vm15}\n=============================================================\n\nProblem description:\n\n:   -   A flat circular plate of radius r and thickness t is subject to\n        various edge constraints and surface loadings. Determine the\n        deflection $\\delta$ at the middle and the maximum stress\n        $\\sigma_{max}$ for each case.\n        -   Case 1: Uniform loading $P$, clamped edge.\n        -   Case 2: Concentrated center loading $F$, clamped edge.\n        -   Case 3: Uniform loading $\\frac{P}{4}$, simply supported\n            edge.\n\nReference:\n\n:   -   S. Timoshenko, Strength of Materials, Part II, Elementary Theory\n        and Problems, 3rd Edition, D. Van Nostrand Co., Inc., New York,\n        NY, 1956, pg. 96,97, and 103.\n\nAnalysis type(s):\n\n:   -   Static Analysis `ANTYPE=0`\n\nElement type(s):\n\n:   -   2-Node Finite Strain Axisymmetric Shell (SHELL208)\n\n![VM15 Flat Circular Plate Problem Sketch](../_static/vm15_setup.png){width=\"400px\"}\n\nMaterial properties:\n\n:   -   $E = 30 \\cdot 10^6 psi$\n    -   $\\mu = 0.3$\n\nGeometric properties:\n\n:   -   $r = 40.0 in$\n    -   $t = 1.0 in$\n\nLoading:\n\n:   -   $P = 6.0 psi$\n    -   $F = 7,539.82 lb$\n\nAnalysis Assumptions and Modeling Notes:\n\n:   -   The stiffness matrix formed in the first load step is\n        automatically reused in the second load step. A new stiffness\n        matrix is automatically formed in the third load step because of\n        changed boundary constraints. The mesh density is biased near\n        the centerline and outer edge to recover stress values near\n        those points.\n"
      ]
    },
    {
      "cell_type": "code",
      "execution_count": null,
      "metadata": {
        "collapsed": false
      },
      "outputs": [],
      "source": [
        "# sphinx_gallery_thumbnail_path = '_static/vm15_setup.png'\n\n# Importing the `launch_mapdl` function from the `ansys.mapdl.core` module\nfrom ansys.mapdl.core import launch_mapdl\nimport pandas as pd\n\n# Launch MAPDL with specified settings\nmapdl = launch_mapdl(loglevel=\"WARNING\", print_com=True, remove_temp_dir_on_exit=True)\n\n# Clear any existing database\nmapdl.clear()\n\n# Set the ANSYS version\nmapdl.com(\"ANSYS MEDIA REL. 2022R2 (05/13/2022) REF. VERIF. MANUAL: REL. 2022R2\")\n\n# Run the FINISH command to exists normally from a processor\nmapdl.finish()\n\n# Run the /VERIFY command for VM15\nmapdl.run(\"/VERIFY,VM15\")\n\n# Set the title of the analysis\nmapdl.title(\"VM15 BENDING OF A CIRCULAR PLATE USING AXISYMMETRIC SHELL ELEMENTS\")\n\n# Enter the model creation prep7 preprocessor\nmapdl.prep7(mute=True)"
      ]
    },
    {
      "cell_type": "markdown",
      "metadata": {},
      "source": [
        "Define element type and section properties\n==========================================\n\nUse 2-Node Axisymmetric Shell (SHELL208) and include extra internal\nnode, via Keyopt(3)=2.\n"
      ]
    },
    {
      "cell_type": "code",
      "execution_count": null,
      "metadata": {
        "collapsed": false
      },
      "outputs": [],
      "source": [
        "mapdl.et(1, \"SHELL208\", \"\", \"\", 2)  # Element type SHELL208\nmapdl.sectype(1, \"SHELL\")  # Section type SHELL\nmapdl.secdata(1, 1)  # Section data\nmapdl.secnum(1)  # Section number"
      ]
    },
    {
      "cell_type": "markdown",
      "metadata": {},
      "source": [
        "Define material\n===============\n\nSet up the material and its type (a single material), Young\\'s modulus\nof 30e6 and Poisson\\'s ratio of 0.3 is specified.\n"
      ]
    },
    {
      "cell_type": "code",
      "execution_count": null,
      "metadata": {
        "collapsed": false
      },
      "outputs": [],
      "source": [
        "mapdl.mp(\"EX\", 1, 30e6)  # Young's modulus\nmapdl.mp(\"NUXY\", 1, 0.3)  # Poisson's ratio"
      ]
    },
    {
      "cell_type": "markdown",
      "metadata": {},
      "source": [
        "Define geometry\n===============\n\nSet up the nodes and elements. This creates a mesh just like in the\nproblem setup.\n"
      ]
    },
    {
      "cell_type": "code",
      "execution_count": null,
      "metadata": {
        "collapsed": false
      },
      "outputs": [],
      "source": [
        "mapdl.n(1)  # Node 1\nmapdl.n(11, 40)  # Node 11 at 40 degrees\nmapdl.n(6, 20)  # Node 6 at 20 degrees\n\n# Generate mesh with biased elements\nmapdl.fill(1, 6, 4, \"\", \"\", \"\", \"\", 20)  # BIAS THE MESH TO ALLOW STRESS RECOVERY NEAR\nmapdl.fill(6, 11, 4, \"\", \"\", \"\", \"\", 0.05)  # THE CENTERLINE AND EDGE CONSTRAINTS\n\n# Define element connectivity\nmapdl.e(1, 2)  # Element 1 with nodes 1 and 2\n\n# Generates elements from an existing pattern\nmapdl.egen(10, 1, -1)\n\n# select all entities\nmapdl.allsel()\n# element plot\nmapdl.eplot()\n\n# Finish the pre-processing processor\nmapdl.finish()"
      ]
    },
    {
      "cell_type": "markdown",
      "metadata": {},
      "source": [
        "Solve\n=====\n\nEnter solution mode and solve the system for three load steps.\n"
      ]
    },
    {
      "cell_type": "code",
      "execution_count": null,
      "metadata": {
        "collapsed": false
      },
      "outputs": [],
      "source": [
        "mapdl.slashsolu()\n\n# Set analysis type to static\nmapdl.antype(\"STATIC\")\n\n# Controls the solution printout\nmapdl.outpr(\"\", 1)"
      ]
    },
    {
      "cell_type": "markdown",
      "metadata": {},
      "source": [
        "Define boundary conditions and loadings\n=======================================\n\nFix all degrees of freedom (dof) at node 11 and fix UX & ROTZ dofs at\nnode 1. Solve for three load case scenarios as defined.\n\nCase 1: Apply uniform pressure loading, P = 6 psi near clamped edge.\nCase 2: Concentrated center loading F = 7,539.82 lb, clamped edge. Case\n3: Uniform loading P/4, simply supported edge. Then exit prep7\nprocessor.\n"
      ]
    },
    {
      "cell_type": "code",
      "execution_count": null,
      "metadata": {
        "collapsed": false
      },
      "outputs": [],
      "source": [
        "# Apply boundary conditions and loads for CASE 1\nmapdl.d(1, \"UX\", \"\", \"\", \"\", \"ROTZ\")  # Fix UX and ROTZ for node 1\nmapdl.d(11, \"ALL\")  # Fix all degrees of freedom for node 11\nmapdl.sfe(\"ALL\", 1, \"PRES\", \"\", 6)  # Surface Pressure load = 6 PSI on all elements\n\n# start solve for 1st load case\nmapdl.solve()\n\n# Apply boundary conditions and loads for Load Case 2\n# Load Case 2: Concentrated Center Loading - Clamped Edge\nmapdl.f(1, \"FY\", -7539.82)  # apply concentrated force FY on node 1\nmapdl.sfe(\n    \"ALL\", 1, \"PRES\", \"\", 0\n)  # apply elemental surface pressure load of magnitude \"0\"\n\n# start solve for 2nd load case\nmapdl.solve()\n\n# Apply boundary conditions and loads for Load Case 3\n# Load Case 3: Uniform Loading - Simply Supported Edge\nmapdl.ddele(11, \"ROTZ\")  # Delete clamped boundary condition constraint\nmapdl.f(1, \"FY\")  # apply nodal force of magnitude \"0\"\nmapdl.sfe(\"ALL\", 1, \"PRES\", \"\", 1.5)  # elemental surface pressure load = 1.5 PSI\n\n# start solve for 3rd load case\nmapdl.solve()\n\n# exists solution processor\nmapdl.finish()"
      ]
    },
    {
      "cell_type": "markdown",
      "metadata": {},
      "source": [
        "Post-processing\n===============\n\nEnter post-processing. Compute deflection and stress components.\n"
      ]
    },
    {
      "cell_type": "code",
      "execution_count": null,
      "metadata": {
        "collapsed": false
      },
      "outputs": [],
      "source": [
        "mapdl.post1()\n\n# Set displacement scaling for post-processing\n# mapdl.dscale(1, 35)\n\n# Set up and activate window 1\nmapdl.window(1, -1, 1, -1, -0.333)\n\n# reactivates suppressed printout\nmapdl.gopr()\n\n# Set 1st load case to be read from result file for post-processing\nmapdl.set(1, 1)\n\nmapdl.pldisp(1)  # Displays the displaced structure\nmapdl.window(1, \"OFF\")  # Turn off window 1\nmapdl.window(2, -1, 1, -0.333, 0.333, 1)  # Turn on window 2\n\n# Don't erase existing displays\nmapdl.run(\"/NOERASE\")"
      ]
    },
    {
      "cell_type": "markdown",
      "metadata": {},
      "source": [
        "Inline functions in PyMAPDL to query node\n=========================================\n"
      ]
    },
    {
      "cell_type": "code",
      "execution_count": null,
      "metadata": {
        "collapsed": false
      },
      "outputs": [],
      "source": [
        "q = mapdl.queries\n# Grab node using coordinates and assign it variable to \"MID_NODE\"\nMID_NODE = q.node(0, 0, 0)"
      ]
    },
    {
      "cell_type": "markdown",
      "metadata": {},
      "source": [
        "Retrieve nodal deflection and elemental stresses for each load cases\n====================================================================\n"
      ]
    },
    {
      "cell_type": "code",
      "execution_count": null,
      "metadata": {
        "collapsed": false
      },
      "outputs": [],
      "source": [
        "# 1st load case, retrieve nodal defection UY for a node assigned to \"DEF_C1\"\ndef_c1 = mapdl.get(\"DEF_C1\", \"NODE\", MID_NODE, \"U\", \"Y\")\n# Define etable for elemental component stress (X)\nmapdl.etable(\"STRS\", \"S\", \"X\")\n# using *get command extracting elemental stress via ETAB\nstrss_c1 = mapdl.get(\"STRSS_C1\", \"ELEM\", 10, \"ETAB\", \"STRS\")\n\n# Set 2nd load case to be read from result file for post-processing\nmapdl.set(2, 1)\n\nmapdl.pldisp()  # Displays the displaced structure\nmapdl.window(2, \"OFF\")  # Turn off window 2\nmapdl.window(3, -1, 1, 0.333, 1, 1)  # Turn on window 3\n\n# retrieve nodal defection UY for a node assigned to \"DEF_C2\"\ndef_c2 = mapdl.get(\"DEF_C2\", \"NODE\", MID_NODE, \"U\", \"Y\")\n# Define etable for elemental component stress (X)\nmapdl.etable(\"STRS\", \"S\", \"X\")\n# using *get command extracting elemental stress via ETAB\nstrss_c2 = mapdl.get(\"STRSS_C2\", \"ELEM\", 10, \"ETAB\", \"STRS\")\n\n# Set 2nd load case to be read from result file for post-processing\nmapdl.set(3, 1)\n\nmapdl.pldisp()  # Displays the displaced structure\n# retrieve nodal defection UY for a node assigned to \"DEF_C3\"\ndef_c3 = mapdl.get(\"DEF_C3\", \"NODE\", MID_NODE, \"U\", \"Y\")\n# Define etable for elemental component stress (X)\nmapdl.etable(\"STRS\", \"S\", \"X\")\n# using *get command extracting elemental stress via ETAB\nstrss_c3 = mapdl.get(\"STRSS_C3\", \"ELEM\", 1, \"ETAB\", \"STRS\")"
      ]
    },
    {
      "cell_type": "markdown",
      "metadata": {},
      "source": [
        "Verify the results.\n===================\n"
      ]
    },
    {
      "cell_type": "code",
      "execution_count": null,
      "metadata": {
        "collapsed": false
      },
      "outputs": [],
      "source": [
        "# Set target values\ntarget_def = [-0.08736, -0.08736, -0.08904]\ntarget_strss = [7200, 3600, 2970]\n\n# Fill result values\nres_def = [def_c1, def_c2, def_c3]\nres_strss = [strss_c1, strss_c2, strss_c3]\n\ntitle = f\"\"\"\n\n------------------- VM15 RESULTS COMPARISON ---------------------\n\"\"\"\nprint(title)\n\ncol_headers = [\"TARGET\", \"Mechanical APDL\", \"RATIO\"]\nrow_headers = [\"DEFLECTION (in)\", \"MAX STRESS (psi)\"]\n\nfor lc in range(len(res_def)):\n    data = [\n        [target_def[lc], res_def[lc], abs(target_def[lc] / res_def[lc])],\n        [target_strss[lc], abs(res_strss[lc]), abs(target_strss[lc] / res_strss[lc])],\n    ]\n\n    title = f\"\"\"\n\nRESULTS FOR CASE {lc+1:1d}:\n-------------------\n\n    \"\"\"\n    print(title)\n    print(pd.DataFrame(data, row_headers, col_headers))"
      ]
    },
    {
      "cell_type": "markdown",
      "metadata": {},
      "source": [
        "Finish the post-processing processor.\n=====================================\n"
      ]
    },
    {
      "cell_type": "code",
      "execution_count": null,
      "metadata": {
        "collapsed": false
      },
      "outputs": [],
      "source": [
        "mapdl.finish()"
      ]
    },
    {
      "cell_type": "markdown",
      "metadata": {},
      "source": [
        "Stop MAPDL.\n===========\n"
      ]
    },
    {
      "cell_type": "code",
      "execution_count": null,
      "metadata": {
        "collapsed": false
      },
      "outputs": [],
      "source": [
        "mapdl.exit()"
      ]
    }
  ],
  "metadata": {
    "kernelspec": {
      "display_name": "Python 3",
      "language": "python",
      "name": "python3"
    },
    "language_info": {
      "codemirror_mode": {
        "name": "ipython",
        "version": 3
      },
      "file_extension": ".py",
      "mimetype": "text/x-python",
      "name": "python",
      "nbconvert_exporter": "python",
      "pygments_lexer": "ipython3",
      "version": "3.12.12"
    }
  },
  "nbformat": 4,
  "nbformat_minor": 0
}