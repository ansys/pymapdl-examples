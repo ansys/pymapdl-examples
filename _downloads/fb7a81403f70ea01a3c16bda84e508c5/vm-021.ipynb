{
  "cells": [
    {
      "cell_type": "markdown",
      "metadata": {},
      "source": [
        "Tie Rod with Lateral Loading {#ref_vm21}\n============================\n\nProblem description:\n\n:   -   A tie rod is subjected to the action of a tensile force F and a\n        uniform lateral load p. Determine the maximum deflection\n        $z_{max}$, the slope $\\theta$ at the left-hand end, and the\n        maximum bending moment $M_{max}$. In addition, determine the\n        same three quantities for the unstiffened tie rod (F = 0).\n\nReference:\n\n:   -   S. Timoshenko, Strength of Materials, Part II, Elementary Theory\n        and Problems, 3rd Edition, D. Van Nostrand Co., Inc., New York,\n        NY, 1956, pg. 42, article 6.\n\nAnalysis type(s):\n\n:   -   Static, Stress Stiffening Analysis `ANTYPE=0`\n\nElement type(s):\n\n:   -   3-D 2 node beam (BEAM188)\n\n![VM21 Tie Rod Problem Sketch](../_static/vm21_setup.png){width=\"400px\"}\n\nMaterial properties:\n\n:   -   $E = 30 \\cdot 10^6 psi$\n\nGeometric properties:\n\n:   -   $l = 200 in$\n    -   $b = h = 2.5 in$\n\nLoading:\n\n:   -   $F = 21,972.6 lb$\n    -   $p = 1.79253 lb/in$\n\nAnalysis Assumptions and Modeling Notes:\n\n:   -   Due to symmetry, only one-half of the beam is modeled. The full\n        load is applied for each iteration. The first solution\n        represents the unstiffened case. The second solution represents\n        the stiffened case.\n"
      ]
    },
    {
      "cell_type": "code",
      "execution_count": null,
      "metadata": {
        "collapsed": false
      },
      "outputs": [],
      "source": [
        "# sphinx_gallery_thumbnail_path = '_static/vm21_setup.png'\n\n# Importing the `launch_mapdl` function from the `ansys.mapdl.core` module\nfrom ansys.mapdl.core import launch_mapdl\nimport numpy as np\nimport pandas as pd\n\n# Launch MAPDL with specified options\nmapdl = launch_mapdl(loglevel=\"WARNING\", print_com=True, remove_temp_dir_on_exit=True)\n\n# Clear the current database\nmapdl.clear()\n\n# Run the FINISH command to exists normally from a processor\nmapdl.finish()\n\n# Set the ANSYS version\nmapdl.com(\"ANSYS MEDIA REL. 2022R2 (05/13/2022) REF. VERIF. MANUAL: REL. 2022R2\")\n\n# Run the /VERIFY command for VM21\nmapdl.run(\"/VERIFY,VM21\")\n\n# Set the title of the analysis\nmapdl.title(\"VM21 TIE ROD WITH LATERAL LOADING NO STREES STIFFENING\")\n\n# Enter the model creation /Prep7 preprocessor\nmapdl.prep7()"
      ]
    },
    {
      "cell_type": "markdown",
      "metadata": {},
      "source": [
        "Define element type and section properties\n==========================================\n\nUse 3-D 2-Node Beam Element and specify cubic shape function via setting\nKeyopt(3)=3.\n"
      ]
    },
    {
      "cell_type": "code",
      "execution_count": null,
      "metadata": {
        "collapsed": false
      },
      "outputs": [],
      "source": [
        "mapdl.et(1, \"BEAM188\")\n\nmapdl.keyopt(1, 3, 3)  # Set KEYOPT(3) to 3 cubic shape function\nmapdl.sectype(1, \"BEAM\", \"RECT\")  # Specify section properties for the beam element\nmapdl.secdata(2.5, 2.5)  # Define section data"
      ]
    },
    {
      "cell_type": "markdown",
      "metadata": {},
      "source": [
        "Define material\n===============\n\nSet up the material and its type (a single material), Young\\'s modulus\nof 30e6 and Poisson\\'s ratio PRXY of 0.3 is specified.\n"
      ]
    },
    {
      "cell_type": "code",
      "execution_count": null,
      "metadata": {
        "collapsed": false
      },
      "outputs": [],
      "source": [
        "mapdl.mp(\"EX\", 1, 30e6)\nmapdl.mp(\"PRXY\", \"\", 0.3)"
      ]
    },
    {
      "cell_type": "markdown",
      "metadata": {},
      "source": [
        "Define geometry\n===============\n\nSet up the nodes and elements. This creates a mesh just like in the\nproblem setup.\n"
      ]
    },
    {
      "cell_type": "code",
      "execution_count": null,
      "metadata": {
        "collapsed": false
      },
      "outputs": [],
      "source": [
        "mapdl.n(1)  # define nodes\nmapdl.n(5, 100)\n\n# Generate additional nodes\nmapdl.fill()\n\n# Define elements\nmapdl.e(1, 2)\n\n# Generate additional elements from an existing pattern\nmapdl.egen(4, 1, 1)"
      ]
    },
    {
      "cell_type": "markdown",
      "metadata": {},
      "source": [
        "Define boundary conditions and loading\n======================================\n\nApply a displacement boundary condition in the UY, ROTX and ROTZ\ndirections to all nodes. Specify symmetry degree-of-freedom constraints\non nodes, surface normal to X-dir (default). Apply a tensile force in\nX-dir, F = -21972.6 lb and a uniform lateral load, p = 1.79253 lb/in.\nThen exit prep7 processor.\n"
      ]
    },
    {
      "cell_type": "code",
      "execution_count": null,
      "metadata": {
        "collapsed": false
      },
      "outputs": [],
      "source": [
        "mapdl.d(\"ALL\", \"UY\", \"\", \"\", \"\", \"\", \"ROTX\", \"ROTZ\")\nmapdl.d(1, \"UZ\")\n\n# Select nodes for symmetry boundary\nmapdl.nsel(\"S\", \"\", \"\", 5)\nmapdl.dsym(\"SYMM\", \"X\")\n\n# Select all nodes\nmapdl.nsel(\"ALL\")\n\n# Apply nodal force along x-direction\nmapdl.f(1, \"FX\", -21972.6)\n# Specifies surface loads on beam and pipe elements.\nmapdl.sfbeam(\"ALL\", 1, \"PRES\", 1.79253)\n\n# Selects all entities\nmapdl.allsel()\n# Element plot\nmapdl.eplot()\n\n# Finish pre-processing processor\nmapdl.finish()"
      ]
    },
    {
      "cell_type": "markdown",
      "metadata": {},
      "source": [
        "Solve\n=====\n\nEnter solution mode and solve the system.\n"
      ]
    },
    {
      "cell_type": "code",
      "execution_count": null,
      "metadata": {
        "collapsed": false
      },
      "outputs": [],
      "source": [
        "mapdl.slashsolu()\n\n# Set the analysis type to STATIC\nmapdl.antype(\"STATIC\")\n# Perform the solution\nmapdl.solve()\n# exists solution processor\nmapdl.finish()"
      ]
    },
    {
      "cell_type": "markdown",
      "metadata": {},
      "source": [
        "Post-processing\n===============\n\nEnter post-processing. Compute displacement and rotation quantities.\n"
      ]
    },
    {
      "cell_type": "code",
      "execution_count": null,
      "metadata": {
        "collapsed": false
      },
      "outputs": [],
      "source": [
        "mapdl.post1()\n\n# Select nodes for results output\nmapdl.nsel(\"S\", \"\", \"\", 1, 5, 4)\n\n# Print displacement quantities in Z direction\nmapdl.prnsol(\"U\", \"Z\")\n\n# Print rotation quantities in Y direction\nmapdl.prnsol(\"ROT\", \"Y\")\n\n# Select all nodes\nmapdl.nsel(\"ALL\")\n\n# Print results solution\nmapdl.prrsol()"
      ]
    },
    {
      "cell_type": "markdown",
      "metadata": {},
      "source": [
        "Inline functions in PyMAPDL to query node\n=========================================\n"
      ]
    },
    {
      "cell_type": "code",
      "execution_count": null,
      "metadata": {
        "collapsed": false
      },
      "outputs": [],
      "source": [
        "q = mapdl.queries\nRGHT_END = q.node(200, 0, 0)  # store node number to 'RGHT_END' with coordinate (4,0,0)\nLFT_END = q.node(0, 0, 0)  # store node number to 'LFT_END' with coordinate (4,0,0)"
      ]
    },
    {
      "cell_type": "markdown",
      "metadata": {},
      "source": [
        "Retrieve nodal deflection and rotation\n======================================\n"
      ]
    },
    {
      "cell_type": "code",
      "execution_count": null,
      "metadata": {
        "collapsed": false
      },
      "outputs": [],
      "source": [
        "# Get results at node RGHT_END\nuz_mx_c2 = mapdl.get(\"UZ_MX_C2\", \"NODE\", RGHT_END, \"U\", \"Z\")\n\n# Get results at node LFT_END\nslope_c2 = mapdl.get(\"SLOPE_C2\", \"NODE\", LFT_END, \"ROT\", \"Y\")\n\n# exists post-processing processor\nmapdl.finish()"
      ]
    },
    {
      "cell_type": "markdown",
      "metadata": {},
      "source": [
        "Post-processing\n===============\n\nEnter /post26 time-history post-processing processor.\n"
      ]
    },
    {
      "cell_type": "code",
      "execution_count": null,
      "metadata": {
        "collapsed": false
      },
      "outputs": [],
      "source": [
        "mapdl.post26()\n\n# Specifies the total reaction force data to be stored at nodes associated to RGHT_END\nmapdl.rforce(2, RGHT_END, \"M\", \"Y\")\n\n# Store results\nmapdl.store()\n# Get maximum moment at node RGHT_END\nm_mx_c2 = mapdl.get(\"M_MX_C2\", \"VARI\", 2, \"EXTREM\", \"VMAX\")\n\n# exists post-processing processor\nmapdl.finish()"
      ]
    },
    {
      "cell_type": "markdown",
      "metadata": {},
      "source": [
        "Set a new title for the analysis\n================================\n"
      ]
    },
    {
      "cell_type": "code",
      "execution_count": null,
      "metadata": {
        "collapsed": false
      },
      "outputs": [],
      "source": [
        "mapdl.title(\"VM21 TIE ROD WITH LATERAL LOADING STRESS STIFFENING PRESENT\")"
      ]
    },
    {
      "cell_type": "markdown",
      "metadata": {},
      "source": [
        "Solve\n=====\n\nEnter new solution mode and solve the nonlinear system including stress\nstiffening.\n"
      ]
    },
    {
      "cell_type": "code",
      "execution_count": null,
      "metadata": {
        "collapsed": false
      },
      "outputs": [],
      "source": [
        "mapdl.slashsolu()\n\n# Set number of substeps to 5\nmapdl.nsubst(5)\n# Activate auto time stepping\nmapdl.autots(\"ON\")\n# Activate nonlinear geometry\nmapdl.nlgeom(\"ON\")\n# Set a smaller convergence tolerance\nmapdl.cnvtol(\"F\", \"\", 0.0001, \"\", 1)\n# Perform the solution\nmapdl.solve()\n# exists solution processor\nmapdl.finish()"
      ]
    },
    {
      "cell_type": "markdown",
      "metadata": {},
      "source": [
        "Post-processing\n===============\n\nEnter post-processing. Compute displacement and rotation quantities.\n"
      ]
    },
    {
      "cell_type": "code",
      "execution_count": null,
      "metadata": {
        "collapsed": false
      },
      "outputs": [],
      "source": [
        "mapdl.post1()\n\n# Select nodes for results output\nmapdl.nsel(\"S\", \"\", \"\", 1, 5, 4)\n# Print displacement quantities in Z direction\nmapdl.prnsol(\"U\", \"Z\")\n# Print rotation quantities in Y direction\nmapdl.prnsol(\"ROT\", \"Y\")\n# Print results solution\nmapdl.prrsol()\n\n# Get results at node RGHT_END\nuz_mx_c1 = mapdl.get(\"UZ_MX_C1\", \"NODE\", RGHT_END, \"U\", \"Z\")\n\n# Get results at node LFT_END\nslope_c1 = mapdl.get(\"SLOPE_C1\", \"NODE\", LFT_END, \"ROT\", \"Y\")\n\n# exists post-processing processor\nmapdl.finish()"
      ]
    },
    {
      "cell_type": "markdown",
      "metadata": {},
      "source": [
        "Post-processing\n===============\n\nEnter /post26 time-history post-processing processor.\n"
      ]
    },
    {
      "cell_type": "code",
      "execution_count": null,
      "metadata": {
        "collapsed": false
      },
      "outputs": [],
      "source": [
        "mapdl.post26()\n\n# Specifies the total reaction force data to be stored at nodes associated to RGHT_END\nmapdl.rforce(2, RGHT_END, \"M\", \"Y\")\n\n# Store results\nmapdl.store()\n\n# Get maximum moment at node RGHT_END\nm_mx_c1 = mapdl.get(\"M_MX_C1\", \"VARI\", 2, \"EXTREM\", \"VMAX\")"
      ]
    },
    {
      "cell_type": "markdown",
      "metadata": {},
      "source": [
        "Verify the results.\n===================\n"
      ]
    },
    {
      "cell_type": "code",
      "execution_count": null,
      "metadata": {
        "collapsed": false
      },
      "outputs": [],
      "source": [
        "# Set target values\ntarget_res = [-0.19945, 0.0032352, -4580.1]\ntarget_res_strss = [-0.38241, 0.0061185, -8962.7]\n\n# Fill result values\nsim_res = [uz_mx_c1, slope_c1, m_mx_c1]\nsim_res_strss = [uz_mx_c2, slope_c2, m_mx_c2]\n\ntitle = f\"\"\"\n\n------------------- VM21 RESULTS COMPARISON ---------------------\n\nF neq 0 (stiffened):\n--------------------\n\n\"\"\"\n\ncol_headers = [\"TARGET\", \"Mechanical APDL\", \"RATIO\"]\nrow_headers = [\"Z_max, in\", \"Slope, rad\", \"M_max , in-lb\"]\n\ndata = [target_res, sim_res, np.abs(target_res) / np.abs(sim_res)]\n\nprint(title)\nprint(pd.DataFrame(np.transpose(data), row_headers, col_headers))\n\ntitle = f\"\"\"\n\n\nF = 0 (unstiffened):\n--------------------\n\n\"\"\"\n\nrow_headers = [\"Z_max, in\", \"Slope, rad\", \"M_max , in-lb\"]\ndata = [\n    target_res_strss,\n    sim_res_strss,\n    np.abs(target_res_strss) / np.abs(sim_res_strss),\n]\n\nprint(title)\nprint(pd.DataFrame(np.transpose(data), row_headers, col_headers))"
      ]
    },
    {
      "cell_type": "markdown",
      "metadata": {},
      "source": [
        "Finish the post-processing processor.\n=====================================\n"
      ]
    },
    {
      "cell_type": "code",
      "execution_count": null,
      "metadata": {
        "collapsed": false
      },
      "outputs": [],
      "source": [
        "mapdl.finish()"
      ]
    },
    {
      "cell_type": "markdown",
      "metadata": {},
      "source": [
        "Stop MAPDL.\n===========\n"
      ]
    },
    {
      "cell_type": "code",
      "execution_count": null,
      "metadata": {
        "collapsed": false
      },
      "outputs": [],
      "source": [
        "mapdl.exit()"
      ]
    }
  ],
  "metadata": {
    "kernelspec": {
      "display_name": "Python 3",
      "language": "python",
      "name": "python3"
    },
    "language_info": {
      "codemirror_mode": {
        "name": "ipython",
        "version": 3
      },
      "file_extension": ".py",
      "mimetype": "text/x-python",
      "name": "python",
      "nbconvert_exporter": "python",
      "pygments_lexer": "ipython3",
      "version": "3.12.12"
    }
  },
  "nbformat": 4,
  "nbformat_minor": 0
}