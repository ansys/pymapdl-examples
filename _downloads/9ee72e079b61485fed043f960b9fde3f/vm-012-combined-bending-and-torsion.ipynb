{
  "cells": [
    {
      "cell_type": "markdown",
      "metadata": {},
      "source": [
        "Combined bending and torsion {#ref_vm12_example}\n============================\n\nProblem description:\n\n:   -   A vertical bar of length $l$ is subjected to the action of a\n        horizontal force F acting at a distance d from the axis of the\n        bar. Determine the maximum principal stress $\\sigma _{max}$ and\n        the maximum shear stress $\\tau _ {max}$ in the bar.\n\nReference:\n\n:   -   Timoshenko, Strength of Materials, Part I, Elementary Theory and\n        Problems, 3rd Edition, D. Van Nostrand Co., Inc., New York, NY,\n        1955, pg. 299, problem 2.\n\nAnalysis type(s):\n\n:   -   Static analysis `ANTYPE=0`\n\nElement type(s):\n\n:   -   Elastic straight pipe element (`PIPE16`)\n    -   3D 2 Node pipe element (`PIPE288`)\n\n![VM12 Problem Sketch](../_static/vm12_setup.png){width=\"400px\"}\n\nMaterial properties\n\n:   -   $E = 30 \\cdot 10^6 psi$\n    -   $u=0.3$\n\nGeometric properties:\n\n:   -   $l = 25 l$\n    -   $d = 3 ft$\n    -   Section modulus $(l/c) = 10 in^3$\n    -   Outer Diameter $= 4.67017 in$\n    -   Wall Thickness $= 2.33508 in$\n\nLoading:\n\n:   -   $F = 250 lb$\n    -   $M = Fd = 9000 in-lb$\n\nAnalysis assumptions and modeling notes:\n\n:   -   Use consistent length units of inches. Real constants for PIPE16\n        and section properties for PIPE288 are used to define the pipe\n        Outer Diameter and Wall Thickness. These values are calculated\n        for a solid cross-section from the given section modulus. The\n        offset load is applied as a centroidal force and a moment.\n"
      ]
    },
    {
      "cell_type": "code",
      "execution_count": null,
      "metadata": {
        "collapsed": false
      },
      "outputs": [],
      "source": [
        "# sphinx_gallery_thumbnail_path = '_static/vm12_setup.png'\n\nfrom ansys.mapdl.core import launch_mapdl\nimport pandas"
      ]
    },
    {
      "cell_type": "markdown",
      "metadata": {},
      "source": [
        "Start MAPDL\n===========\n\nStart MAPDL.\n"
      ]
    },
    {
      "cell_type": "code",
      "execution_count": null,
      "metadata": {
        "collapsed": false
      },
      "outputs": [],
      "source": [
        "mapdl = launch_mapdl(loglevel=\"WARNING\", print_com=True)\nmapdl.clear()  # optional as MAPDL just started"
      ]
    },
    {
      "cell_type": "markdown",
      "metadata": {},
      "source": [
        "Pre-processing with ET PIPE16\n=============================\n"
      ]
    },
    {
      "cell_type": "code",
      "execution_count": null,
      "metadata": {
        "collapsed": false
      },
      "outputs": [],
      "source": [
        "mapdl.verify(\"vm12\")\nmapdl.prep7()\n\nmapdl.antype(\"STATIC\")\nmapdl.et(1, \"PIPE16\")\nmapdl.r(1, 4.67017, 2.33508)  # REAL CONSTANTS FOR SOLID CROSS SECTION\nmapdl.mp(\"EX\", 1, 30e6)\nmapdl.mp(\"NUXY\", 1, 0.3)\nmapdl.n(1)\nmapdl.n(2, \"\", \"\", 300)\nmapdl.e(1, 2)\nmapdl.d(1, \"ALL\")\nmapdl.f(2, \"MZ\", 9000)\nmapdl.f(2, \"FX\", -250)\nmapdl.finish()"
      ]
    },
    {
      "cell_type": "markdown",
      "metadata": {},
      "source": [
        "Solve\n=====\n"
      ]
    },
    {
      "cell_type": "code",
      "execution_count": null,
      "metadata": {
        "collapsed": false
      },
      "outputs": [],
      "source": [
        "mapdl.slashsolu()\nmapdl.outpr(\"BASIC\", 1)\n\nmapdl.solve()\nmapdl.finish()\nmapdl.post1()\nmapdl.etable(\"P_STRS\", \"NMISC\", 86)\nmapdl.etable(\"SHR\", \"NMISC\", 88)"
      ]
    },
    {
      "cell_type": "markdown",
      "metadata": {},
      "source": [
        "Post-processing\n===============\n"
      ]
    },
    {
      "cell_type": "code",
      "execution_count": null,
      "metadata": {
        "collapsed": false
      },
      "outputs": [],
      "source": [
        "p_stress = mapdl.get(\"P_STRESS\", \"ELEM\", 1, \"ETAB\", \"P_STRS\")\nshear = mapdl.get(\"SHEAR\", \"ELEM\", 1, \"ETAB\", \"SHR\")\np_trs = shear / 2\n\n# Fill the array with target values\ntarget_p_stress = 7527\ntarget_p_trs = 3777\n\ndata = [\n    [target_p_stress, p_stress, abs(p_stress / target_p_stress)],\n    [target_p_trs, p_trs, abs(p_trs / target_p_trs)],\n]\ncol_headers = [\"TARGET\", \"Mechanical APDL\", \"RATIO\"]\nrow_headers = [\"MAX PRINSTRS psi\", \"MAX SH STRS psi\"]"
      ]
    },
    {
      "cell_type": "markdown",
      "metadata": {},
      "source": [
        "Verify the results.\n===================\n"
      ]
    },
    {
      "cell_type": "code",
      "execution_count": null,
      "metadata": {
        "collapsed": false
      },
      "outputs": [],
      "source": [
        "print(pandas.DataFrame(data, row_headers, col_headers))"
      ]
    },
    {
      "cell_type": "markdown",
      "metadata": {},
      "source": [
        "Pre-processing with ET PIPE288\n==============================\n"
      ]
    },
    {
      "cell_type": "code",
      "execution_count": null,
      "metadata": {
        "collapsed": false
      },
      "outputs": [],
      "source": [
        "mapdl.clear(\"nostart\")\nmapdl.prep7()\nmapdl.run(\"C***     USING PIPE288\")\nmapdl.antype(\"STATIC\")\nmapdl.et(1, \"PIPE288\", \"\", \"\", \"\", 2)\nmapdl.sectype(1, \"PIPE\")\nmapdl.secdata(4.67017, 2.33508)\nmapdl.keyopt(1, 3, 3)  # CUBIC SHAPE FUNCTION\nmapdl.mp(\"EX\", 1, 30e6)\nmapdl.mp(\"NUXY\", 1, 0.3)\nmapdl.n(1)\nmapdl.n(2, \"\", \"\", 300)\nmapdl.e(1, 2)\nmapdl.d(1, \"ALL\")\nmapdl.f(2, \"MZ\", 9000)\nmapdl.f(2, \"FX\", -250)\nmapdl.finish()\n\nmapdl.allsel()\nmapdl.eplot()"
      ]
    },
    {
      "cell_type": "markdown",
      "metadata": {},
      "source": [
        "Solve\n=====\n"
      ]
    },
    {
      "cell_type": "code",
      "execution_count": null,
      "metadata": {
        "collapsed": false
      },
      "outputs": [],
      "source": [
        "mapdl.slashsolu()\nmapdl.outpr(\"BASIC\", 1)\nmapdl.solve()\nmapdl.finish()"
      ]
    },
    {
      "cell_type": "markdown",
      "metadata": {},
      "source": [
        "Post-processing\n===============\n"
      ]
    },
    {
      "cell_type": "code",
      "execution_count": null,
      "metadata": {
        "collapsed": false
      },
      "outputs": [],
      "source": [
        "mapdl.post1()\nmapdl.set(\"LAST\")\nmapdl.graphics(\"POWER\")\nmapdl.eshape(1)\nmapdl.view(1, 1, 1, 1)\n\nmapdl.show(option=\"REV\", fname=\"png\")\nmapdl.plesol(\"S\", 1)\nmapdl.show(\"close\")\n\np_stress = mapdl.get(\"P_STRESS\", \"PLNSOL\", 0, \"MAX\")\n\nmapdl.show(option=\"REV\", fname=\"png\")\nmapdl.plesol(\"S\", \"INT\")\nmapdl.show(\"close\")\n\nshear = mapdl.get(\"SHEAR\", \"PLNSOL\", 0, \"MAX\")\np_trs = shear / 2\n\n\n# Fill the array with target values\ntarget_p_stress = 7527.0\ntarget_p_trs = 3777.0\n\ndata = [\n    [target_p_stress, p_stress, abs(p_stress / target_p_stress)],\n    [target_p_trs, p_trs, abs(p_trs / target_p_trs)],\n]\ncol_headers = [\"TARGET\", \"Mechanical APDL\", \"RATIO\"]\nrow_headers = [\"MAX PRINSTRS psi\", \"MAX SH STRS psi\"]"
      ]
    },
    {
      "cell_type": "markdown",
      "metadata": {},
      "source": [
        "Verify the results.\n===================\n"
      ]
    },
    {
      "cell_type": "code",
      "execution_count": null,
      "metadata": {
        "collapsed": false
      },
      "outputs": [],
      "source": [
        "print(pandas.DataFrame(data, row_headers, col_headers))\n\nmapdl.finish()\nmapdl.starlist(\"vm12\", \"vrt\")"
      ]
    },
    {
      "cell_type": "markdown",
      "metadata": {},
      "source": [
        "Stop MAPDL.\n"
      ]
    },
    {
      "cell_type": "code",
      "execution_count": null,
      "metadata": {
        "collapsed": false
      },
      "outputs": [],
      "source": [
        "mapdl.exit()"
      ]
    }
  ],
  "metadata": {
    "kernelspec": {
      "display_name": "Python 3",
      "language": "python",
      "name": "python3"
    },
    "language_info": {
      "codemirror_mode": {
        "name": "ipython",
        "version": 3
      },
      "file_extension": ".py",
      "mimetype": "text/x-python",
      "name": "python",
      "nbconvert_exporter": "python",
      "pygments_lexer": "ipython3",
      "version": "3.12.12"
    }
  },
  "nbformat": 4,
  "nbformat_minor": 0
}