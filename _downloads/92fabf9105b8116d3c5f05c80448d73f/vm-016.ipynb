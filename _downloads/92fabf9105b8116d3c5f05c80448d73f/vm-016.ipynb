{
  "cells": [
    {
      "cell_type": "markdown",
      "metadata": {},
      "source": [
        "Bending of a Solid Beam (Plane Elements) {#ref_vm16}\n========================================\n\nProblem description:\n\n:   -   A beam of length $l$ and height $h$ is built-in at one end and\n        loaded at the free end with:\n\n        -   Case 1: a moment $M$.\n        -   Case 2: a shear force $F$.\n\n        For each case, determine the deflection $\\delta$ at the free end\n        and the bending stress $\\sigma_{Bend}$ a distance d from the\n        wall at the outside fiber.\n\nReference:\n\n:   -   Formulas for Stress and Strain, R. J. Roark, 4th Edition,\n        McGraw-Hill Book Co., Inc., New York, NY, 1965, pp. 104, 106.\n\nAnalysis type(s):\n\n:   -   Static Analysis `ANTYPE=0`\n\nElement type(s):\n\n:   -   2-D Structural Solid Elements (PLANE42)\n    -   2-D 4 Node structural elements(PLANE182)\n\n![VM16 Bending of a Solid Beam with Plane Elements Problem Sketch](../_static/vm16_setup.png){width=\"400px\"}\n\nMaterial properties:\n\n:   -   $E = 30 \\cdot 10^6 psi$\n    -   $\\mu = 0.0$\n\nGeometric properties:\n\n:   -   $l = 10 in$\n    -   $h = 2.0 in$\n    -   $d = 1.0 in$\n\nLoading:\n\n:   -   Case 1, $M = 2000 in-lb$\n    -   Case 2, $F = 300 lb$\n\nAnalysis Assumptions and Modeling Notes:\n\n:   -   The stiffness matrix formed in the first load step is also used\n        in the second load step (automatically determined by Mechanical\n        APDL). The end moment is represented by equal and opposite\n        forces separated by a distance h. The bending stress is obtained\n        from face stresses on element 1.\n"
      ]
    },
    {
      "cell_type": "code",
      "execution_count": null,
      "metadata": {
        "collapsed": false
      },
      "outputs": [],
      "source": [
        "# sphinx_gallery_thumbnail_path = '_static/vm16_setup.png'\n\n# Importing the `launch_mapdl` function from the `ansys.mapdl.core` module\nfrom ansys.mapdl.core import launch_mapdl\nimport pandas as pd\n\n# Launch MAPDL with specified options\nmapdl = launch_mapdl(loglevel=\"WARNING\", print_com=True, remove_temp_dir_on_exit=True)\n\n# Clear the existing database\nmapdl.clear()\n\n# Run the FINISH command to exists normally from a processor\nmapdl.finish()\n\n# Run a /VERIFY command to verify the installation\nmapdl.run(\"/VERIFY,VM16\")\n\n# Set the ANSYS version and reference verification manual\nmapdl.com(\"ANSYS MEDIA REL. 2022R2 (05/13/2022) REF. VERIF. MANUAL: REL. 2022R2\")\n\n# Set the analysis title\nmapdl.title(\"VM16 BENDING OF A SOLID BEAM (PLANE ELEMENTS)\")"
      ]
    },
    {
      "cell_type": "markdown",
      "metadata": {},
      "source": [
        "Case 1: Solve Using PLANE42 Element Model.\n==========================================\n\nEnter the model creation prep7 preprocessor\n"
      ]
    },
    {
      "cell_type": "code",
      "execution_count": null,
      "metadata": {
        "collapsed": false
      },
      "outputs": [],
      "source": [
        "mapdl.prep7(mute=True)"
      ]
    },
    {
      "cell_type": "markdown",
      "metadata": {},
      "source": [
        "Define element type and properties\n==================================\n\nUse 2-D Structural Solid (PLANE42) and include Surface solution for both\nfaces, via Keyopt(6)=2.\n"
      ]
    },
    {
      "cell_type": "code",
      "execution_count": null,
      "metadata": {
        "collapsed": false
      },
      "outputs": [],
      "source": [
        "mapdl.et(\n    1, \"PLANE42\", \"\", \"\", \"\", \"\", \"\", 2\n)  # PLANE42 WITH SURFACE PRINTOUT FOR FACES 1 AND 3"
      ]
    },
    {
      "cell_type": "markdown",
      "metadata": {},
      "source": [
        "Define material\n===============\n\nSet up the material and its type (a single material), Young\\'s modulus\nof 30e6 and Poisson\\'s ratio of 0.0 is specified.\n"
      ]
    },
    {
      "cell_type": "code",
      "execution_count": null,
      "metadata": {
        "collapsed": false
      },
      "outputs": [],
      "source": [
        "mapdl.mp(\"EX\", 1, 30e6)  # Elastic modulus\nmapdl.mp(\"NUXY\", 1, 0.0)  # Poisson's ratio"
      ]
    },
    {
      "cell_type": "markdown",
      "metadata": {},
      "source": [
        "Define geometry\n===============\n\nSet up the nodes and elements. This creates a mesh just like in the\nproblem setup.\n"
      ]
    },
    {
      "cell_type": "code",
      "execution_count": null,
      "metadata": {
        "collapsed": false
      },
      "outputs": [],
      "source": [
        "mapdl.n(1)\nmapdl.n(6, 10)\n\n# Generate additional nodes\nmapdl.fill()\n\n# Generates nodes from an existing pattern\nmapdl.ngen(2, 10, 1, 6, 1, \"\", 2)\n\n# Define elements\nmapdl.e(1, 2, 12, 11)\n\n# Generate additional elements from an existing pattern\nmapdl.egen(5, 1, 1)\n\n# select all entities\nmapdl.allsel()\n# element plot\nmapdl.eplot(background=\"w\")"
      ]
    },
    {
      "cell_type": "markdown",
      "metadata": {},
      "source": [
        "Define boundary conditions and loadings\n=======================================\n\nFix all degrees of freedom (dof) at nodes 10 & 11. For load case 1,\napply end moment and then exit prep7 processor.\n"
      ]
    },
    {
      "cell_type": "code",
      "execution_count": null,
      "metadata": {
        "collapsed": false
      },
      "outputs": [],
      "source": [
        "# Set boundary conditions for case 1 (end moment)\nmapdl.d(1, \"ALL\", \"\", \"\", 11, 10)  # Displacement constraint\nmapdl.f(6, \"FX\", 1000)  # Applied force\nmapdl.f(16, \"FX\", -1000)  # Applied force\n\n# Finish the pre-processing processor\nmapdl.finish()"
      ]
    },
    {
      "cell_type": "markdown",
      "metadata": {},
      "source": [
        "Solve\n=====\n\nEnter solution mode and solve the system for the 1st load case.\n"
      ]
    },
    {
      "cell_type": "code",
      "execution_count": null,
      "metadata": {
        "collapsed": false
      },
      "outputs": [],
      "source": [
        "mapdl.slashsolu()\n\n# Set analysis type to static\nmapdl.antype(\"STATIC\")\n\n# start solve for 1st load case\nmapdl.solve()\n\n# exists solution processor\nmapdl.finish()"
      ]
    },
    {
      "cell_type": "markdown",
      "metadata": {},
      "source": [
        "Post-processing\n===============\n\nEnter post-processing. Compute deflection and stress components for load\ncase 1.\n"
      ]
    },
    {
      "cell_type": "code",
      "execution_count": null,
      "metadata": {
        "collapsed": false
      },
      "outputs": [],
      "source": [
        "mapdl.post1()\n\n# Set \"last\" load case to be read from result file for post-processing\nmapdl.set(\"LAST\")\n\n# Get displacement at node 16 in the Y-direction\nu1 = mapdl.get(\"U1\", \"NODE\", 16, \"U\", \"Y\")\n\nmapdl.graphics(\"POWER\")  # Activates the graphics mode for power graphics\nmapdl.eshape(1)  # Display element shape\nmapdl.view(1, 1, 1, 1)  # Set the viewing options\n\n# for graphics displays\nmapdl.show(option=\"REV\", fname=\"png\")\nmapdl.plnsol(\"S\", \"X\")  # Plot bending stress along the X-axis\n\n# Get maximum bending stress for case 1\nbend_stress1 = mapdl.get(\"BEND_STRESS1\", \"PLNSOL\", 0, \"MAX\")\nmapdl.show(\"close\")\n# exists solution processor for case 1\nmapdl.finish()"
      ]
    },
    {
      "cell_type": "markdown",
      "metadata": {},
      "source": [
        "Solve\n=====\n\nEnter solution mode and solve the system for the 2nd load case.\n"
      ]
    },
    {
      "cell_type": "code",
      "execution_count": null,
      "metadata": {
        "collapsed": false
      },
      "outputs": [],
      "source": [
        "mapdl.slashsolu()"
      ]
    },
    {
      "cell_type": "markdown",
      "metadata": {},
      "source": [
        "Define boundary conditions and loadings\n=======================================\n\nFor load case 2, apply end load and then solve for 2nd load case.\n"
      ]
    },
    {
      "cell_type": "code",
      "execution_count": null,
      "metadata": {
        "collapsed": false
      },
      "outputs": [],
      "source": [
        "mapdl.f(6, \"FX\", \"\", \"\", 16, 10)  # Applied force in the X-direction\nmapdl.f(6, \"FY\", 150, \"\", 16, 10)  # Applied force in the Y-direction\n\n# start solve for 2nd load case\nmapdl.solve()\n# exists solution processor for case 2\nmapdl.finish()"
      ]
    },
    {
      "cell_type": "markdown",
      "metadata": {},
      "source": [
        "Post-processing\n===============\n\nEnter post-processing. Compute deflection and stress components for load\ncase 2.\n"
      ]
    },
    {
      "cell_type": "code",
      "execution_count": null,
      "metadata": {
        "collapsed": false
      },
      "outputs": [],
      "source": [
        "mapdl.post1()\n\n# Set \"last\" load case to be read from result file for post-processing\nmapdl.set(\"LAST\")\n\n# Retrieves the displacement \"U2\" of node 16 in the Y direction\nu2 = mapdl.get(\"U2\", \"NODE\", 16, \"U\", \"Y\")\n\nmapdl.graphics(\"POWER\")  # Activates the graphics mode for power graphics\nmapdl.eshape(1)  # Display element shape\nmapdl.view(1, 1, 1, 1)  # Set the viewing options\n\n# for graphics displays\nmapdl.show(option=\"REV\", fname=\"png\")\nmapdl.plnsol(\"S\", \"X\")  # Plot bending stress along the X-axis\n\n# Retrieves the maximum bending stress from the plane stress plot\nbend_stress2 = mapdl.get(\"BEND_STRESS2\", \"PLNSOL\", 0, \"MAX\")\nmapdl.show(\"close\")"
      ]
    },
    {
      "cell_type": "markdown",
      "metadata": {},
      "source": [
        "Verify the results.\n===================\n"
      ]
    },
    {
      "cell_type": "code",
      "execution_count": null,
      "metadata": {
        "collapsed": false
      },
      "outputs": [],
      "source": [
        "# Set target values\ntarget_def = [0.00500, 0.00500]\ntarget_strss = [3000, 4050]\n\n# Fill result values\nres_def = [u1, u2]\nres_strss = [bend_stress1, bend_stress2]\n\ntitle = f\"\"\"\n\n------------------- VM16 RESULTS COMPARISON ---------------------\n\nPLANE42\n=======\n\"\"\"\nprint(title)\n\ncol_headers = [\"TARGET\", \"Mechanical APDL\", \"RATIO\"]\nrow_headers = [\"Deflection (in)\", \"Bending Stress (psi)\"]\n\nfor lc in range(len(res_def)):\n    data = [\n        [target_def[lc], res_def[lc], abs(target_def[lc] / res_def[lc])],\n        [target_strss[lc], abs(res_strss[lc]), abs(target_strss[lc] / res_strss[lc])],\n    ]\n\n    title = f\"\"\"\n\nRESULTS FOR CASE {lc+1:1d}:\n-------------------\n\n    \"\"\"\n    print(title)\n    print(pd.DataFrame(data, row_headers, col_headers))"
      ]
    },
    {
      "cell_type": "markdown",
      "metadata": {},
      "source": [
        "Finish the post-processing processor.\n=====================================\n"
      ]
    },
    {
      "cell_type": "code",
      "execution_count": null,
      "metadata": {
        "collapsed": false
      },
      "outputs": [],
      "source": [
        "mapdl.finish()"
      ]
    },
    {
      "cell_type": "markdown",
      "metadata": {},
      "source": [
        "Clears the database without restarting.\n=======================================\n"
      ]
    },
    {
      "cell_type": "code",
      "execution_count": null,
      "metadata": {
        "collapsed": false
      },
      "outputs": [],
      "source": [
        "mapdl.run(\"/CLEAR,NOSTART\")"
      ]
    },
    {
      "cell_type": "markdown",
      "metadata": {},
      "source": [
        "Case 2: Solve Using PLANE182 Element Model\n==========================================\n\nSwitches to the preprocessor (PREP7)\n"
      ]
    },
    {
      "cell_type": "code",
      "execution_count": null,
      "metadata": {
        "collapsed": false
      },
      "outputs": [],
      "source": [
        "mapdl.prep7()"
      ]
    },
    {
      "cell_type": "markdown",
      "metadata": {},
      "source": [
        "Define element type and properties\n==================================\n\nUse 2-D 4 Node structural elements (PLANE182) and include simplified\nenhanced strain formulation, via Keyopt(1)=3.\n"
      ]
    },
    {
      "cell_type": "code",
      "execution_count": null,
      "metadata": {
        "collapsed": false
      },
      "outputs": [],
      "source": [
        "# Defines an element type as PLANE182\nmapdl.et(1, \"PLANE182\")\n# Sets a key option for the element type\nmapdl.keyopt(1, 1, 3)"
      ]
    },
    {
      "cell_type": "markdown",
      "metadata": {},
      "source": [
        "Define material\n===============\n\nSet up the material and its type (a single material), Young\\'s modulus\nof 30e6 and Poisson\\'s ratio of 0.0 is specified.\n"
      ]
    },
    {
      "cell_type": "code",
      "execution_count": null,
      "metadata": {
        "collapsed": false
      },
      "outputs": [],
      "source": [
        "mapdl.mp(\"EX\", 1, 30e6)\nmapdl.mp(\"NUXY\", 1, 0.0)"
      ]
    },
    {
      "cell_type": "markdown",
      "metadata": {},
      "source": [
        "Define geometry\n===============\n\nSet up the nodes and elements. This creates a mesh just like in the\nproblem setup.\n"
      ]
    },
    {
      "cell_type": "code",
      "execution_count": null,
      "metadata": {
        "collapsed": false
      },
      "outputs": [],
      "source": [
        "# Defines nodes\nmapdl.n(1)\nmapdl.n(6, 10)\n\n# Generate additional nodes\nmapdl.fill()\n\n# Generates additional nodes from an existing pattern\nmapdl.ngen(2, 10, 1, 6, 1, \"\", 2)\n\n# Defines elements\nmapdl.e(1, 2, 12, 11)\n\n# Generates additional elements from an existing pattern\nmapdl.egen(5, 1, 1)\n\n# select all entities\nmapdl.allsel()\n# element plot\nmapdl.eplot(background=\"w\")"
      ]
    },
    {
      "cell_type": "markdown",
      "metadata": {},
      "source": [
        "Define boundary conditions and loadings\n=======================================\n\nFix all degrees of freedom (dof) at nodes 10 & 11. For load case 1,\napply end moment and then exit prep7 processor.\n"
      ]
    },
    {
      "cell_type": "code",
      "execution_count": null,
      "metadata": {
        "collapsed": false
      },
      "outputs": [],
      "source": [
        "mapdl.d(1, \"ALL\", \"\", \"\", 11, 10)\n# Applies nodal forces\nmapdl.f(6, \"FX\", 1000)\nmapdl.f(16, \"FX\", -1000)\n\n# exists solution processor\nmapdl.finish()"
      ]
    },
    {
      "cell_type": "markdown",
      "metadata": {},
      "source": [
        "Solve\n=====\n\nEnter solution mode and solve the system for the 1st load case.\n"
      ]
    },
    {
      "cell_type": "code",
      "execution_count": null,
      "metadata": {
        "collapsed": false
      },
      "outputs": [],
      "source": [
        "mapdl.slashsolu()\n\n# Set analysis type to static\nmapdl.antype(\"STATIC\")\n\n# start solve for 1st load case\nmapdl.solve()\n\n# exists solution processor\nmapdl.finish()"
      ]
    },
    {
      "cell_type": "markdown",
      "metadata": {},
      "source": [
        "Post-processing\n===============\n\nEnter post-processing. Compute deflection and stress components for load\ncase 1.\n"
      ]
    },
    {
      "cell_type": "code",
      "execution_count": null,
      "metadata": {
        "collapsed": false
      },
      "outputs": [],
      "source": [
        "mapdl.post1()\n\n# Sets the LAST result as the active result set\nmapdl.set(\"LAST\")\n\n# Retrieves the displacement \"U1\" of node 16 in the Y direction\nu1 = mapdl.get(\"U1\", \"NODE\", 16, \"U\", \"Y\")\n\nmapdl.graphics(\"POWER\")  # Activates the graphics mode for power graphics\nmapdl.eshape(1)  # Display element shape\nmapdl.view(1, 1, 1, 1)  # Set the viewing options\n\n# for graphics displays\nmapdl.show(option=\"REV\", fname=\"png\")\nmapdl.plnsol(\"S\", \"X\")  # Plot bending stress along the X-axis\n\n# Retrieves the maximum bending stress from the plane stress plot\nbend_stress1 = mapdl.get(\"BEND_STRESS1\", \"PLNSOL\", 0, \"MAX\")\nmapdl.show(\"close\")\n\n# exists solution processor for case 1\nmapdl.finish()"
      ]
    },
    {
      "cell_type": "markdown",
      "metadata": {},
      "source": [
        "Solve\n=====\n\nEnter solution mode and solve the system for the 2nd load case.\n"
      ]
    },
    {
      "cell_type": "code",
      "execution_count": null,
      "metadata": {
        "collapsed": false
      },
      "outputs": [],
      "source": [
        "mapdl.slashsolu()"
      ]
    },
    {
      "cell_type": "markdown",
      "metadata": {},
      "source": [
        "Define boundary conditions and loadings\n=======================================\n\nFor load case 2, apply end load and then solve for 2nd load case.\n"
      ]
    },
    {
      "cell_type": "code",
      "execution_count": null,
      "metadata": {
        "collapsed": false
      },
      "outputs": [],
      "source": [
        "mapdl.f(6, \"FX\", \"\", \"\", 16, 10)\nmapdl.f(6, \"FY\", 150, \"\", 16, 10)\n\n# start solve for 2nd load case\nmapdl.solve()\n# exists solution processor for case 2\nmapdl.finish()"
      ]
    },
    {
      "cell_type": "markdown",
      "metadata": {},
      "source": [
        "Post-processing\n===============\n\nEnter post-processing. Compute deflection and stress components for load\ncase 2.\n"
      ]
    },
    {
      "cell_type": "code",
      "execution_count": null,
      "metadata": {
        "collapsed": false
      },
      "outputs": [],
      "source": [
        "mapdl.post1()\n\n# Sets the LAST result as the active result set\nmapdl.set(\"LAST\")\n\n# Retrieves the displacement \"U2\" of node 16 in the Y direction\nu2 = mapdl.get(\"U2\", \"NODE\", 16, \"U\", \"Y\")\n\nmapdl.graphics(\"POWER\")  # Activates the graphics mode for power graphics\nmapdl.eshape(1)  # Display element shape\nmapdl.view(1, 1, 1, 1)  # Set the viewing options\n\n# for graphics displays\nmapdl.show(option=\"REV\", fname=\"png\")\nmapdl.plnsol(\"S\", \"X\")  # Plot bending stress along the X-axis\n\n# Retrieves the maximum bending stress from the plane stress plot\nbend_stress2 = mapdl.get(\"BEND_STRESS2\", \"PLNSOL\", 0, \"MAX\")\nmapdl.show(\"close\")"
      ]
    },
    {
      "cell_type": "markdown",
      "metadata": {},
      "source": [
        "Verify the results.\n===================\n"
      ]
    },
    {
      "cell_type": "code",
      "execution_count": null,
      "metadata": {
        "collapsed": false
      },
      "outputs": [],
      "source": [
        "# Set target values\ntarget_def = [0.00500, 0.00500]\ntarget_strss = [3000, 4050]\n\n# Fill result values\nres_def = [u1, u2]\nres_strss = [bend_stress1, bend_stress2]\n\ntitle = f\"\"\"\n\nPLANE182\n========\n\"\"\"\nprint(title)\n\ncol_headers = [\"TARGET\", \"Mechanical APDL\", \"RATIO\"]\nrow_headers = [\"Deflection (in)\", \"Bending Stress (psi)\"]\n\nfor lc in range(len(res_def)):\n    data = [\n        [target_def[lc], res_def[lc], abs(target_def[lc] / res_def[lc])],\n        [target_strss[lc], abs(res_strss[lc]), abs(target_strss[lc] / res_strss[lc])],\n    ]\n\n    title = f\"\"\"\n\nRESULTS FOR CASE {lc+1:1d}:\n-------------------\n\n    \"\"\"\n    print(title)\n    print(pd.DataFrame(data, row_headers, col_headers))"
      ]
    },
    {
      "cell_type": "markdown",
      "metadata": {},
      "source": [
        "Finish the post-processing processor.\n=====================================\n"
      ]
    },
    {
      "cell_type": "code",
      "execution_count": null,
      "metadata": {
        "collapsed": false
      },
      "outputs": [],
      "source": [
        "mapdl.finish()\n\n# Exit MAPDL session\nmapdl.exit()"
      ]
    }
  ],
  "metadata": {
    "kernelspec": {
      "display_name": "Python 3",
      "language": "python",
      "name": "python3"
    },
    "language_info": {
      "codemirror_mode": {
        "name": "ipython",
        "version": 3
      },
      "file_extension": ".py",
      "mimetype": "text/x-python",
      "name": "python",
      "nbconvert_exporter": "python",
      "pygments_lexer": "ipython3",
      "version": "3.12.12"
    }
  },
  "nbformat": 4,
  "nbformat_minor": 0
}