{
  "cells": [
    {
      "cell_type": "markdown",
      "metadata": {},
      "source": [
        "Residual Stress Problem {#ref_vm11_example}\n=======================\n\nProblem description:\n\n:   -   A chain hoist is attached to the ceiling through three tie rods\n        as shown below. The tie rods are made of cold-rolled steel with\n        yield strength $\\sigma_{yp}$ and each has an area A. Find the\n        deflection $\\delta$ at load $F_1$ when the deflections are\n        elastic in all three rods. When the frame is loaded to $F_2$\n        (where all three rods become fully plastic), and then unloaded,\n        find the residual stress $\\sigma_r$ in the central rod.\n\nReference:\n\n:   -   S. H. Crandall, N. C. Dahl, *An Introduction to the Mechanics of\n        Solids*, McGraw-Hill Book Co., Inc., New York, NY, 1959, pg.\n        234, problem 5.31.\n\nAnalysis Type(s):\n\n:   -   Static Analysis (`ANTYPE = 0`)\n\nElement Type(s):\n\n:   -   3-D Spar (or Truss) Elements (`LINK180`)\n\n![**VM11 Problem\nmodel**](../_static/vm11_setup_1.png){.align-centeralign-center\nwidth=\"400px\"}\n\nMaterial properties\n\n:   -   $\\sigma_{yp} = 30,000\\,psi$\n    -   $E = 30 \\cdot 10^6\\,psi$\n\n![**VM11 Material\nModel**](../_static/vm11_setup_2.png){.align-centeralign-center\nwidth=\"400px\"}\n\nGeometric Properties:\n\n:   -   $A = 1\\,in^2$\n    -   $l = 100\\,in$\n    -   $\\Theta = 30\u00b0$\n\nLoading:\n\n:   -   $F_1 = 51,961.5\\,lb$\n    -   $F_2 = 81,961.5\\,lb$\n\nAnalysis Assumptions and Modeling Notes:\n\n:   -   Automatic load stepping (:meth: Mapl.autots\n        \\<ansys.mapdl.core.Mapdl.autots\\>,ON) is used to obtain the\n        nonlinear plastic solution (load steps 2 and 3).\n"
      ]
    },
    {
      "cell_type": "code",
      "execution_count": null,
      "metadata": {
        "collapsed": false
      },
      "outputs": [],
      "source": [
        "# sphinx_gallery_thumbnail_path = '_static/vm11_setup_1.png'\n\nimport math\n\nfrom ansys.mapdl.core import launch_mapdl"
      ]
    },
    {
      "cell_type": "markdown",
      "metadata": {},
      "source": [
        "Start MAPDL\n===========\n\nStart MAPDL.\n"
      ]
    },
    {
      "cell_type": "code",
      "execution_count": null,
      "metadata": {
        "collapsed": false
      },
      "outputs": [],
      "source": [
        "mapdl = launch_mapdl()\nmapdl.clear()  # optional as MAPDL just started"
      ]
    },
    {
      "cell_type": "markdown",
      "metadata": {},
      "source": [
        "Pre-processing\n==============\n\nEnter verification example mode and the pre-processing routine.\n"
      ]
    },
    {
      "cell_type": "code",
      "execution_count": null,
      "metadata": {
        "collapsed": false
      },
      "outputs": [],
      "source": [
        "mapdl.verify(\"vm11\")\nmapdl.prep7()\nmapdl.title(\"VM11 RESIDUAL STRESS PROBLEM\", mute=True)"
      ]
    },
    {
      "cell_type": "markdown",
      "metadata": {},
      "source": [
        "Define element type\n===================\n\nSet up the element type `LINK180`.\n"
      ]
    },
    {
      "cell_type": "code",
      "execution_count": null,
      "metadata": {
        "collapsed": false
      },
      "outputs": [],
      "source": [
        "# Type of analysis: Static.\nmapdl.antype(\"STATIC\")\n\n# Element type: LINK180.\nmapdl.et(1, \"LINK180\")\nmapdl.sectype(1, \"LINK\")\nmapdl.secdata(1)\nmapdl.mp(\"EX\", 1, 30e6)\nmapdl.tb(\"PLAS\", 1, tbopt=\"BKIN\")  # TABLE FOR BILINEAR KINEMATIC HARDENING\nmapdl.tbtemp(100)\nmapdl.tbdata(1, 30000)  # YIELD STRESS\n\n# Print\nprint(mapdl.mplist())"
      ]
    },
    {
      "cell_type": "markdown",
      "metadata": {},
      "source": [
        "Define model geometry\n=====================\n\nSet up parameters and geometry.\n"
      ]
    },
    {
      "cell_type": "code",
      "execution_count": null,
      "metadata": {
        "collapsed": false
      },
      "outputs": [],
      "source": [
        "L = 100\ntheta = 30\nxloc = L * math.tan(math.radians(theta))\nmapdl.n(1, -xloc)\nmapdl.n(3, xloc)\nmapdl.fill()\nmapdl.n(4, y=-L, mute=True)"
      ]
    },
    {
      "cell_type": "markdown",
      "metadata": {},
      "source": [
        "Define elements\n===============\n\nCreate elements.\n"
      ]
    },
    {
      "cell_type": "code",
      "execution_count": null,
      "metadata": {
        "collapsed": false
      },
      "outputs": [],
      "source": [
        "mapdl.e(1, 4)\nmapdl.e(2, 4)\nmapdl.e(3, 4)\nmapdl.outpr(freq=1)\nmapdl.d(1, \"ALL\", nend=3)\nmapdl.f(4, \"FY\", -51961.5)  # APPLY LOAD F1\nmapdl.finish(mute=True)\nmapdl.eplot()"
      ]
    },
    {
      "cell_type": "markdown",
      "metadata": {},
      "source": [
        "Solve\n=====\n\nEnter solution mode and run the simulation.\n"
      ]
    },
    {
      "cell_type": "code",
      "execution_count": null,
      "metadata": {
        "collapsed": false
      },
      "outputs": [],
      "source": [
        "mapdl.slashsolu()\nmapdl.solve()\nmapdl.finish(mute=True)"
      ]
    },
    {
      "cell_type": "markdown",
      "metadata": {},
      "source": [
        "Post-processing\n===============\n\nEnter post-processing.\n"
      ]
    },
    {
      "cell_type": "code",
      "execution_count": null,
      "metadata": {
        "collapsed": false
      },
      "outputs": [],
      "source": [
        "# Enter the post-processing routine.\nmapdl.post1()\n\nq = mapdl.queries\nbot_node = q.node(0, -100, 0)\ndef_node = mapdl.get_value(\"NODE\", bot_node, \"U\", \"Y\")\nmapdl.finish()\nmapdl.slashsolu()\nmapdl.autots(\"ON\")  # TURN ON AUTOMATIC LOAD STEPPING\nmapdl.nsubst(10)\nmapdl.outpr(freq=10)\nmapdl.f(4, \"FY\", -81961.5)  # APPLY LOAD F2\nmapdl.solve()\nmapdl.nsubst(5)\nmapdl.outpr(freq=5)\nmapdl.fdele(4, \"FY\")  # REMOVE LOAD F2\nmapdl.solve()\nmapdl.finish()\n\n\nmapdl.post1()\nmapdl.etable(\"STRS\", \"LS\", 1)\nstrss = mapdl.get_value(\"ELEM\", 2, \"ETAB\", \"STRS\")\nmessage = f\"\"\"\n------------------- VM11 RESULTS COMPARISON ---------------------\n   TARGET      |  TARGET     |   ANSYS       |   RATIO\nDef at F1 (in)   {-0.07533:.5f}        {def_node:.5f}      {abs(def_node/0.07533):.5f}\nStress (psi)     {-5650:.5f}     {strss:.5f}   {abs(strss/-5650):.5f}\n-----------------------------------------------------------------\n\"\"\"\nprint(message)\n\nmapdl.finish()"
      ]
    },
    {
      "cell_type": "markdown",
      "metadata": {},
      "source": [
        "Stop MAPDL.\n"
      ]
    },
    {
      "cell_type": "code",
      "execution_count": null,
      "metadata": {
        "collapsed": false
      },
      "outputs": [],
      "source": [
        "mapdl.exit()"
      ]
    }
  ],
  "metadata": {
    "kernelspec": {
      "display_name": "Python 3",
      "language": "python",
      "name": "python3"
    },
    "language_info": {
      "codemirror_mode": {
        "name": "ipython",
        "version": 3
      },
      "file_extension": ".py",
      "mimetype": "text/x-python",
      "name": "python",
      "nbconvert_exporter": "python",
      "pygments_lexer": "ipython3",
      "version": "3.12.12"
    }
  },
  "nbformat": 4,
  "nbformat_minor": 0
}