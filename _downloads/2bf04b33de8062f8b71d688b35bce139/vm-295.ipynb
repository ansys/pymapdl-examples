{
  "cells": [
    {
      "cell_type": "markdown",
      "metadata": {},
      "source": [
        "One Dimensional Terzaghi\\'s Consolidation Problem with Permeability as Function of Depth {#ref_vm295}\n========================================================================================\n\nProblem description:\n\n:   -   The test case is to simulate a one-dimensional Terzaghi\\'s\n        problem with permeability as a function of the soil depth. A\n        pressure P is applied on the top surface of the soil with depth\n        H and width W. The top surface of the soil is fully permeable\n        and the permeability decreases linearly with depth. The excess\n        pore water pressure for 0.1, 0.2, 0.3, 0.4, and 0.5 day is\n        calculated and compared against the reference results obtained\n        using the PIM method (Figure 5, pg. 5916).\n\nReference:\n\n:   -   A POINT INTERPOLATION METHOD FOR SIMULATING DISSIPATION PROCESS\n        OF CONSOLIDATION, J.G.WANG, G.R.LIU, Y.G.WU, COMPUTER METHODS IN\n        APPLIED MECHANICS AND ENGINEERING 190 (2001),PG: 5907-5922\n\nAnalysis type(s):\n\n:   -   Static Analysis `ANTYPE=0`\n\nElement type(s):\n\n:   -   2D 4-Node Coupled Pore-Pressure Element (CPT212)\n\n![VM295 Problem Sketch](../_static/vm295_setup.png){width=\"100px\"}\n\nMaterial properties:\n\n:   -   Youngs modulus, $E = 4 \\cdot 10^7 Pa$\n    -   Poissons ratio, $\\mu = 0.3$\n    -   Permeability value at bottom of the soil,\n        $fpx = 1.728 \\cdot 10^-3 m/day$\n    -   Permeability value at the top of the soil = $100 * fpx$\n\nGeometric properties:\n\n:   -   Height, $H = 16 m$\n    -   Width, $W = 1 m$\n\nLoading:\n\n:   -   Pressure, $P = 1 \\cdot 10^4 Pa$\n\nAnalysis Assumptions and Modeling Notes:\n\n:   -   The soil is modeled using 2D CPT212 elements with plane strain\n        element behavior. The UX degree of freedom for all nodes is\n        constrained and the UY degree of freedom at the bottom of the\n        soil is constrained. The pressure degree of freedom at the top\n        edge is constrained to make it fully permeable. Linearly varying\n        permeability of the soil is defined using the TB,PM material\n        model. Static analysis is performed with an end time of 86400\n        seconds (1 day) and with stepped pressure loading P on the top\n        edge of the soil. The excess water pore pressure at depth H = 6\n        m is computed for 0.1 (8640 s), 0.2 (17280 s), 0.3 (25920 s),\n        0.4 (34560 s), and 0.5 days (43200 s) by interpolating the\n        solution obtained at the nearest time points.\n"
      ]
    },
    {
      "cell_type": "code",
      "execution_count": null,
      "metadata": {
        "collapsed": false
      },
      "outputs": [],
      "source": [
        "# sphinx_gallery_thumbnail_path = '_static/vm295_setup.png'\n\n# Importing the `launch_mapdl` function from the `ansys.mapdl.core` module\nfrom ansys.mapdl.core import launch_mapdl\nimport numpy as np\n\n# Launch MAPDL with specified options\nmapdl = launch_mapdl(loglevel=\"WARNING\", print_com=True, remove_temp_dir_on_exit=True)\n# Clear the current database\nmapdl.clear()\n\n# Run the FINISH command to exists normally from a processor\nmapdl.finish()\n\n# Set the ANSYS version\nmapdl.com(\"ANSYS MEDIA REL. 2022R2 (05/13/2022) REF. VERIF. MANUAL: REL. 2022R2\")\n\n# Run the /VERIFY command for VM295\nmapdl.run(\"/VERIFY,VM295\")\n\n# Set the title of the analysis\nmapdl.title(\n    \"VM295 1D TERZAGHI'S CONSOLIDATION PROBLEM WITH PERMEABILITY AS FUNCTION OF DEPTH\"\n)\n\n# Entering the PREP7 environment in MAPDL\nmapdl.prep7(mute=True)\n\n# Set Parameters\nday = 24 * 3600  # SECONDS IN ONE DAY\nh = 16  # TOTAL DEPTH OF SOIL IN METERS\nw = 1  # WIDTH OF SOIL IN METERS\npres = 1e4  # PRESSURE IN PA\nex = 4e7  # YOUNG'S MODULUS IN PA\ntt = 1 * day"
      ]
    },
    {
      "cell_type": "markdown",
      "metadata": {},
      "source": [
        "Define element type and properties\n==================================\n\nUse 2D 4 NOode Coupled Pore Pressure Element (CPT212) and set PLANE\nSTRAIN Formulation Keyopt(3)=2.\n"
      ]
    },
    {
      "cell_type": "code",
      "execution_count": null,
      "metadata": {
        "collapsed": false
      },
      "outputs": [],
      "source": [
        "mapdl.et(1, \"CPT212\")\nmapdl.keyopt(1, 12, 1)\nmapdl.keyopt(1, 3, 2)"
      ]
    },
    {
      "cell_type": "markdown",
      "metadata": {},
      "source": [
        "Define material\n===============\n\nSet up the material and its type (a single material), Young\\'s modulus\nof 4e7 and Poisson\\'s ratio of 0.3 is specified.\n"
      ]
    },
    {
      "cell_type": "code",
      "execution_count": null,
      "metadata": {
        "collapsed": false
      },
      "outputs": [],
      "source": [
        "mapdl.mp(\"EX\", 1, ex)\nmapdl.mp(\"NUXY\", 1, 0.3)\n\n# Set parameters\nfpx = 1.728e-3 / day / 1e4  # PERMEABILITY FROM REFERENCE\none = 1.0\n\n# Define TB material properties\nmapdl.tb(\"PM\", 1, \"\", \"\", \"PERM\")  # DEFINING PERMEABILITY FOR THE SOIL\nmapdl.tbfield(\"YCOR\", 0)  # LOCATION Y = 0\nmapdl.tbdata(1, fpx, fpx, fpx)  # PERMEABILITY VALUES AT LOCATION Y=0\nmapdl.tbfield(\"YCOR\", h)  # LOCATION Y=16\n# PERMEABILITY VALUES AT LOCATION Y=16, LINEAR VARIABLE PERMEABILITY\nmapdl.tbdata(1, fpx * 100, fpx * 100, fpx * 100)\nmapdl.tb(\"PM\", 1, \"\", \"\", \"BIOT\")  # DEFINING BIOT COEFFICINET FOR SOIL\nmapdl.tbdata(1, one)  # BIOT COEFFICIENT"
      ]
    },
    {
      "cell_type": "markdown",
      "metadata": {},
      "source": [
        "Define geometry\n===============\n\nSet up the nodes and elements. This creates a mesh just like in the\nproblem setup.\n"
      ]
    },
    {
      "cell_type": "code",
      "execution_count": null,
      "metadata": {
        "collapsed": false
      },
      "outputs": [],
      "source": [
        "mapdl.rectng(0, w, 0, h)  # Generate rectangle\n# Specifies the divisions and spacing ratio on unmeshed lines\nmapdl.lesize(4, \"\", \"\", 16)\nmapdl.lesize(3, \"\", \"\", 1)\n# For elements that support multiple shapes, specifies the element shape, set mshape=2D\nmapdl.mshape(0, \"2D\")\nmapdl.mshkey(1)  # Key(1) = Specifies mapped meshing should be used to mesh\nmapdl.amesh(1)  # CREATING CPT212 ELEMENTS"
      ]
    },
    {
      "cell_type": "markdown",
      "metadata": {},
      "source": [
        "Define boundary conditions\n==========================\n\nFix UX degrees of freedom. Constraining UY DOF AT Location Y=0. Defining\nthe top portion of the soil as permeable. Then exit prep7 processor.\n"
      ]
    },
    {
      "cell_type": "code",
      "execution_count": null,
      "metadata": {
        "collapsed": false
      },
      "outputs": [],
      "source": [
        "mapdl.d(\"ALL\", \"UX\", 0)  # CONSTRAINING ALL UX DOF\n\nmapdl.nsel(\"S\", \"LOC\", \"Y\", 0)\nmapdl.d(\"ALL\", \"UY\", 0)  # CONSTRAINING UY DOF AT LOCATION Y=0\nmapdl.nsel(\"ALL\")\n\nmapdl.nsel(\"S\", \"LOC\", \"Y\", h)\nmapdl.d(\"ALL\", \"PRES\", 0)  # DEFINING THE TOP PORTION OF SOIL AS PERMEABLE\n# selects all nodes\nmapdl.nsel(\"ALL\")\n# selects all element\nmapdl.esel(\"ALL\")\nmapdl.aplot()\n\n# Finish pre-processing processor\nmapdl.finish()"
      ]
    },
    {
      "cell_type": "markdown",
      "metadata": {},
      "source": [
        "Solve\n=====\n\nEnter solution mode and solve the system.\n"
      ]
    },
    {
      "cell_type": "code",
      "execution_count": null,
      "metadata": {
        "collapsed": false
      },
      "outputs": [],
      "source": [
        "mapdl.slashsolu()\n\nmapdl.antype(\"STATIC\")  # Performing static analysis\nmapdl.nropt(\"UNSYM\")  # UNSYMMETRIC NEWTON RAPHSON OPTION\nmapdl.time(tt)  # END TIME\n\nmapdl.nsel(\"S\", \"LOC\", \"Y\", h)\n# APPLYING Surface PRESSURE LOAD AT TOP OF THE SOIL\nmapdl.sf(\"ALL\", \"PRES\", pres)\n# selects all nodes\nmapdl.nsel(\"ALL\")\n\n# Specify number of SUBSTEPS\nmapdl.nsubst(nsbstp=350, nsbmx=1000, nsbmn=150)\n\n# Controls the solution data written to the database.\nmapdl.outres(\"ALL\", \"ALL\")\nmapdl.kbc(1)  # STEPPED LOADING\n\n# SOLVE STATIC ANALYSIS\nmapdl.solve()\n# exists solution processor\nmapdl.finish()"
      ]
    },
    {
      "cell_type": "markdown",
      "metadata": {},
      "source": [
        "Post-processing\n===============\n\nEnter post-processing.\n"
      ]
    },
    {
      "cell_type": "code",
      "execution_count": null,
      "metadata": {
        "collapsed": false
      },
      "outputs": [],
      "source": [
        "mapdl.post1()\n# Set the current results set to the last set to be read from result file\nmapdl.set(\"LAST\")\n# redirects output to the default system output file\nmapdl.run(\"/OUT\")\n# reactivates suppressed printout\nmapdl.gopr()"
      ]
    },
    {
      "cell_type": "markdown",
      "metadata": {},
      "source": [
        "Specify Reference Solution\n==========================\n"
      ]
    },
    {
      "cell_type": "code",
      "execution_count": null,
      "metadata": {
        "collapsed": false
      },
      "outputs": [],
      "source": [
        "mapdl.com(\"\")\nmapdl.com(\"EXCESS PORE PRESSURE IN KILOPASCALS AT LOCATION X=1,Y=6\")\nmapdl.com(\"FOR 0.1 DAY (8640 SECONDS),0.2 DAY (17280 SECONDS)\")\nmapdl.com(\"0.3 DAY (25920 SECONDS), 0.4 DAY (34560 SECONDS)\")\nmapdl.com(\"AND 0.5 DAY (43200 SECONDS) ARE COMPUTED AND COMPARED\")\nmapdl.com(\"AGAINST REFERENCE SOLUTION\")\nmapdl.com(\"\")"
      ]
    },
    {
      "cell_type": "markdown",
      "metadata": {},
      "source": [
        "Inline functions in PyMAPDL to query node\n=========================================\n"
      ]
    },
    {
      "cell_type": "code",
      "execution_count": null,
      "metadata": {
        "collapsed": false
      },
      "outputs": [],
      "source": [
        "q = mapdl.queries\nnd1 = q.node(1.0, 6.0, 0.0)"
      ]
    },
    {
      "cell_type": "markdown",
      "metadata": {},
      "source": [
        "Post-processing: Compute pore pressure\n======================================\n\nredirects solver output to a file named \\\"SCRATCH\\\"\n"
      ]
    },
    {
      "cell_type": "code",
      "execution_count": null,
      "metadata": {
        "collapsed": false
      },
      "outputs": [],
      "source": [
        "mapdl.run(\"/OUT,SCRATCH\")\n# Specify load set to read from the result file, load step =1, sub-step=16\nmapdl.set(1, 16)\np11 = mapdl.get(\"P11\", \"NODE\", nd1, \"PRES\")\nt11 = mapdl.get(\"T11\", \"ACTIVE\", 0, \"SET\", \"TIME\")\n# Specify load set to read from the result file, load step =1, sub-step=17\nmapdl.set(1, 17)\np12 = mapdl.get(\"P12\", \"NODE\", nd1, \"PRES\")\nt12 = mapdl.get(\"T12\", \"ACTIVE\", 0, \"SET\", \"TIME\")\nt1 = day * 0.1\nmapdl.com(\"\")\nmapdl.com(\"INTERPOLATE THE RESULTS AT LOCATION (1,6,0) FOR TIME=0.1DAY\")\nmapdl.com(\"\")\npt1 = (p11 + (t1 - t11) / (t12 - t11) * (p12 - p11)) / 1e3\n# Specify load set to read from the result file, load step =1, sub-step=31\nmapdl.set(1, 31)\np21 = mapdl.get(\"P21\", \"NODE\", nd1, \"PRES\")\nt21 = mapdl.get(\"T21\", \"ACTIVE\", 0, \"SET\", \"TIME\")\n# Specify load set to read from the result file, load step =1, sub-step=32\nmapdl.set(1, 32)\np22 = mapdl.get(\"P22\", \"NODE\", nd1, \"PRES\")\nt22 = mapdl.get(\"T22\", \"ACTIVE\", 0, \"SET\", \"TIME\")\nt2 = day * 0.2\nmapdl.com(\"\")\nmapdl.com(\"INTERPOLATE THE RESULTS AT LOCATION (1,6,0) FOR TIME=0.2DAY\")\nmapdl.com(\"\")\npt2 = (p21 + (t2 - t21) / (t22 - t21) * (p22 - p21)) / 1e3\n# Specify load set to read from the result file, load step =1, sub-step=46\nmapdl.set(1, 46)\np31 = mapdl.get(\"P31\", \"NODE\", nd1, \"PRES\")\nt31 = mapdl.get(\"T31\", \"ACTIVE\", 0, \"SET\", \"TIME\")\n# Specify load set to read from the result file, load step =1, sub-step=47\nmapdl.set(1, 47)\np32 = mapdl.get(\"P32\", \"NODE\", nd1, \"PRES\")\nt32 = mapdl.get(\"T32\", \"ACTIVE\", 0, \"SET\", \"TIME\")\nt3 = day * 0.3\nmapdl.com(\"\")\nmapdl.com(\"INTERPOLATE THE RESULTS AT LOCATION (1,6,0) FOR TIME=0.3DAY\")\nmapdl.com(\"\")\npt3 = (p31 + (t3 - t31) / (t32 - t31) * (p32 - p31)) / 1e3\n# Specify load set to read from the result file, load step =1, sub-step=61\nmapdl.set(1, 61)\np41 = mapdl.get(\"P41\", \"NODE\", nd1, \"PRES\")\nt41 = mapdl.get(\"T41\", \"ACTIVE\", 0, \"SET\", \"TIME\")\n# Specify load set to read from the result file, load step =1, sub-step=62\nmapdl.set(1, 62)\np42 = mapdl.get(\"P42\", \"NODE\", nd1, \"PRES\")\nt42 = mapdl.get(\"T42\", \"ACTIVE\", 0, \"SET\", \"TIME\")\nt4 = day * 0.4\nmapdl.com(\"\")\nmapdl.com(\"INTERPOLATE THE RESULTS AT LOCATION (1,6,0) FOR TIME=0.4DAY\")\nmapdl.com(\"\")\npt4 = (p41 + (t4 - t41) / (t42 - t41) * (p42 - p41)) / 1e3\n# Specify load set to read from the result file, load step =1, sub-step=76\nmapdl.set(1, 76)\np51 = mapdl.get(\"P51\", \"NODE\", nd1, \"PRES\")\nt51 = mapdl.get(\"T51\", \"ACTIVE\", 0, \"SET\", \"TIME\")\n# Specify load set to read from the result file, load step =1, sub-step=77\nmapdl.set(1, 77)\np52 = mapdl.get(\"P52\", \"NODE\", nd1, \"PRES\")\nt52 = mapdl.get(\"T52\", \"ACTIVE\", 0, \"SET\", \"TIME\")\nt5 = day * 0.5\nmapdl.com(\"\")\nmapdl.com(\"INTERPOLATE THE RESULTS AT LOCATION (1,6,0) FOR TIME=0.5DAY\")\nmapdl.com(\"\")\npt5 = (p51 + (t5 - t51) / (t52 - t51) * (p52 - p51)) / 1e3\n# Store result values in array\nP = np.array([pt1, pt2, pt3, pt4, pt5])\n\n# REFERENCE RESULTS, FIGURE 5, PG 5916\n# Fill the Target Result Values in array\nTarget_CP = np.array([5.230, 2.970, 1.769, 1.043, 0.632])\n\n# store ratio\nRT = []\nfor i in range(len(Target_CP)):\n    a = P[i] / Target_CP[i]\n    RT.append(a)\n\n# assign labels for days\nlabel = np.array([0.1, 0.2, 0.3, 0.4, 0.5])"
      ]
    },
    {
      "cell_type": "markdown",
      "metadata": {},
      "source": [
        "Verify the results.\n===================\n"
      ]
    },
    {
      "cell_type": "code",
      "execution_count": null,
      "metadata": {
        "collapsed": false
      },
      "outputs": [],
      "source": [
        "message = f\"\"\"\n------------------- VM295 RESULTS COMPARISON ---------------------\n   Time (day)  |  TARGET (kPa)    |   Mechanical APDL  |   RATIO\n-----------------------------------------------------------------\n\"\"\"\nprint(message)\n\nfor i in range(len(Target_CP)):\n    message = f\"\"\"\n    {label[i]:.5f}        {Target_CP[i]:.5f}              {P[i]:.5f}          {RT[i]:.5f}\n    \"\"\"\n    print(message)\n\nmessage = f\"\"\"\n-----------------------------------------------------------------\n\"\"\"\nprint(message)"
      ]
    },
    {
      "cell_type": "markdown",
      "metadata": {},
      "source": [
        "Finish the post-processing processor.\n=====================================\n"
      ]
    },
    {
      "cell_type": "code",
      "execution_count": null,
      "metadata": {
        "collapsed": false
      },
      "outputs": [],
      "source": [
        "mapdl.finish()"
      ]
    },
    {
      "cell_type": "markdown",
      "metadata": {},
      "source": [
        "Stop MAPDL.\n===========\n"
      ]
    },
    {
      "cell_type": "code",
      "execution_count": null,
      "metadata": {
        "collapsed": false
      },
      "outputs": [],
      "source": [
        "mapdl.exit()"
      ]
    }
  ],
  "metadata": {
    "kernelspec": {
      "display_name": "Python 3",
      "language": "python",
      "name": "python3"
    },
    "language_info": {
      "codemirror_mode": {
        "name": "ipython",
        "version": 3
      },
      "file_extension": ".py",
      "mimetype": "text/x-python",
      "name": "python",
      "nbconvert_exporter": "python",
      "pygments_lexer": "ipython3",
      "version": "3.12.12"
    }
  },
  "nbformat": 4,
  "nbformat_minor": 0
}