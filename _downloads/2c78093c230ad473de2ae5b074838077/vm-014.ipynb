{
  "cells": [
    {
      "cell_type": "markdown",
      "metadata": {},
      "source": [
        "Large Deflection Eccentric Compression of Slender Column {#ref_vm14}\n========================================================\n\nProblem description:\n\n:   -   Find the deflection $\\delta$ at the middle and the maximum\n        tensile and compressive stresses in an eccentrically compressed\n        steel strut of length L. The cross-section is a channel with the\n        dimensions shown in the diagram. The ends are pinned at the\n        point of load application. The distance between the centroid and\n        the back of the channel is e, and the compressive force F acts\n        in the plane of the back of the channel and in the symmetry\n        plane of the channel.\n\nReference:\n\n:   -   S. Timoshenko, Strength of Materials, Part I, Elementary Theory\n        and Problems, 3rd Edition, D. Van Nostrand Co., Inc., New York,\n        NY, 1955, pg. 263, problem 1.\n\nAnalysis type(s):\n\n:   -   Static, Large Deflection Analysis `ANTYPE=0`\n\nElement type(s):\n\n:   -   Elastic Tapered Unsymmetric Beam Elements (BEAM188)\n\n![VM14 Slender Column Problem Sketch](../_static/vm14_setup.png){width=\"400px\"}\n\nMaterial properties:\n\n:   -   $E = 30 \\cdot 10^6 psi$\n    -   $\\mu = 0.3$\n\nGeometric properties:\n\n:   -   $L = 10 ft$\n    -   $h = 8 in$\n    -   $s = 0.22 in$\n    -   $t = 0.39 in$\n    -   $e = 0.6465 in$\n    -   $b = 2.26 in$\n\nLoading:\n\n:   -   $F = 4000 lb$\n\nAnalysis Assumptions and Modeling Notes:\n\n:   -   Only one-half of the structure is modeled because of symmetry.\n        The boundary conditions for the equivalent half model become\n        fixed-free. Large deflection is needed since the stiffness of\n        the structure and the loading change significantly with\n        deflection. The offset e is defined in the element coordinate\n        system.\n"
      ]
    },
    {
      "cell_type": "code",
      "execution_count": null,
      "metadata": {
        "collapsed": false
      },
      "outputs": [],
      "source": [
        "# sphinx_gallery_thumbnail_path = '_static/vm14_setup.png'\n\n# Importing the `launch_mapdl` function from the `ansys.mapdl.core` module\nfrom ansys.mapdl.core import launch_mapdl\nimport pandas\n\n# Launch MAPDL with specified settings\nmapdl = launch_mapdl(loglevel=\"WARNING\", print_com=True, remove_temp_dir_on_exit=True)\n\n# Clear any existing database\nmapdl.clear()\n\n# Set the ANSYS version\nmapdl.com(\"ANSYS MEDIA REL. 2022R2 (05/13/2022) REF. VERIF. MANUAL: REL. 2022R2\")\n\n# Run the FINISH command to exists normally from a processor\nmapdl.finish()\n\n# Run the /VERIFY command for VM14\nmapdl.run(\"/VERIFY,VM14\")\n\n# Set the title of the analysis\nmapdl.title(\"VM14 LARGE DEFLECTION ECCENTRIC COMPRESSION OF SLENDER COLUMN\")\n\n# Enter the model creation preprocessor\nmapdl.prep7(mute=True)"
      ]
    },
    {
      "cell_type": "markdown",
      "metadata": {},
      "source": [
        "Define element type and properties\n==================================\n\nUse 3D 2-Node Beam element (Beam188) and set cubic shape function\nKeyopt(3)=3.\n"
      ]
    },
    {
      "cell_type": "code",
      "execution_count": null,
      "metadata": {
        "collapsed": false
      },
      "outputs": [],
      "source": [
        "mapdl.et(1, \"BEAM188\", \"\", \"\", 3)  # Element type BEAM188\nmapdl.sectype(1, \"BEAM\", \"CHAN\")  # Section type BEAM CHAN\nmapdl.secdata(2.26, 2.26, 8, 0.39, 0.39, 0.22)  # Section data\nmapdl.secoffset(\"USER\", \"\", 0.6465)  # Section offset"
      ]
    },
    {
      "cell_type": "markdown",
      "metadata": {},
      "source": [
        "Define material\n===============\n\nSet up the material and its type (a single material), Young\\'s modulus\nof 30e6 and Poisson\\'s ratio of 0.3 is specified.\n"
      ]
    },
    {
      "cell_type": "code",
      "execution_count": null,
      "metadata": {
        "collapsed": false
      },
      "outputs": [],
      "source": [
        "mapdl.mp(\"EX\", 1, 30e6)\nmapdl.mp(\"PRXY\", 1, 0.3)"
      ]
    },
    {
      "cell_type": "markdown",
      "metadata": {},
      "source": [
        "Define geometry\n===============\n\nSet up the nodes and elements. This creates a mesh just like in the\nproblem setup.\n"
      ]
    },
    {
      "cell_type": "code",
      "execution_count": null,
      "metadata": {
        "collapsed": false
      },
      "outputs": [],
      "source": [
        "mapdl.n(1)  # Node 1\nmapdl.n(5, \"\", 60)  # Node 5 at 60 degrees\n\n# Generate additional nodes\nmapdl.fill()\n\n# Define element connectivity\nmapdl.e(1, 2)  # Element 1 with nodes 1 and 2\n\n# Generates elements from an existing pattern\nmapdl.egen(4, 1, 1)"
      ]
    },
    {
      "cell_type": "markdown",
      "metadata": {},
      "source": [
        "Define coupling and boundary conditions\n=======================================\n\nFix all degrees of freedom for node 1. Apply a negative force 4000 lb in\nFY direction at node 5. Apply symmetry boundary condition along\nz-direction. Then exit prep7 processor.\n\nEffectively, this sets:\n\n:   $F = 4000 lb$\n"
      ]
    },
    {
      "cell_type": "code",
      "execution_count": null,
      "metadata": {
        "collapsed": false
      },
      "outputs": [],
      "source": [
        "mapdl.d(1, \"ALL\")  # Fix all degrees of freedom for node 1\nmapdl.f(5, \"FY\", -4000)  # Apply a negative force FY to node 5\nmapdl.dsym(\"SYMM\", \"Z\")  # Apply symmetry boundary condition in Z-direction\n\n# select all entities\nmapdl.allsel()\n# element plot\nmapdl.eplot()\n\n# Finish the pre-processing processor\nmapdl.finish()"
      ]
    },
    {
      "cell_type": "markdown",
      "metadata": {},
      "source": [
        "Solve\n=====\n\nEnter solution mode and solve the system.\n"
      ]
    },
    {
      "cell_type": "code",
      "execution_count": null,
      "metadata": {
        "collapsed": false
      },
      "outputs": [],
      "source": [
        "mapdl.slashsolu()\n\n# Activate large deflections\nmapdl.nlgeom(\"ON\")\n\n# Set convergence tolerances\nmapdl.cnvtol(\"F\", \"\", 1e-4)\nmapdl.cnvtol(\"M\", \"\", 1e-4)\n\nmapdl.solve()  # starts a solution\nmapdl.finish()  # exists solution processor"
      ]
    },
    {
      "cell_type": "markdown",
      "metadata": {},
      "source": [
        "Post-processing\n===============\n\nEnter post-processing. Compute deflection and stress components.\n"
      ]
    },
    {
      "cell_type": "code",
      "execution_count": null,
      "metadata": {
        "collapsed": false
      },
      "outputs": [],
      "source": [
        "mapdl.post1()"
      ]
    },
    {
      "cell_type": "markdown",
      "metadata": {},
      "source": [
        "Inline functions in PyMAPDL to query node\n=========================================\n"
      ]
    },
    {
      "cell_type": "code",
      "execution_count": null,
      "metadata": {
        "collapsed": false
      },
      "outputs": [],
      "source": [
        "q = mapdl.queries\nend_node = q.node(0, 60, 0)"
      ]
    },
    {
      "cell_type": "markdown",
      "metadata": {},
      "source": [
        "Retrieve nodal deflection and section stresses\n==============================================\n"
      ]
    },
    {
      "cell_type": "code",
      "execution_count": null,
      "metadata": {
        "collapsed": false
      },
      "outputs": [],
      "source": [
        "deflection = mapdl.get(\"DEF\", \"NODE\", end_node, \"U\", \"X\")  # Nodal deflection\nstrss_tens = float(\n    mapdl.get(\"STS_TENS\", \"SECR\", 1, \"S\", \"X\", \"MAX\")[:11]\n)  # Maximum section tensile stress\nstrss_comp = float(\n    mapdl.get(\"STS_COMP\", \"SECR\", 1, \"S\", \"X\", \"MIN\")[:11]\n)  # Minimum section compressive stress\n\n# Fill the array with target values\ntarget_def = 0.1086\ntarget_tens = 1803.63\ntarget_comp = -2394.53\n\ndata = [\n    [target_def, deflection, target_def / deflection],\n    [target_tens, strss_tens, target_tens / strss_tens],\n    [target_comp, strss_comp, target_comp / strss_comp],\n]\ncol_headers = [\"TARGET\", \"Mechanical APDL\", \"RATIO\"]\nrow_headers = [\"DEFLECTION (in)\", \"STRSS_TENS (psi)\", \"STRSS_COMP (psi)\"]"
      ]
    },
    {
      "cell_type": "markdown",
      "metadata": {},
      "source": [
        "Verify the results.\n===================\n"
      ]
    },
    {
      "cell_type": "code",
      "execution_count": null,
      "metadata": {
        "collapsed": false
      },
      "outputs": [],
      "source": [
        "print(pandas.DataFrame(data, row_headers, col_headers))"
      ]
    },
    {
      "cell_type": "markdown",
      "metadata": {},
      "source": [
        "Finish the post-processing processor.\n=====================================\n"
      ]
    },
    {
      "cell_type": "code",
      "execution_count": null,
      "metadata": {
        "collapsed": false
      },
      "outputs": [],
      "source": [
        "mapdl.finish()"
      ]
    },
    {
      "cell_type": "markdown",
      "metadata": {},
      "source": [
        "Stop MAPDL.\n===========\n"
      ]
    },
    {
      "cell_type": "code",
      "execution_count": null,
      "metadata": {
        "collapsed": false
      },
      "outputs": [],
      "source": [
        "mapdl.exit()"
      ]
    }
  ],
  "metadata": {
    "kernelspec": {
      "display_name": "Python 3",
      "language": "python",
      "name": "python3"
    },
    "language_info": {
      "codemirror_mode": {
        "name": "ipython",
        "version": 3
      },
      "file_extension": ".py",
      "mimetype": "text/x-python",
      "name": "python",
      "nbconvert_exporter": "python",
      "pygments_lexer": "ipython3",
      "version": "3.12.12"
    }
  },
  "nbformat": 4,
  "nbformat_minor": 0
}