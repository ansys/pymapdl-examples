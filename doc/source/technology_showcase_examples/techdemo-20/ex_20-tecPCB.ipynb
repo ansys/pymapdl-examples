{
  "cells": [
    {
      "cell_type": "code",
      "execution_count": null,
      "metadata": {
        "collapsed": false
      },
      "outputs": [],
      "source": [
        "%matplotlib inline"
      ]
    },
    {
      "cell_type": "markdown",
      "metadata": {},
      "source": [
        "# Dynamic simulation of a printed circuit board assembly {#ref_dynamic_simulation_printed_circuit_board}\n",
        "\n",
        "This examples shows how to use PyMAPDL to import an existing FE model\n",
        "and to run a modal and PSD analysis. PyDPF modules are also used for\n",
        "post-processing.\n",
        "\n",
        "This example is inspired from the model and analysis defined in Chapter\n",
        "20 of the Mechanical APDL Technology Showcase Manual.\n",
        "\n",
        "## Additional Packages Used\n",
        "\n",
        "-   [Matplotlib](https://matplotlib.org) is used for plotting purposes.\n"
      ]
    },
    {
      "cell_type": "markdown",
      "metadata": {},
      "source": [
        "# Setting up model\n",
        "\n",
        "The original FE model is given in the Ansys Mechanical APDL Technology\n",
        "Showcase Manual. The .cdb contains a FE model of a single circuit board.\n",
        "The model is meshed with SOLID186, SHELL181 and BEAM188 elements. All\n",
        "components of the PCB model is assigned with linear elastic isotropic\n",
        "materials. Bonded and flexible surface-to-surface contact pairs are used\n",
        "to define the contact between the IC packages and the circuit board.\n",
        "\n",
        "## Starting MAPDL as a service and importing an external model\n"
      ]
    },
    {
      "cell_type": "code",
      "execution_count": null,
      "metadata": {
        "collapsed": false
      },
      "outputs": [],
      "source": [
        "import matplotlib.pyplot as plt\n",
        "\n",
        "from ansys.mapdl.core import launch_mapdl\n",
        "from ansys.mapdl.core.examples import download_tech_demo_data\n",
        "\n",
        "# start MAPDL as a service\n",
        "mapdl = launch_mapdl()\n",
        "print(mapdl)\n",
        "\n",
        "# read model of single circuit board\n",
        "# download the cdb file\n",
        "pcb_mesh_file = download_tech_demo_data(\"td-20\", \"pcb_mesh_file.cdb\")\n",
        "\n",
        "# enter preprocessor and read in cdb\n",
        "mapdl.prep7()\n",
        "mapdl.cdread(\"COMB\", pcb_mesh_file)\n",
        "mapdl.allsel()\n",
        "mapdl.eplot(background=\"w\")\n",
        "mapdl.cmsel(\"all\")"
      ]
    },
    {
      "cell_type": "markdown",
      "metadata": {},
      "source": [
        "# Creating the complete layered model\n",
        "\n",
        "The original model will be duplicated to create a layered PCB of three\n",
        "layers that are binded together.\n"
      ]
    },
    {
      "cell_type": "code",
      "execution_count": null,
      "metadata": {
        "collapsed": false
      },
      "outputs": [],
      "source": [
        "# duplicate single PCB to get three layers\n",
        "# get the maximum node number for the single layers PCB in the input file\n",
        "max_nodenum = mapdl.get(\"max_nodenum\", \"node\", \"\", \"num\", \"max\")\n",
        "\n",
        "# generate additional PCBs offset by 20 mm in the -y direction\n",
        "mapdl.egen(3, max_nodenum, \"all\", dy=-20)\n",
        "\n",
        "\n",
        "# bind the three layers together\n",
        "# select components of interest\n",
        "mapdl.cmsel(\"s\", \"N_JOINT_BOARD\")\n",
        "mapdl.cmsel(\"a\", \"N_JOINT_LEGS\")\n",
        "mapdl.cmsel(\"a\", \"N_BASE\")\n",
        "\n",
        "# get number of currently selected nodes\n",
        "nb_selected_nodes = mapdl.mesh.n_node\n",
        "current_node = 0\n",
        "queries = mapdl.queries\n",
        "\n",
        "# also select similar nodes for copies of the single PCB\n",
        "# and couple all dofs at the interface\n",
        "for node_id in range(1, nb_selected_nodes + 1):\n",
        "    current_node = queries.ndnext(current_node)\n",
        "    mapdl.nsel(\"a\", \"node\", \"\", current_node + max_nodenum)\n",
        "    mapdl.nsel(\"a\", \"node\", \"\", current_node + 2 * max_nodenum)\n",
        "mapdl.cpintf(\"all\")\n",
        "\n",
        "# define fixed support boundary condition\n",
        "# get max coupled set number\n",
        "cp_max = mapdl.get(\"cp_max\", \"cp\", 0, \"max\")\n",
        "\n",
        "# unselect nodes scoped in CP equations\n",
        "mapdl.nsel(\"u\", \"cp\", \"\", 1, \"cp_max\")\n",
        "\n",
        "# create named selection for base excitation\n",
        "mapdl.cm(\"n_base_excite\", \"node\")\n",
        "\n",
        "# fix displacement for base excitation nodes\n",
        "mapdl.d(\"all\", \"all\")\n",
        "\n",
        "# select all and plot the model using MAPDL's plotter and VTK's\n",
        "mapdl.allsel(\"all\")\n",
        "mapdl.cmsel(\"all\")\n",
        "mapdl.graphics(\"power\")\n",
        "mapdl.rgb(\"index\", 100, 100, 100, 0)\n",
        "mapdl.rgb(\"index\", 80, 80, 80, 13)\n",
        "mapdl.rgb(\"index\", 60, 60, 60, 14)\n",
        "mapdl.rgb(\"index\", 0, 0, 0, 15)\n",
        "mapdl.triad(\"rbot\")\n",
        "mapdl.pnum(\"type\", 1)\n",
        "mapdl.number(1)\n",
        "mapdl.hbc(1, \"on\")\n",
        "mapdl.pbc(\"all\", \"\", 1)\n",
        "mapdl.view(1, 1, 1, 1)\n",
        "# mapdl.eplot(vtk=False)\n",
        "mapdl.eplot(vtk=True)"
      ]
    },
    {
      "cell_type": "markdown",
      "metadata": {},
      "source": [
        "# Modal Analysis\n",
        "\n",
        "## Run modal analysis\n",
        "\n",
        "A modal analysis is run using Block Lanzos. Only 10 modes are extracted\n",
        "for the sake of run times, but using a higher number of nodes is\n",
        "recommended (suggestion: 300 modes).\n"
      ]
    },
    {
      "cell_type": "code",
      "execution_count": null,
      "metadata": {
        "collapsed": false
      },
      "outputs": [],
      "source": [
        "# enter solution processor and define analysis settings\n",
        "mapdl.slashsolu()\n",
        "mapdl.antype(\"modal\")\n",
        "# set number of modes to extract\n",
        "# using a higher number of modes is recommended\n",
        "nb_modes = 10\n",
        "# use Block Lanzos to extract specified number of modes\n",
        "mapdl.modopt(\"lanb\", nb_modes)\n",
        "mapdl.mxpand(nb_modes)\n",
        "output = mapdl.solve()\n",
        "print(output)"
      ]
    },
    {
      "cell_type": "markdown",
      "metadata": {},
      "source": [
        "# Post-processing the modal results\n",
        "\n",
        "This sections illustrates different methods to post-process the results\n",
        "of the modal analysis : PyMAPDL method, PyMAPDL result reader,\n",
        "PyDPF-Post and PyDPF-Core. All methods lead to the same result and are\n",
        "just given as an example of how each module can be used.\n"
      ]
    },
    {
      "cell_type": "code",
      "execution_count": null,
      "metadata": {
        "collapsed": false
      },
      "outputs": [],
      "source": [
        "# using MAPDL methods\n",
        "mapdl.post1()\n",
        "mapdl.set(1, 1)\n",
        "mapdl.plnsol(\"u\", \"sum\")"
      ]
    },
    {
      "cell_type": "markdown",
      "metadata": {},
      "source": [
        "# Using PyMAPDL result reader\n",
        "\n",
        "*Not recommended* - PyMAPDL reader library is in process to being\n",
        "deprecated. It is recommended to use [DPF\n",
        "Post](https://postdocs.pyansys.com/).\n"
      ]
    },
    {
      "cell_type": "code",
      "execution_count": null,
      "metadata": {
        "collapsed": false
      },
      "outputs": [],
      "source": [
        "mapdl_result = mapdl.result\n",
        "mapdl_result.plot_nodal_displacement(0)"
      ]
    },
    {
      "cell_type": "markdown",
      "metadata": {},
      "source": [
        "# Using DPF-Post\n"
      ]
    },
    {
      "cell_type": "code",
      "execution_count": null,
      "metadata": {
        "collapsed": false
      },
      "outputs": [],
      "source": [
        "from ansys.dpf import post\n",
        "\n",
        "solution_path = mapdl.result_file\n",
        "solution = post.load_solution(solution_path)\n",
        "print(solution)\n",
        "displacement = solution.displacement(time_scoping=1)\n",
        "total_deformation = displacement.norm\n",
        "total_deformation.plot_contour(show_edges=True, background=\"w\")"
      ]
    },
    {
      "cell_type": "markdown",
      "metadata": {},
      "source": [
        "# Using DPF-Core\n"
      ]
    },
    {
      "cell_type": "code",
      "execution_count": null,
      "metadata": {
        "collapsed": false
      },
      "outputs": [],
      "source": [
        "from ansys.dpf import core\n",
        "\n",
        "model = core.Model(solution_path)\n",
        "results = model.results\n",
        "print(results)\n",
        "displacements = results.displacement()\n",
        "total_def = core.operators.math.norm_fc(displacements)\n",
        "total_def_container = total_def.outputs.fields_container()\n",
        "mesh = model.metadata.meshed_region\n",
        "mesh.plot(total_def_container.get_field_by_time_id(1))"
      ]
    },
    {
      "cell_type": "markdown",
      "metadata": {},
      "source": [
        "# Run PSD analysis\n",
        "\n",
        "The response spectrum analysis is defined, solved and post-processed.\n"
      ]
    },
    {
      "cell_type": "code",
      "execution_count": null,
      "metadata": {
        "collapsed": false
      },
      "outputs": [],
      "source": [
        "# define PSD analysis with input spectrum\n",
        "mapdl.slashsolu()\n",
        "mapdl.antype(\"spectr\")\n",
        "\n",
        "# power spectral density\n",
        "mapdl.spopt(\"psd\")\n",
        "\n",
        "# use input table 1 with acceleration spectrum in terms of acceleration due to gravity\n",
        "mapdl.psdunit(1, \"accg\", 9.81 * 1000)\n",
        "\n",
        "# define the frequency points in the input table 1\n",
        "mapdl.psdfrq(1, \"\", 1, 40, 50, 70.71678, 100, 700, 900)\n",
        "\n",
        "# define the PSD values in the input table 1\n",
        "mapdl.psdval(1, 0.01, 0.01, 0.1, 1, 10, 10, 1)\n",
        "\n",
        "# set the damping ratio as 5%\n",
        "mapdl.dmprat(0.05)\n",
        "\n",
        "# apply base excitation on the set of nodes N_BASE_EXCITE in the y-direction from table 1\n",
        "mapdl.d(\"N_BASE_EXCITE\", \"uy\", 1)\n",
        "\n",
        "# calculate the participation factor for PSD with base excitation from input table 1\n",
        "mapdl.pfact(1, \"base\")\n",
        "\n",
        "# write the displacent solution relative to the base excitation to the results file from the PSD analysis\n",
        "mapdl.psdres(\"disp\", \"rel\")\n",
        "\n",
        "# write the absolute velocity solution to the results file from the PSD analysis\n",
        "mapdl.psdres(\"velo\", \"abs\")\n",
        "\n",
        "# write the absolute acceleration solution to the results file from the PSD analysis\n",
        "mapdl.psdres(\"acel\", \"abs\")\n",
        "\n",
        "# combine only those modes whose significance level exceeds 0.0001\n",
        "mapdl.psdcom()\n",
        "output = mapdl.solve()\n",
        "print(output)"
      ]
    },
    {
      "cell_type": "markdown",
      "metadata": {},
      "source": [
        "# Post-process PSD analysis\n",
        "\n",
        "The response spectrum analysis is post-processed. First, the standard\n",
        "MAPDL POST1 postprocessor is used. Then, the MAPDL time-history POST26\n",
        "postprocessor is used to generate the response power spectral density.\n",
        "\n",
        "::: note\n",
        "::: title\n",
        "Note\n",
        ":::\n",
        "\n",
        "The graph generated through POST26 is exported as a picture in the\n",
        "working directory. Finally, the results from POST26 are saved to Python\n",
        "variables to be plotted in the Python environment with the use of\n",
        "Matplotlib library.\n",
        ":::\n"
      ]
    },
    {
      "cell_type": "markdown",
      "metadata": {},
      "source": [
        "# Post-process PSD analysis in POST1\n"
      ]
    },
    {
      "cell_type": "code",
      "execution_count": null,
      "metadata": {
        "collapsed": false
      },
      "outputs": [],
      "source": [
        "mapdl.post1()\n",
        "mapdl.set(1, 1)\n",
        "mapdl.plnsol(\"u\", \"sum\")\n",
        "mapdl.set(\"last\")\n",
        "mapdl.plnsol(\"u\", \"sum\")"
      ]
    },
    {
      "cell_type": "markdown",
      "metadata": {},
      "source": [
        "# Post-process PSD analysis in POST26 (time-history post-processing)\n"
      ]
    },
    {
      "cell_type": "code",
      "execution_count": null,
      "metadata": {
        "collapsed": false
      },
      "outputs": [],
      "source": [
        "mapdl.post26()\n",
        "\n",
        "# allow storage for 200 variables\n",
        "mapdl.numvar(200)\n",
        "mapdl.cmsel(\"s\", \"MY_MONITOR\")\n",
        "monitored_node = mapdl.queries.ndnext(0)\n",
        "mapdl.store(\"psd\")\n",
        "\n",
        "# store the psd analysis u_y data for the node MYMONITOR as the reference no 2\n",
        "mapdl.nsol(2, monitored_node, \"u\", \"y\")\n",
        "\n",
        "# compute the response power spectral density for displacement associated with variable 2\n",
        "mapdl.rpsd(3, 2)\n",
        "mapdl.show(\"png\")\n",
        "\n",
        "# plot the variable 3\n",
        "mapdl.plvar(3)\n",
        "\n",
        "# print the variable 3\n",
        "mapdl.prvar(3)\n",
        "\n",
        "# x-axis is set for Log X scale\n",
        "mapdl.gropt(\"logx\", 1)\n",
        "\n",
        "# y-axis is set for Log X scale\n",
        "mapdl.gropt(\"logy\", 1)\n",
        "\n",
        "# plot the variable 3\n",
        "mapdl.plvar(3)\n",
        "mapdl.show(\"close\")"
      ]
    },
    {
      "cell_type": "markdown",
      "metadata": {},
      "source": [
        "# Post-process PSD analysis using Matplotlib\n"
      ]
    },
    {
      "cell_type": "code",
      "execution_count": null,
      "metadata": {
        "collapsed": false
      },
      "outputs": [],
      "source": [
        "# store MAPDL results to python variables\n",
        "mapdl.dim(\"frequencies\", \"array\", 4000, 1)\n",
        "mapdl.dim(\"response\", \"array\", 4000, 1)\n",
        "mapdl.vget(\"frequencies(1)\", 1)\n",
        "mapdl.vget(\"response(1)\", 3)\n",
        "frequencies = mapdl.parameters[\"frequencies\"]\n",
        "response = mapdl.parameters[\"response\"]\n",
        "\n",
        "# use Matplotlib to create graph\n",
        "fig = plt.figure()\n",
        "ax = fig.add_subplot(111)\n",
        "plt.xscale(\"log\")\n",
        "plt.yscale(\"log\")\n",
        "ax.plot(frequencies, response)\n",
        "ax.set_xlabel(\"Frequencies\")\n",
        "ax.set_ylabel(\"Response power spectral density\")"
      ]
    },
    {
      "cell_type": "markdown",
      "metadata": {},
      "source": [
        "Exit MAPDL\n"
      ]
    },
    {
      "cell_type": "code",
      "execution_count": null,
      "metadata": {
        "collapsed": false
      },
      "outputs": [],
      "source": [
        "mapdl.exit()"
      ]
    }
  ],
  "metadata": {
    "kernelspec": {
      "display_name": ".venv",
      "language": "python",
      "name": "python3"
    },
    "language_info": {
      "codemirror_mode": {
        "name": "ipython",
        "version": 3
      },
      "file_extension": ".py",
      "mimetype": "text/x-python",
      "name": "python",
      "nbconvert_exporter": "python",
      "pygments_lexer": "ipython3",
      "version": "3.10.8 (tags/v3.10.8:aaaf517, Oct 11 2022, 16:50:30) [MSC v.1933 64 bit (AMD64)]"
    },
    "vscode": {
      "interpreter": {
        "hash": "25ee88bf99fdb66867962637ab0ae1b8de27a896c2eb41e2fbf5e9143b58a926"
      }
    }
  },
  "nbformat": 4,
  "nbformat_minor": 0
}