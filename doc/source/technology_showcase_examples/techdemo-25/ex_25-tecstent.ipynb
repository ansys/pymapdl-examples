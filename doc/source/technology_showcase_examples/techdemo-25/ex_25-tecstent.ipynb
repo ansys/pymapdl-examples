{
    "cells": [
        {
            "cell_type": "markdown",
            "metadata": {},
            "source": [
                "\n",
                "# Cardiovascular Stent Simulation"
            ]
        },
        {
            "cell_type": "markdown",
            "metadata": {},
            "source": [
                "\n",
                "This example problem shows how to simulate stent-artery interaction during and after stent\n",
                "placement in an occluded artery.\n",
                "The analysis exposes advanced modeling techniques using PyMAPDL such as:\n",
                "* Contact\n",
                "* Element birth and death\n",
                "* Mixed u-P formulation\n",
                "* Nonlinear stabilization\n",
                "\n",
                "This example is inspired from the model and analysis defined in Chapter 25 of the Mechanical\n",
                "APDL Technology Showcase Manual."
            ]
        },
        {
            "cell_type": "code",
            "execution_count": null,
            "metadata": {},
            "outputs": [],
            "source": [
                "import os\n",
                "import pyvista\n",
                "import panel\n",
                "pyvista.set_jupyter_backend('panel')\n",
                "pyvista.global_theme.window_size = [600, 400]\n",
                "pyvista.global_theme.background = 'grey'"
            ]
        },
        {
            "cell_type": "markdown",
            "metadata": {},
            "source": [
                "## Starting MAPDL as a service"
            ]
        },
        {
            "cell_type": "code",
            "execution_count": null,
            "metadata": {},
            "outputs": [],
            "source": [
                "# starting MAPDL as a service and importing an external model\n",
                "from ansys.mapdl.core import launch_mapdl\n",
                "\n",
                "# start MAPDL as a service\n",
                "mapdl = launch_mapdl()\n",
                "print(mapdl)"
            ]
        },
        {
            "cell_type": "markdown",
            "metadata": {},
            "source": [
                "# Setting up the model"
            ]
        },
        {
            "cell_type": "markdown",
            "metadata": {},
            "source": [
                "### Defining material properties<br>"
            ]
        },
        {
            "cell_type": "code",
            "execution_count": null,
            "metadata": {},
            "outputs": [],
            "source": [
                "# define 316L Stainless steel\n",
                "mapdl.prep7()\n",
                "mapdl.mptemp()\n",
                "mapdl.mptemp(sloc=\"1\", t1=\"0\")\n",
                "mapdl.mpdata(lab=\"EX\", mat=\"1\", c1=\"200e3\")\n",
                "mapdl.mpdata(lab=\"PRXY\", mat=\"1\", c1=\"0.3\")\n",
                "mapdl.mptemp()\n",
                "mapdl.mptemp(sloc=\"1\", t1=\"0\")\n",
                "mapdl.mpdata(lab=\"DENS\", mat=\"1\", c1=\"8000e-9\")"
            ]
        },
        {
            "cell_type": "markdown",
            "metadata": {},
            "source": [
                "### Defining element types"
            ]
        },
        {
            "cell_type": "code",
            "execution_count": null,
            "metadata": {},
            "outputs": [],
            "source": [
                "# for straight line segments\n",
                "mapdl.et(itype=\"1\", ename=\"beam189\")\n",
                "mapdl.sectype(secid=\"1\", type_=\"beam\", subtype=\"csolid\")\n",
                "mapdl.secdata(val1=0.05)\n",
                "\n",
                "# for arcs\n",
                "mapdl.et(itype=\"2\", ename=\"beam189\")\n",
                "mapdl.sectype(secid=\"2\", type_=\"beam\", subtype=\"csolid\")\n",
                "mapdl.secdata(val1=0.05)"
            ]
        },
        {
            "cell_type": "markdown",
            "metadata": {},
            "source": [
                "### Defining 5-parameter Mooney-Rivlin hyperelastic artery material model"
            ]
        },
        {
            "cell_type": "code",
            "execution_count": null,
            "metadata": {},
            "outputs": [],
            "source": [
                "c10 = 18.90e-3\n",
                "c01 = 2.75e-3\n",
                "c20 = 590.43e-3\n",
                "c11 = 857.2e-3\n",
                "nu1 = 0.49\n",
                "dd = 2 * (1 - 2 * nu1) / (c10 + c01)"
            ]
        },
        {
            "cell_type": "code",
            "execution_count": null,
            "metadata": {},
            "outputs": [],
            "source": [
                "mapdl.tb(lab=\"hyper\", mat=\"2\", npts=\"5\", tbopt=\"mooney\")\n",
                "mapdl.tbdata(stloc=\"1\", c1=\"c10\", c2=\"c01\", c3=\"c20\", c4=\"c11\", c6=\"dd\")"
            ]
        },
        {
            "cell_type": "markdown",
            "metadata": {},
            "source": [
                "### Defining linear elastic material model for stiff calcified plaque"
            ]
        },
        {
            "cell_type": "code",
            "execution_count": null,
            "metadata": {},
            "outputs": [],
            "source": [
                "mapdl.mp(lab=\"EX\", mat=\"3\", c0=\".00219e3\")\n",
                "mapdl.mp(lab=\"NUXY\", mat=\"3\", c0=\"0.49\")"
            ]
        },
        {
            "cell_type": "markdown",
            "metadata": {},
            "source": [
                "### Define Solid185 element type to mesh both the artery and plaque"
            ]
        },
        {
            "cell_type": "code",
            "execution_count": null,
            "metadata": {},
            "outputs": [],
            "source": [
                "# for artery\n",
                "mapdl.et(itype=\"9\", ename=\"SOLID185\")\n",
                "mapdl.keyopt(\n",
                "    itype=\"9\", knum=\"6\", value=\"1\")  # Use mixed u-P formulation to avoid locking\n",
                "mapdl.keyopt(itype=\"9\", knum=\"2\", value=\"3\")  # Use Simplified Enhanced Strain method\n",
                "\n",
                "# for plaque\n",
                "mapdl.et(itype=\"16\", ename=\"SOLID185\")\n",
                "mapdl.keyopt(itype=\"16\", knum=\"2\", value=\"0\")  # Use B-bar"
            ]
        },
        {
            "cell_type": "markdown",
            "metadata": {},
            "source": [
                "### Defining settings to model the stent, the artery and the plaque\n",
                "\n",
                "Use force-distributed boundary constraints on 2 sides of artery wall to allow\n",
                "for radial expansion of tissue without rigid body motion."
            ]
        },
        {
            "cell_type": "markdown",
            "metadata": {},
            "source": [
                "#### Settings for MPC Surface-based, force-distributed contact on proximal plane parallel to x-y plane"
            ]
        },
        {
            "cell_type": "code",
            "execution_count": null,
            "metadata": {},
            "outputs": [],
            "source": [
                "mapdl.mat(\"2\")\n",
                "mapdl.r(nset=\"3\")\n",
                "mapdl.real(nset=\"3\")\n",
                "mapdl.et(itype=\"3\", ename=\"170\")\n",
                "mapdl.et(itype=\"4\", ename=\"174\")\n",
                "mapdl.keyopt(itype=\"4\", knum=\"12\", value=\"5\")\n",
                "mapdl.keyopt(itype=\"4\", knum=\"4\", value=\"1\")\n",
                "mapdl.keyopt(itype=\"4\", knum=\"2\", value=\"2\")\n",
                "mapdl.keyopt(itype=\"3\", knum=\"2\", value=\"1\")\n",
                "mapdl.keyopt(itype=\"3\", knum=\"4\", value=\"111111\")\n",
                "mapdl.type(itype=\"3\")\n",
                "\n",
                "mapdl.mat(\"2\")\n",
                "mapdl.r(nset=\"4\")\n",
                "mapdl.real(nset=\"4\")\n",
                "mapdl.et(itype=\"5\", ename=\"170\")\n",
                "mapdl.et(itype=\"6\", ename=\"174\")\n",
                "mapdl.keyopt(itype=\"6\", knum=\"12\", value=\"5\")\n",
                "mapdl.keyopt(itype=\"6\", knum=\"4\", value=\"1\")\n",
                "mapdl.keyopt(itype=\"6\", knum=\"2\", value=\"2\")\n",
                "mapdl.keyopt(itype=\"5\", knum=\"2\", value=\"1\")\n",
                "mapdl.keyopt(itype=\"5\", knum=\"4\", value=\"111111\")\n",
                "mapdl.type(itype=\"5\")"
            ]
        },
        {
            "cell_type": "markdown",
            "metadata": {},
            "source": [
                "#### Settings for standard contact between stent and inner plaque wall contact surface"
            ]
        },
        {
            "cell_type": "code",
            "execution_count": null,
            "metadata": {},
            "outputs": [],
            "source": [
                "mapdl.mp(lab=\"MU\", mat=\"1\", c0=\"0\")\n",
                "mapdl.mat(\"1\")\n",
                "mapdl.mp(lab=\"EMIS\", mat=\"1\", c0=\"7.88860905221e-31\")\n",
                "mapdl.r(nset=\"6\")\n",
                "mapdl.real(nset=\"6\")\n",
                "mapdl.et(itype=\"10\", ename=\"170\")\n",
                "mapdl.et(itype=\"11\", ename=\"177\")\n",
                "mapdl.r(nset=\"6\", r3=\"1.0\", r4=\"1.0\", r5=\"0\")\n",
                "mapdl.rmore(r9=\"1.0E20\", r10=\"0.0\", r11=\"1.0\")\n",
                "mapdl.rmore(r7=\"0.0\", r8=\"0\", r9=\"1.0\", r10=\"0.05\", r11=\"1.0\", r12=\"0.5\")\n",
                "mapdl.rmore(r7=\"0\", r8=\"1.0\", r9=\"1.0\", r10=\"0.0\")\n",
                "mapdl.keyopt(itype=\"11\", knum=\"5\", value=\"0\")\n",
                "mapdl.keyopt(itype=\"11\", knum=\"7\", value=\"1\")\n",
                "mapdl.keyopt(itype=\"11\", knum=\"8\", value=\"0\")\n",
                "mapdl.keyopt(itype=\"11\", knum=\"9\", value=\"0\")\n",
                "mapdl.keyopt(itype=\"11\", knum=\"10\", value=\"2\")\n",
                "mapdl.keyopt(itype=\"11\", knum=\"11\", value=\"0\")\n",
                "mapdl.keyopt(itype=\"11\", knum=\"12\", value=\"0\")\n",
                "mapdl.keyopt(itype=\"11\", knum=\"2\", value=\"3\")\n",
                "mapdl.keyopt(itype=\"10\", knum=\"5\", value=\"0\")"
            ]
        },
        {
            "cell_type": "markdown",
            "metadata": {},
            "source": [
                "#### Settings for MPC based, force-distributed constraint on proximal stent nodes"
            ]
        },
        {
            "cell_type": "code",
            "execution_count": null,
            "metadata": {},
            "outputs": [],
            "source": [
                "mapdl.mat(\"1\")\n",
                "mapdl.r(nset=\"7\")\n",
                "mapdl.real(nset=\"7\")\n",
                "mapdl.et(itype=\"12\", ename=\"170\")\n",
                "mapdl.et(itype=\"13\", ename=\"175\")\n",
                "mapdl.keyopt(itype=\"13\", knum=\"12\", value=\"5\")\n",
                "mapdl.keyopt(itype=\"13\", knum=\"4\", value=\"1\")\n",
                "mapdl.keyopt(itype=\"13\", knum=\"2\", value=\"2\")\n",
                "mapdl.keyopt(itype=\"12\", knum=\"2\", value=\"1\")\n",
                "mapdl.keyopt(itype=\"12\", knum=\"4\", value=\"111111\")\n",
                "mapdl.type(itype=\"12\")"
            ]
        },
        {
            "cell_type": "markdown",
            "metadata": {},
            "source": [
                "#### Settings for MPC based, force-distributed constraint on distal stent nodes"
            ]
        },
        {
            "cell_type": "code",
            "execution_count": null,
            "metadata": {},
            "outputs": [],
            "source": [
                "mapdl.mat(\"1\")\n",
                "mapdl.r(nset=\"8\")\n",
                "mapdl.real(nset=\"8\")\n",
                "mapdl.et(itype=\"14\", ename=\"170\")\n",
                "mapdl.et(itype=\"15\", ename=\"175\")\n",
                "mapdl.keyopt(itype=\"15\", knum=\"12\", value=\"5\")\n",
                "mapdl.keyopt(itype=\"15\", knum=\"4\", value=\"1\")\n",
                "mapdl.keyopt(itype=\"15\", knum=\"2\", value=\"2\")\n",
                "mapdl.keyopt(itype=\"14\", knum=\"2\", value=\"1\")\n",
                "mapdl.keyopt(itype=\"14\", knum=\"4\", value=\"111111\")\n",
                "mapdl.type(itype=\"14\")"
            ]
        },
        {
            "cell_type": "markdown",
            "metadata": {},
            "source": [
                "### Reading the geometry file"
            ]
        },
        {
            "cell_type": "code",
            "execution_count": null,
            "metadata": {},
            "outputs": [],
            "source": [
                "mapdl.cdread(option=\"db\", fname=\"stent\", ext=\"cdb\")\n",
                "mapdl.allsel(labt=\"all\")\n",
                "mapdl.finish()"
            ]
        },
        {
            "cell_type": "markdown",
            "metadata": {},
            "source": [
                "## Static Analysis\n",
                "\n",
                "Run static analysis"
            ]
        },
        {
            "cell_type": "code",
            "execution_count": null,
            "metadata": {},
            "outputs": [],
            "source": [
                "# enter solution processor and define analysis settings\n",
                "mapdl.run(\"/solu\")\n",
                "mapdl.antype(antype=\"0\")\n",
                "mapdl.nlgeom(key=\"on\")"
            ]
        },
        {
            "cell_type": "markdown",
            "metadata": {},
            "source": [
                "### Apply Load Step 1: Balloon angioplasty of the artery to expand it past the radius of the stent - IGNORE STENT"
            ]
        },
        {
            "cell_type": "code",
            "execution_count": null,
            "metadata": {},
            "outputs": [],
            "source": [
                "mapdl.nsubst(nsbstp=\"20\", nsbmx=\"20\")\n",
                "mapdl.nropt(option1=\"full\")\n",
                "mapdl.cncheck(option=\"auto\")\n",
                "mapdl.esel(type_=\"s\", item=\"type\", vmin=\"11\")\n",
                "mapdl.cm(cname=\"contact2\", entity=\"elem\")\n",
                "mapdl.ekill(elem=\"contact2\")  # Kill contact elements in stent-plaque contact \n",
                "                              #pair so that the stent is ignored in the first loadstep\n",
                "mapdl.nsel(type_=\"s\", item=\"loc\", comp=\"x\", vmin=\"0\", vmax=\"0.01e-3\")\n",
                "mapdl.nsel(type_=\"r\", item=\"loc\", comp=\"y\", vmin=\"0\", vmax=\"0.01e-3\")\n",
                "mapdl.d(node=\"all\", lab=\"all\")\n",
                "mapdl.allsel()\n",
                "\n",
                "mapdl.sf(nlist=\"load\", lab=\"pres\", value=\"10e-2\")  # Apply 0.1 Pa/mm^2 pressure to inner plaque wall\n",
                "mapdl.allsel()\n",
                "mapdl.nldiag(label=\"cont\", key=\"iter\")\n",
                "mapdl.solve()\n",
                "mapdl.save()"
            ]
        },
        {
            "cell_type": "markdown",
            "metadata": {},
            "source": [
                "### Apply Load Step 2: Reactivate contact between stent and plaque"
            ]
        },
        {
            "cell_type": "code",
            "execution_count": null,
            "metadata": {},
            "outputs": [],
            "source": [
                "mapdl.ealive(elem=\"contact2\")\n",
                "mapdl.allsel()\n",
                "\n",
                "mapdl.nsubst(nsbstp=\"2\", nsbmx=\"2\")\n",
                "mapdl.save()\n",
                "mapdl.solve()"
            ]
        },
        {
            "cell_type": "markdown",
            "metadata": {},
            "source": [
                "### Apply Load Step 3"
            ]
        },
        {
            "cell_type": "code",
            "execution_count": null,
            "metadata": {},
            "outputs": [],
            "source": [
                "mapdl.nsubst(nsbstp=\"1\", nsbmx=\"1\", nsbmn=\"1\")\n",
                "mapdl.solve()"
            ]
        },
        {
            "cell_type": "markdown",
            "metadata": {},
            "source": [
                "### Apply Load Step 4: Apply blood pressure (13.3 kPa) load to inner wall of plaque and allow the stent to act as a scaffold"
            ]
        },
        {
            "cell_type": "code",
            "execution_count": null,
            "metadata": {},
            "outputs": [],
            "source": [
                "mapdl.nsubst(nsbstp=\"300\", nsbmx=\"3000\", nsbmn=\"30\")\n",
                "mapdl.sf(nlist=\"load\", lab=\"pres\", value=\"13.3e-3\")\n",
                "mapdl.allsel()"
            ]
        },
        {
            "cell_type": "markdown",
            "metadata": {},
            "source": [
                "### Apply stabilization with energy option"
            ]
        },
        {
            "cell_type": "code",
            "execution_count": null,
            "metadata": {},
            "outputs": [],
            "source": [
                "mapdl.stabilize(key=\"const\", method=\"energy\", value=\"0.1\")"
            ]
        },
        {
            "cell_type": "markdown",
            "metadata": {},
            "source": [
                "# Solve the model"
            ]
        },
        {
            "cell_type": "code",
            "execution_count": null,
            "metadata": {},
            "outputs": [],
            "source": [
                "mapdl.solve()\n",
                "mapdl.save()\n",
                "mapdl.finish()"
            ]
        },
        {
            "cell_type": "markdown",
            "metadata": {},
            "source": [
                "# Post-processing the results\n",
                "\n",
                "This section illustrates the use of PyDPF-Core to post-process the results."
            ]
        },
        {
            "cell_type": "code",
            "execution_count": null,
            "metadata": {},
            "outputs": [],
            "source": [
                "from ansys.dpf import core as dpf\n",
                "from ansys.dpf.core import operators as ops"
            ]
        },
        {
            "cell_type": "markdown",
            "metadata": {},
            "source": [
                "## Mesh of the model"
            ]
        },
        {
            "cell_type": "code",
            "execution_count": null,
            "metadata": {},
            "outputs": [],
            "source": [
                "# Loading the result file\n",
                "model = dpf.Model(mapdl.result_file)\n",
                "ds = dpf.DataSources(mapdl.result_file)"
            ]
        },
        {
            "cell_type": "code",
            "execution_count": null,
            "metadata": {},
            "outputs": [],
            "source": [
                "mesh = model.metadata.meshed_region\n",
                "mesh.plot(vtk_export=True)"
            ]
        },
        {
            "cell_type": "markdown",
            "metadata": {},
            "source": [
                "## Computed displacements of the model"
            ]
        },
        {
            "cell_type": "code",
            "execution_count": null,
            "metadata": {},
            "outputs": [],
            "source": [
                "# Collecting the computed displacement\n",
                "u = model.results.displacement(time_scoping=[4]).eval()\n",
                "\n",
                "u[0].plot(deform_by = u[0])"
            ]
        },
        {
            "cell_type": "markdown",
            "metadata": {},
            "source": [
                "## Von Mises stress"
            ]
        },
        {
            "cell_type": "code",
            "execution_count": null,
            "metadata": {},
            "outputs": [],
            "source": [
                "# Collecting the computed stress\n",
                "s_op = model.results.stress(time_scoping=[3])\n",
                "s_op.inputs.requested_location.connect(dpf.locations.nodal)\n",
                "s = s_op.eval()\n",
                "\n",
                "# Calculating Von Mises stress\n",
                "s_VM = dpf.operators.invariant.von_mises_eqv_fc(fields_container=s)\n",
                "s_VM_plot = s_VM.eval()\n",
                "\n",
                "s_VM_plot[0].plot(deform_by = u[0])"
            ]
        },
        {
            "cell_type": "markdown",
            "metadata": {},
            "source": [
                "## Computed displacements of the stent"
            ]
        },
        {
            "cell_type": "code",
            "execution_count": null,
            "metadata": {},
            "outputs": [],
            "source": [
                "# Creating the mesh associated to the stent\n",
                "esco = mesh.named_selection(\"STENT\")\n",
                "print(esco)\n",
                "\n",
                "# Transposing elemental location to nodal one\n",
                "op = dpf.operators.scoping.transpose()\n",
                "op.inputs.mesh_scoping.connect(esco)\n",
                "op.inputs.meshed_region.connect(mesh)\n",
                "op.inputs.inclusive.connect(1)\n",
                "nsco = op.eval()\n",
                "print(nsco)"
            ]
        },
        {
            "cell_type": "code",
            "execution_count": null,
            "metadata": {},
            "outputs": [],
            "source": [
                "# Collecting the computed displacements of the stent\n",
                "u_stent = model.results.displacement(mesh_scoping=nsco, time_scoping=[4])\n",
                "u_stent = u_stent.outputs.fields_container()\n",
                "\n",
                "# Linking the stent mesh to the global one\n",
                "op = dpf.operators.mesh.from_scoping() # operator instantiation\n",
                "op.inputs.scoping.connect(nsco)\n",
                "op.inputs.inclusive.connect(1)\n",
                "op.inputs.mesh.connect(mesh)\n",
                "mesh_sco = op.eval()\n",
                "mesh_sco.plot(vtk_export=True)"
            ]
        },
        {
            "cell_type": "code",
            "execution_count": null,
            "metadata": {},
            "outputs": [],
            "source": [
                "u_stent[0].meshed_region = mesh_sco\n",
                "u_stent[0].plot(deformed_by=u_stent[0])"
            ]
        },
        {
            "cell_type": "code",
            "execution_count": null,
            "metadata": {},
            "outputs": [],
            "source": [
                "mesh.plot(color=\"w\", show_edges=True, text='Mesh of the model', )\n",
                "mesh_sco.plot(color=\"black\", show_edges=True, text='Mesh of the stent')"
            ]
        },
        {
            "cell_type": "markdown",
            "metadata": {},
            "source": [
                "## Exit MAPDL"
            ]
        },
        {
            "cell_type": "code",
            "execution_count": null,
            "metadata": {},
            "outputs": [],
            "source": [
                "mapdl.exit()"
            ]
        },
        {
            "attachments": {},
            "cell_type": "markdown",
            "metadata": {},
            "source": [
                "# Creating the files for the semi-dynamic example"
            ]
        },
        {
            "attachments": {},
            "cell_type": "markdown",
            "metadata": {},
            "source": [
                "## Exporting the plot to vtk files"
            ]
        },
        {
            "cell_type": "code",
            "execution_count": null,
            "metadata": {},
            "outputs": [],
            "source": [
                "grid_mesh = mesh.grid\n",
                "grid_mesh.save('mesh.vtk')"
            ]
        },
        {
            "cell_type": "code",
            "execution_count": null,
            "metadata": {},
            "outputs": [],
            "source": [
                "grid_mesh_sco = mesh_sco.grid\n",
                "grid_mesh_sco.save('mesh_sco.vtk')"
            ]
        },
        {
            "cell_type": "code",
            "execution_count": null,
            "metadata": {},
            "outputs": [],
            "source": [
                "vtk_export = model.operator(\"vtk_export\")\n",
                "vtk_export.inputs.connect(0)\n",
                "vtk_export.inputs.connect(r'u_1.vtk')\n",
                "vtk_export.inputs.connect(mesh)\n",
                "vtk_export.inputs.connect(u)\n",
                "vtk_export.eval()"
            ]
        },
        {
            "cell_type": "code",
            "execution_count": null,
            "metadata": {},
            "outputs": [],
            "source": [
                "vtk_export =model.operator(\"vtk_export\")\n",
                "vtk_export.inputs.connect(0)\n",
                "vtk_export.inputs.connect(r's_VM_1.vtk')\n",
                "vtk_export.inputs.connect(mesh)\n",
                "vtk_export.inputs.connect(s_VM)\n",
                "vtk_export.eval()"
            ]
        },
        {
            "cell_type": "code",
            "execution_count": null,
            "metadata": {},
            "outputs": [],
            "source": [
                "vtk_export = model.operator(\"vtk_export\")\n",
                "vtk_export.inputs.connect(r'u_stent_1.vtk')\n",
                "vtk_export.inputs.connect(mesh_sco)\n",
                "vtk_export.inputs.connect(u_stent)\n",
                "vtk_export.eval()"
            ]
        },
        {
            "attachments": {},
            "cell_type": "markdown",
            "metadata": {},
            "source": [
                "## Correct the exported files"
            ]
        },
        {
            "cell_type": "code",
            "execution_count": null,
            "metadata": {},
            "outputs": [],
            "source": [
                "f = open(\"u_1.vtk\", \"r\")\n",
                "l = len(f.readlines())\n",
                "f.close() \n",
                "f1 = open(\"u_1.vtk\", \"r\")\n",
                "f2 = open(\"u.vtk\", \"w\")\n",
                "b = 'nan nan nan\\n'\n",
                "c = 'VECTORS'\n",
                "for i in range(l): \n",
                "    a = f1.readline() \n",
                "    if a == b: # nan value not supported\n",
                "        a = '0 0 0\\n'\n",
                "    elif a[:len(c)] == c : # renamming the data\n",
                "        a = 'VECTORS U double\\n'\n",
                "    f2.write(a)\n",
                "f1.close() \n",
                "f2.close()\n",
                "os.remove(\"u_1.vtk\")\n",
                "\n"
            ]
        },
        {
            "cell_type": "code",
            "execution_count": null,
            "metadata": {},
            "outputs": [],
            "source": [
                "f = open(\"s_VM_1.vtk\", \"r\")\n",
                "l = len(f.readlines())\n",
                "f.close() \n",
                "f1 = open(\"s_VM_1.vtk\", \"r\")\n",
                "f2 = open(\"s_VM.vtk\", \"w\")\n",
                "b = 'nan nan nan\\n'\n",
                "c = 'SCALARS 2_'\n",
                "for i in range(l): \n",
                "    a = f1.readline() \n",
                "    if a == b: # nan value not supported\n",
                "        a = '0 0 0\\n'\n",
                "    elif a[:len(c)] == c : # renamming the data\n",
                "        a = 'SCALARS S_VM double 1\\n'\n",
                "    f2.write(a)\n",
                "f1.close() \n",
                "f2.close()\n",
                "os.remove(\"s_VM_1.vtk\")\n"
            ]
        },
        {
            "cell_type": "code",
            "execution_count": null,
            "metadata": {},
            "outputs": [],
            "source": [
                "f = open(\"u_stent_1.vtk\", \"r\")\n",
                "l = len(f.readlines())\n",
                "f.close() \n",
                "f1 = open(\"u_stent_1.vtk\", \"r\")\n",
                "f2 = open(\"u_stent.vtk\", \"w\")\n",
                "b = 'nan nan nan\\n'\n",
                "c = 'VECTORS'\n",
                "for i in range(l): \n",
                "    a = f1.readline() \n",
                "    if a == b: # nan value not supported\n",
                "        a = '0 0 0\\n'\n",
                "    elif a[:len(c)] == c : # renamming the data\n",
                "        a = 'VECTORS U_STENT double\\n'\n",
                "    f2.write(a)\n",
                "f1.close() \n",
                "f2.close()\n",
                "os.remove(\"u_stent_1.vtk\")\n"
            ]
        },
        {
            "attachments": {},
            "cell_type": "markdown",
            "metadata": {},
            "source": [
                "## Plots using the VTK files"
            ]
        },
        {
            "cell_type": "code",
            "execution_count": null,
            "metadata": {},
            "outputs": [],
            "source": [
                "import pyvista\n",
                "import panel\n",
                "pyvista.set_jupyter_backend('panel')\n",
                "pyvista.global_theme.window_size = [600, 400]\n",
                "pyvista.global_theme.background = 'grey'"
            ]
        },
        {
            "cell_type": "code",
            "execution_count": null,
            "metadata": {},
            "outputs": [],
            "source": [
                "file = \"mesh.vtk\"\n",
                "mesh_file = pyvista.read(file)\n",
                "\n",
                "file = \"mesh_sco.vtk\"\n",
                "mesh_sco_file = pyvista.read(file)\n",
                "\n",
                "pl = pyvista.Plotter(shape=(1, 2))\n",
                "pl.subplot(0, 0)\n",
                "pl.add_mesh(mesh_file, cmap=\"jet\", show_scalar_bar=False, show_edges=True)\n",
                "pl.add_text(\"Mesh\", color='w')\n",
                "pl.subplot(0, 1)\n",
                "pl.add_mesh(mesh_sco_file, color=\"black\", show_scalar_bar=False, show_edges=True)\n",
                "pl.add_text(\"Mesh of the stent\", color='w')\n",
                "pl.link_views()\n",
                "pl.camera_position = 'iso'\n",
                "pl.show()"
            ]
        },
        {
            "cell_type": "code",
            "execution_count": null,
            "metadata": {},
            "outputs": [],
            "source": [
                "\n",
                "# results from add_mesh method\n",
                "\n",
                "file = \"u.vtk\"\n",
                "u_file = pyvista.read(file)\n",
                "u_file = u_file.warp_by_scalar('U')\n",
                "pl = pyvista.Plotter(notebook=True)\n",
                "pl.add_mesh(u_file, scalars = 'U', scalar_bar_args={'title':'Displacement'}, color='blue')\n",
                "pl.add_text(\"Displacements of the model\", color='w')\n",
                "pl.show()"
            ]
        },
        {
            "cell_type": "code",
            "execution_count": null,
            "metadata": {},
            "outputs": [],
            "source": [
                "# results from add_mesh method\n",
                "\n",
                "file = \"s_VM.vtk\"\n",
                "s_VM_file = pyvista.read(file)\n",
                "s_VM_file = s_VM_file.warp_by_scalar('S_VM')\n",
                "pl = pyvista.Plotter(notebook=True)\n",
                "pl.add_mesh(s_VM_file, scalars = \"S_VM\", scalar_bar_args={'title':'Displacement'}, show_scalar_bar=True, color='blue')\n",
                "pl.add_text(\"Von Mises Stress\", color='w')\n",
                "pl.show()"
            ]
        },
        {
            "cell_type": "code",
            "execution_count": null,
            "metadata": {},
            "outputs": [],
            "source": [
                "# method using point_arrays because add_mesh method doesn't support point scalars\n",
                "\n",
                "file = \"u_stent.vtk\"\n",
                "u_stent_file = pyvista.read(file)\n",
                "u_stent_file.warp_by_scalar('U_STENT')\n",
                "data = u_stent_file.get_array('U_STENT')\n",
                "u_stent_mesh = mesh_sco_file\n",
                "u_stent_mesh.point_data['U_STENT'] = data\n",
                "u_stent_mesh = mesh_sco_file.point_data_to_cell_data()\n",
                "u_stent_mesh.plot(scalars='U_STENT', show_scalar_bar=True, scalar_bar_args={'title':'Displacements'}, cmap='jet', text='Displacements of the stent', color='black')\n"
            ]
        },
        {
            "cell_type": "code",
            "execution_count": null,
            "metadata": {},
            "outputs": [],
            "source": []
        }
    ],
    "metadata": {
        "kernelspec": {
            "display_name": "Python 3.10.8 ('.venv': venv)",
            "language": "python",
            "name": "python3"
        },
        "language_info": {
            "codemirror_mode": {
                "name": "ipython",
                "version": 3
            },
            "file_extension": ".py",
            "mimetype": "text/x-python",
            "name": "python",
            "nbconvert_exporter": "python",
            "pygments_lexer": "ipython3",
            "version": "3.10.8 (tags/v3.10.8:aaaf517, Oct 11 2022, 16:50:30) [MSC v.1933 64 bit (AMD64)]"
        },
        "vscode": {
            "interpreter": {
                "hash": "25ee88bf99fdb66867962637ab0ae1b8de27a896c2eb41e2fbf5e9143b58a926"
            }
        }
    },
    "nbformat": 4,
    "nbformat_minor": 2
}
