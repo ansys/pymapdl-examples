{
 "cells": [
  {
   "cell_type": "markdown",
   "metadata": {},
   "source": [
    "# Stent model"
   ]
  },
  {
   "cell_type": "code",
   "execution_count": 1,
   "metadata": {},
   "outputs": [],
   "source": [
    "import numpy as np\n",
    "from ansys.mapdl.core import launch_mapdl\n",
    "\n",
    "mapdl = launch_mapdl()"
   ]
  },
  {
   "cell_type": "markdown",
   "metadata": {},
   "source": [
    "### Define Material Properties of 316L Stainless steel"
   ]
  },
  {
   "cell_type": "code",
   "execution_count": 2,
   "metadata": {},
   "outputs": [
    {
     "data": {
      "text/plain": [
       "PROPERTY TABLE DENS  MAT=      1  NUM. POINTS=  1\n",
       " SLOC=   1    0.8000000E-05"
      ]
     },
     "execution_count": 2,
     "metadata": {},
     "output_type": "execute_result"
    }
   ],
   "source": [
    "mapdl.prep7()\n",
    "mapdl.mptemp()\n",
    "mapdl.mptemp(sloc='1', t1='0')\n",
    "mapdl.mpdata(lab='EX', mat='1', c1='200e3')\n",
    "mapdl.mpdata(lab='PRXY', mat='1', c1='0.3')\n",
    "mapdl.mptemp()\n",
    "mapdl.mptemp(sloc='1', t1='0')\n",
    "mapdl.mpdata(lab='DENS', mat='1', c1='8000e-9')"
   ]
  },
  {
   "cell_type": "markdown",
   "metadata": {},
   "source": [
    "### Define Element Types"
   ]
  },
  {
   "cell_type": "markdown",
   "metadata": {},
   "source": [
    "Beam elements have circular cross-sections as in the real S7 stent.\n",
    "Use Beam189 to overcome convergence difficulty and to decrease computational time"
   ]
  },
  {
   "cell_type": "code",
   "execution_count": 3,
   "metadata": {},
   "outputs": [
    {
     "data": {
      "text/plain": [
       "SECTION ID NUMBER IS:            2\n",
       "   BEAM SECTION TYPE IS:     Circular Solid  \n",
       "   BEAM SECTION NAME IS:             \n",
       "   COMPUTED BEAM SECTION DATA SUMMARY:\n",
       "    Area                 = 0.78479E-02\n",
       "    Iyy                  = 0.48986E-05\n",
       "    Iyz                  =-0.66174E-22\n",
       "    Izz                  = 0.48986E-05\n",
       "    Warping Constant     = 0.46449E-40\n",
       "    Torsion Constant     = 0.97972E-05\n",
       "    Centroid Y           =-0.26983E-18\n",
       "    Centroid Z           =-0.48569E-18\n",
       "    Shear Center Y       = 0.36554E-20\n",
       "    Shear Center Z       = 0.18437E-17\n",
       "    Shear Correction-xy  = 0.85691    \n",
       "    Shear Correction-yz  = 0.35124E-15\n",
       "    Shear Correction-xz  = 0.85691    \n",
       "                 \n",
       "    Beam Section is offset to CENTROID of cross section"
      ]
     },
     "execution_count": 3,
     "metadata": {},
     "output_type": "execute_result"
    }
   ],
   "source": [
    "#For straight line segments\n",
    "\n",
    "mapdl.et(itype='1', ename='beam189')\n",
    "mapdl.sectype(secid='1', type_='beam', subtype='csolid')\n",
    "mapdl.secdata(val1=0.05)\n",
    "\n",
    "#For arcs\n",
    "\n",
    "mapdl.et(itype='2', ename='beam189')\n",
    "mapdl.sectype(secid='2', type_='beam', subtype='csolid')\n",
    "mapdl.secdata(val1=0.05)"
   ]
  },
  {
   "cell_type": "markdown",
   "metadata": {},
   "source": [
    "### Define 5 parameters Mooney-Rivlin hyperelastic artery material model."
   ]
  },
  {
   "cell_type": "code",
   "execution_count": 4,
   "metadata": {},
   "outputs": [
    {
     "data": {
      "text/plain": [
       "DATA FOR  HYPE  TABLE FOR MATERIAL   2 AT TEMPERATURE=  0.0000    \n",
       " LOC=  1 7.88861e-31     7.88861e-31     7.88861e-31     7.88861e-31     0.00000e+00     7.88861e-31"
      ]
     },
     "execution_count": 4,
     "metadata": {},
     "output_type": "execute_result"
    }
   ],
   "source": [
    "c10=18.90e-3\n",
    "c01=2.75e-3\n",
    "c20=590.43e-3\n",
    "c11=857.2e-3\n",
    "nu1=0.49\n",
    "dd=2*(1-2*nu1)/(c10+c01)\n",
    "\n",
    "mapdl.tb(lab='hyper', mat='2', npts='5', tbopt='mooney')\n",
    "mapdl.tbdata(stloc='1', c1='c10', c2='c01', c3='c20', c4='c11', c6='dd')"
   ]
  },
  {
   "cell_type": "markdown",
   "metadata": {},
   "source": [
    "### Define linear elastic material model for stiff calcified plaque "
   ]
  },
  {
   "cell_type": "code",
   "execution_count": 5,
   "metadata": {},
   "outputs": [
    {
     "data": {
      "text/plain": [
       "MATERIAL          3     NUXY =  0.4900000"
      ]
     },
     "execution_count": 5,
     "metadata": {},
     "output_type": "execute_result"
    }
   ],
   "source": [
    "mapdl.mp(lab='EX', mat='3', c0='00219e3')\n",
    "mapdl.mp(lab='NUXY', mat='3', c0='0.49')"
   ]
  },
  {
   "cell_type": "markdown",
   "metadata": {},
   "source": [
    "### Define Solid185 element type to mesh both the artery and plaque"
   ]
  },
  {
   "cell_type": "code",
   "execution_count": 6,
   "metadata": {},
   "outputs": [
    {
     "data": {
      "text/plain": [
       "ELEMENT TYPE      16 IS SOLID185     3-D 8-NODE STRUCTURAL SOLID \n",
       "  KEYOPT( 1- 6)=        0      0      0        0      0      0\n",
       "  KEYOPT( 7-12)=        0      0      0        0      0      0\n",
       "  KEYOPT(13-18)=        0      0      0        0      0      0\n",
       "\n",
       " CURRENT NODAL DOF SET IS  UX    UY    UZ    ROTX  ROTY  ROTZ\n",
       "  THREE-DIMENSIONAL MODEL"
      ]
     },
     "execution_count": 6,
     "metadata": {},
     "output_type": "execute_result"
    }
   ],
   "source": [
    "mapdl.et(itype='9', ename='SOLID185') #For artery\n",
    "mapdl.keyopt(itype='9', knum='6', value='1') #Use mixed u-P formulation to avoid locking\n",
    "mapdl.keyopt(itype='9', knum='2', value='3') #Use Simplified Enhanced Strain method\n",
    "\n",
    "mapdl.et(itype='16', ename='SOLID185') #For plaque\n",
    "mapdl.keyopt(itype='16', knum='2', value='0') #Use B-bar"
   ]
  },
  {
   "cell_type": "markdown",
   "metadata": {},
   "source": [
    "Use force-distributed boundary constraints on 2 sides of artery wall to allow for radial expansion of tissue without rigid body motion.\n",
    "Settings for MPC Surface-based, force-distributed contact on proximal plane parallel to x-y plane"
   ]
  },
  {
   "cell_type": "code",
   "execution_count": 7,
   "metadata": {},
   "outputs": [
    {
     "data": {
      "text/plain": [
       "ELEMENT TYPE SET TO         5"
      ]
     },
     "execution_count": 7,
     "metadata": {},
     "output_type": "execute_result"
    }
   ],
   "source": [
    "mapdl.mat(\"2\")\n",
    "mapdl.r(nset=\"3\")\n",
    "mapdl.real(nset=\"3\")\n",
    "mapdl.et(itype=\"3\", ename=\"170\")\n",
    "mapdl.et(itype=\"4\", ename=\"174\")\n",
    "mapdl.keyopt(itype=\"4\", knum=\"12\", value=\"5\")\n",
    "mapdl.keyopt(itype=\"4\", knum=\"4\", value=\"1\")\n",
    "mapdl.keyopt(itype=\"4\", knum=\"2\", value=\"2\")\n",
    "mapdl.keyopt(itype=\"3\", knum=\"2\", value=\"1\")\n",
    "mapdl.keyopt(itype=\"3\", knum=\"4\", value=\"111111\")\n",
    "mapdl.type(itype=\"3\")\n",
    "\n",
    "mapdl.mat(\"2\")\n",
    "mapdl.r(nset=\"4\")\n",
    "mapdl.real(nset=\"4\")\n",
    "mapdl.et(itype=\"5\", ename=\"170\")\n",
    "mapdl.et(itype=\"6\", ename=\"174\")\n",
    "mapdl.keyopt(itype=\"6\", knum=\"12\", value=\"5\")\n",
    "mapdl.keyopt(itype=\"6\", knum=\"4\", value=\"1\")\n",
    "mapdl.keyopt(itype=\"6\", knum=\"2\", value=\"2\")\n",
    "mapdl.keyopt(itype=\"5\", knum=\"2\", value=\"1\")\n",
    "mapdl.keyopt(itype=\"5\", knum=\"4\", value=\"111111\")\n",
    "mapdl.type(itype=\"5\")"
   ]
  },
  {
   "cell_type": "markdown",
   "metadata": {},
   "source": [
    "Settings for standard contact between stent and inner plaque wall contact surface"
   ]
  },
  {
   "cell_type": "code",
   "execution_count": 8,
   "metadata": {},
   "outputs": [
    {
     "data": {
      "text/plain": [
       "ELEMENT TYPE      10 IS TARGE170     3-D TARGET SEGMENT          \n",
       "  KEYOPT( 1- 6)=        0      0      0        0      0      0\n",
       "  KEYOPT( 7-12)=        0      0      0        0      0      0\n",
       "  KEYOPT(13-18)=        0      0      0        0      0      0\n",
       "\n",
       " CURRENT NODAL DOF SET IS  UX    UY    UZ    ROTX  ROTY  ROTZ\n",
       "  THREE-DIMENSIONAL MODEL"
      ]
     },
     "execution_count": 8,
     "metadata": {},
     "output_type": "execute_result"
    }
   ],
   "source": [
    "mapdl.mp(lab=\"MU\", mat=\"1\", c0=\"0\")\n",
    "mapdl.mat(\"1\")\n",
    "mapdl.mp(lab=\"EMIS\", mat=\"1\", c0=\"7.88860905221e-31\")\n",
    "mapdl.r(nset=\"6\")\n",
    "mapdl.real(nset=\"6\")\n",
    "mapdl.et(itype=\"10\", ename=\"170\")\n",
    "mapdl.et(itype=\"11\", ename=\"177\")\n",
    "mapdl.r(nset=\"6\", r3=\"1.0\", r4=\"1.0\", r5=\"0\")\n",
    "mapdl.rmore(r9=\"1.0E20\", r10=\"0.0\", r11=\"1.0\")\n",
    "mapdl.rmore(r7=\"0.0\", r8=\"0\", r9=\"1.0\", r10=\"0.05\", r11=\"1.0\", r12=\"0.5\")\n",
    "mapdl.rmore(r7=\"0\", r8=\"1.0\", r9=\"1.0\", r10=\"0.0\")\n",
    "mapdl.keyopt(itype=\"11\", knum=\"5\", value=\"0\")\n",
    "mapdl.keyopt(itype=\"11\", knum=\"7\", value=\"1\")\n",
    "mapdl.keyopt(itype=\"11\", knum=\"8\", value=\"0\")\n",
    "mapdl.keyopt(itype=\"11\", knum=\"9\", value=\"0\")\n",
    "mapdl.keyopt(itype=\"11\", knum=\"10\", value=\"2\")\n",
    "mapdl.keyopt(itype=\"11\", knum=\"11\", value=\"0\")\n",
    "mapdl.keyopt(itype=\"11\", knum=\"12\", value=\"0\")\n",
    "mapdl.keyopt(itype=\"11\", knum=\"2\", value=\"3\")\n",
    "mapdl.keyopt(itype=\"10\", knum=\"5\", value=\"0\")\n"
   ]
  },
  {
   "cell_type": "markdown",
   "metadata": {},
   "source": [
    "Settings for MPC based, force-distributed constraint on proximal stent nodes"
   ]
  },
  {
   "cell_type": "code",
   "execution_count": 9,
   "metadata": {},
   "outputs": [
    {
     "data": {
      "text/plain": [
       "ELEMENT TYPE SET TO        12"
      ]
     },
     "execution_count": 9,
     "metadata": {},
     "output_type": "execute_result"
    }
   ],
   "source": [
    "mapdl.mat(\"1\")\n",
    "mapdl.r(nset=\"7\")\n",
    "mapdl.real(nset=\"7\")\n",
    "mapdl.et(itype=\"12\", ename=\"170\")\n",
    "mapdl.et(itype=\"13\", ename=\"175\")\n",
    "mapdl.keyopt(itype=\"13\", knum=\"12\", value=\"5\")\n",
    "mapdl.keyopt(itype=\"13\", knum=\"4\", value=\"1\")\n",
    "mapdl.keyopt(itype=\"13\", knum=\"2\", value=\"2\")\n",
    "mapdl.keyopt(itype=\"12\", knum=\"2\", value=\"1\")\n",
    "mapdl.keyopt(itype=\"12\", knum=\"4\", value=\"111111\")\n",
    "mapdl.type(itype=\"12\")"
   ]
  },
  {
   "cell_type": "markdown",
   "metadata": {},
   "source": [
    "Settings for MPC based, force-distributed constraint on distal stent nodes"
   ]
  },
  {
   "cell_type": "code",
   "execution_count": 10,
   "metadata": {},
   "outputs": [
    {
     "data": {
      "text/plain": [
       "ELEMENT TYPE SET TO        14"
      ]
     },
     "execution_count": 10,
     "metadata": {},
     "output_type": "execute_result"
    }
   ],
   "source": [
    "mapdl.mat(\"1\")\n",
    "mapdl.r(nset=\"8\")\n",
    "mapdl.real(nset=\"8\")\n",
    "mapdl.et(itype=\"14\", ename=\"170\")\n",
    "mapdl.et(itype=\"15\", ename=\"175\")\n",
    "mapdl.keyopt(itype=\"15\", knum=\"12\", value=\"5\")\n",
    "mapdl.keyopt(itype=\"15\", knum=\"4\", value=\"1\")\n",
    "mapdl.keyopt(itype=\"15\", knum=\"2\", value=\"2\")\n",
    "mapdl.keyopt(itype=\"14\", knum=\"2\", value=\"1\")\n",
    "mapdl.keyopt(itype=\"14\", knum=\"4\", value=\"111111\")\n",
    "mapdl.type(itype=\"14\")"
   ]
  },
  {
   "cell_type": "markdown",
   "metadata": {},
   "source": [
    "Read the geometry file"
   ]
  },
  {
   "cell_type": "code",
   "execution_count": 12,
   "metadata": {},
   "outputs": [
    {
     "data": {
      "text/plain": [
       "***** ROUTINE COMPLETED *****  CP =         0.984"
      ]
     },
     "execution_count": 12,
     "metadata": {},
     "output_type": "execute_result"
    }
   ],
   "source": [
    "mapdl.cdread(option=\"db\", fname=\"stent\", ext=\"cdb\")\n",
    "mapdl.allsel(labt=\"all\")\n",
    "mapdl.finish()"
   ]
  },
  {
   "cell_type": "code",
   "execution_count": 13,
   "metadata": {},
   "outputs": [
    {
     "data": {
      "text/plain": [
       "LARGE DEFORMATION ANALYSIS"
      ]
     },
     "execution_count": 13,
     "metadata": {},
     "output_type": "execute_result"
    }
   ],
   "source": [
    "mapdl.run(\"/solu\")\n",
    "mapdl.antype(antype=\"0\")\n",
    "mapdl.nlgeom(key=\"on\")"
   ]
  },
  {
   "cell_type": "markdown",
   "metadata": {},
   "source": [
    "Apply Load Step 1: Balloon angioplasty of the artery to expand it past the radius of the stent - IGNORE STENT"
   ]
  },
  {
   "cell_type": "code",
   "execution_count": 14,
   "metadata": {},
   "outputs": [
    {
     "data": {
      "text/plain": [
       "ALL CURRENT MAPDL DATA WRITTEN TO FILE NAME= file.db\n",
       "  FOR POSSIBLE RESUME FROM THIS POINT"
      ]
     },
     "execution_count": 14,
     "metadata": {},
     "output_type": "execute_result"
    }
   ],
   "source": [
    "mapdl.nsubst(nsbstp=\"20\", nsbmx=\"20\")\n",
    "mapdl.nropt(option1=\"full\")\n",
    "mapdl.cncheck(option=\"auto\")\n",
    "mapdl.esel(type_=\"s\", item=\"type\", vmin=\"11\")\n",
    "mapdl.cm(cname=\"contact2\", entity=\"elem\")\n",
    "mapdl.ekill(elem=\"contact2\") # Kill contact elements in stent-plaque contact \n",
    "                             # pair so that the stent is ignored in the first\n",
    "                             # loadstep\n",
    "\n",
    "mapdl.nsel(type_=\"s\", item=\"loc\", comp=\"x\", vmin=\"0\", vmax=\"0.01e-3\")\n",
    "mapdl.nsel(type_=\"r\", item=\"loc\", comp=\"y\", vmin=\"0\", vmax=\"0.01e-3\")\n",
    "mapdl.d(node=\"all\", lab=\"all\")\n",
    "mapdl.allsel()\n",
    "\n",
    "mapdl.sf(nlist=\"load\", lab=\"pres\", value=\"10e-2\") #Apply 0.1 Pa/mm^2 pressure to inner plaque wall\n",
    "mapdl.allsel()\n",
    "mapdl.nldiag(label=\"cont\", key=\"iter\")\n",
    "mapdl.solve()\n",
    "mapdl.save()\n",
    "\n"
   ]
  },
  {
   "cell_type": "markdown",
   "metadata": {},
   "source": [
    "Apply Load Step 2: Reactivate contact between stent and plaque"
   ]
  },
  {
   "cell_type": "code",
   "execution_count": 16,
   "metadata": {},
   "outputs": [
    {
     "data": {
      "text/plain": [
       "*****  MAPDL SOLVE    COMMAND  *****\n",
       "\n",
       " *** NOTE ***                            CP =     100.391   TIME= 12:47:05\n",
       " Present time 0 is less than or equal to the previous time.  Time will   \n",
       " default to 2.                                                           \n",
       "\n",
       " *** MAPDL - ENGINEERING ANALYSIS SYSTEM  RELEASE 2022 R2          22.2     ***\n",
       " Ansys Mechanical Enterprise                       \n",
       " 00000000  VERSION=WINDOWS x64   12:47:05  NOV 16, 2022 CP=    100.734\n",
       "\n",
       "                                                                               \n",
       "\n",
       "\n",
       "\n",
       "                      L O A D   S T E P   O P T I O N S\n",
       "\n",
       "   LOAD STEP NUMBER. . . . . . . . . . . . . . . .     2\n",
       "   TIME AT END OF THE LOAD STEP. . . . . . . . . .  2.0000    \n",
       "   AUTOMATIC TIME STEPPING . . . . . . . . . . . .    ON\n",
       "      INITIAL NUMBER OF SUBSTEPS . . . . . . . . .     2\n",
       "      MAXIMUM NUMBER OF SUBSTEPS . . . . . . . . .     2\n",
       "      MINIMUM NUMBER OF SUBSTEPS . . . . . . . . .     1\n",
       "   MAXIMUM NUMBER OF EQUILIBRIUM ITERATIONS. . . .    15\n",
       "   STEP CHANGE BOUNDARY CONDITIONS . . . . . . . .    NO\n",
       "   STRESS-STIFFENING . . . . . . . . . . . . . . .    ON\n",
       "   TERMINATE ANALYSIS IF NOT CONVERGED . . . . . .YES (EXIT)  \n",
       "   CONVERGENCE CONTROLS. . . . . . . . . . . . . .USE DEFAULTS\n",
       "   PRINT OUTPUT CONTROLS . . . . . . . . . . . . .NO PRINTOUT\n",
       "   DATABASE OUTPUT CONTROLS. . . . . . . . . . . .ALL DATA WRITTEN\n",
       "                                                  FOR THE LAST SUBSTEP\n",
       "\n",
       "\n",
       " SOLUTION MONITORING INFO IS WRITTEN TO FILE= file.mntr                                                                                                                                                                                                                                                           \n",
       " MAXIMUM NUMBER OF EQUILIBRIUM ITERATIONS HAS BEEN MODIFIED              \n",
       "  TO BE, NEQIT = 25, BY SOLUTION CONTROL LOGIC.                          \n",
       "\n",
       "     FORCE CONVERGENCE VALUE  =  0.1135E-02  CRITERION=  0.6432E-02\n",
       "     MOMENT CONVERGENCE VALUE =  0.1561E-10  CRITERION=  0.1396E-03\n",
       "     DISP CONVERGENCE VALUE   =  0.1272E-02  CRITERION=  0.5791E-02 <<< CONVERGED\n",
       "    EQUIL ITER   1 COMPLETED.  NEW TRIANG MATRIX.  MAX DOF INC=  0.1272E-02\n",
       "     DISP CONVERGENCE VALUE   =  0.1272E-02  CRITERION=  0.5909E-02 <<< CONVERGED\n",
       "     LINE SEARCH PARAMETER =   1.000     SCALED MAX DOF INC =  0.1272E-02\n",
       "     FORCE CONVERGENCE VALUE  =  0.4756E-03  CRITERION=  0.6561E-02 <<< CONVERGED\n",
       "     MOMENT CONVERGENCE VALUE =  0.1576E-10  CRITERION=  0.1424E-03 <<< CONVERGED\n",
       "\n",
       " *** WARNING ***                         CP =     106.656   TIME= 12:47:11\n",
       " A reference moment value times the tolerance is used by the             \n",
       " Newton-Raphson method for checking convergence.  The calculated         \n",
       " reference MOMENT CONVERGENCE VALUE = 4.200734468E-07 is less than a     \n",
       " threshold.  This threshold is internally calculated.  You can           \n",
       " overwrite it by specifying MINREF on the CNVTOL command.  Check         \n",
       " results carefully.                                                      \n",
       "    EQUIL ITER   2 COMPLETED.  NEW TRIANG MATRIX.  MAX DOF INC= -0.1955E-03\n",
       "     DISP CONVERGENCE VALUE   =  0.1953E-03  CRITERION=  0.6030E-02 <<< CONVERGED\n",
       "     LINE SEARCH PARAMETER =  0.9993     SCALED MAX DOF INC = -0.1953E-03\n",
       "     FORCE CONVERGENCE VALUE  =  0.3289E-04  CRITERION=  0.6700E-02 <<< CONVERGED\n",
       "     MOMENT CONVERGENCE VALUE =  0.1496E-10  CRITERION=  0.1454E-03 <<< CONVERGED\n",
       "    >>> SOLUTION CONVERGED AFTER EQUILIBRIUM ITERATION   2\n",
       " *** LOAD STEP     2   SUBSTEP     1  COMPLETED.    CUM ITER =     23\n",
       " *** TIME =   1.50000         TIME INC =  0.500000    \n",
       " *** AUTO STEP TIME:  NEXT TIME INC = 0.50000      UNCHANGED\n",
       "\n",
       "     FORCE CONVERGENCE VALUE  =  0.5195E-04  CRITERION=  0.6435E-02\n",
       "     MOMENT CONVERGENCE VALUE =  0.1496E-10  CRITERION=  0.1397E-03\n",
       "     DISP CONVERGENCE VALUE   =  0.7689E-04  CRITERION=  0.5791E-02 <<< CONVERGED\n",
       "    EQUIL ITER   1 COMPLETED.  NEW TRIANG MATRIX.  MAX DOF INC=  0.7689E-04\n",
       "     DISP CONVERGENCE VALUE   =  0.7676E-04  CRITERION=  0.5909E-02 <<< CONVERGED\n",
       "     LINE SEARCH PARAMETER =  0.9983     SCALED MAX DOF INC =  0.7676E-04\n",
       "     FORCE CONVERGENCE VALUE  =  0.1538E-04  CRITERION=  0.6567E-02 <<< CONVERGED\n",
       "     MOMENT CONVERGENCE VALUE =  0.1614E-10  CRITERION=  0.1425E-03 <<< CONVERGED\n",
       "    EQUIL ITER   2 COMPLETED.  NEW TRIANG MATRIX.  MAX DOF INC=  0.1111E-04\n",
       "     DISP CONVERGENCE VALUE   =  0.1110E-04  CRITERION=  0.6030E-02 <<< CONVERGED\n",
       "     LINE SEARCH PARAMETER =  0.9991     SCALED MAX DOF INC =  0.1110E-04\n",
       "     FORCE CONVERGENCE VALUE  =  0.1965E-05  CRITERION=  0.6700E-02 <<< CONVERGED\n",
       "     MOMENT CONVERGENCE VALUE =  0.1526E-10  CRITERION=  0.1454E-03 <<< CONVERGED\n",
       "    >>> SOLUTION CONVERGED AFTER EQUILIBRIUM ITERATION   2\n",
       " *** LOAD STEP     2   SUBSTEP     2  COMPLETED.    CUM ITER =     25\n",
       " *** TIME =   2.00000         TIME INC =  0.500000"
      ]
     },
     "execution_count": 16,
     "metadata": {},
     "output_type": "execute_result"
    }
   ],
   "source": [
    "mapdl.ealive(elem=\"contact2\")\n",
    "mapdl.allsel()\n",
    "\n",
    "mapdl.nsubst(nsbstp=\"2\", nsbmx=\"2\")\n",
    "mapdl.save()\n",
    "mapdl.solve()"
   ]
  },
  {
   "cell_type": "markdown",
   "metadata": {},
   "source": [
    "Apply Load Step 3"
   ]
  },
  {
   "cell_type": "code",
   "execution_count": 17,
   "metadata": {},
   "outputs": [
    {
     "data": {
      "text/plain": [
       "*****  MAPDL SOLVE    COMMAND  *****\n",
       "\n",
       " *** NOTE ***                            CP =     123.219   TIME= 12:48:20\n",
       " Present time 0 is less than or equal to the previous time.  Time will   \n",
       " default to 3.                                                           \n",
       "\n",
       " *** MAPDL - ENGINEERING ANALYSIS SYSTEM  RELEASE 2022 R2          22.2     ***\n",
       " Ansys Mechanical Enterprise                       \n",
       " 00000000  VERSION=WINDOWS x64   12:48:21  NOV 16, 2022 CP=    123.469\n",
       "\n",
       "                                                                               \n",
       "\n",
       "\n",
       "\n",
       "                      L O A D   S T E P   O P T I O N S\n",
       "\n",
       "   LOAD STEP NUMBER. . . . . . . . . . . . . . . .     3\n",
       "   TIME AT END OF THE LOAD STEP. . . . . . . . . .  3.0000    \n",
       "   AUTOMATIC TIME STEPPING . . . . . . . . . . . .    ON\n",
       "      INITIAL NUMBER OF SUBSTEPS . . . . . . . . .     1\n",
       "      MAXIMUM NUMBER OF SUBSTEPS . . . . . . . . .     1\n",
       "      MINIMUM NUMBER OF SUBSTEPS . . . . . . . . .     1\n",
       "   MAXIMUM NUMBER OF EQUILIBRIUM ITERATIONS. . . .    15\n",
       "   STEP CHANGE BOUNDARY CONDITIONS . . . . . . . .    NO\n",
       "   STRESS-STIFFENING . . . . . . . . . . . . . . .    ON\n",
       "   TERMINATE ANALYSIS IF NOT CONVERGED . . . . . .YES (EXIT)  \n",
       "   CONVERGENCE CONTROLS. . . . . . . . . . . . . .USE DEFAULTS\n",
       "   PRINT OUTPUT CONTROLS . . . . . . . . . . . . .NO PRINTOUT\n",
       "   DATABASE OUTPUT CONTROLS. . . . . . . . . . . .ALL DATA WRITTEN\n",
       "                                                  FOR THE LAST SUBSTEP\n",
       "\n",
       "\n",
       " SOLUTION MONITORING INFO IS WRITTEN TO FILE= file.mntr                                                                                                                                                                                                                                                           \n",
       " MAXIMUM NUMBER OF EQUILIBRIUM ITERATIONS HAS BEEN MODIFIED              \n",
       "  TO BE, NEQIT = 25, BY SOLUTION CONTROL LOGIC.                          \n",
       "\n",
       "     FORCE CONVERGENCE VALUE  =  0.7390E-05  CRITERION=  0.6435E-02\n",
       "     MOMENT CONVERGENCE VALUE =  0.1526E-10  CRITERION=  0.1397E-03\n",
       "     DISP CONVERGENCE VALUE   =  0.4476E-05  CRITERION=  0.5791E-02 <<< CONVERGED\n",
       "    EQUIL ITER   1 COMPLETED.  NEW TRIANG MATRIX.  MAX DOF INC= -0.4476E-05\n",
       "     DISP CONVERGENCE VALUE   =  0.4476E-05  CRITERION=  0.5909E-02 <<< CONVERGED\n",
       "     LINE SEARCH PARAMETER =   1.000     SCALED MAX DOF INC = -0.4476E-05\n",
       "     FORCE CONVERGENCE VALUE  =  0.9777E-06  CRITERION=  0.6566E-02 <<< CONVERGED\n",
       "     MOMENT CONVERGENCE VALUE =  0.1474E-10  CRITERION=  0.1425E-03 <<< CONVERGED\n",
       "\n",
       " *** WARNING ***                         CP =     129.078   TIME= 12:48:26\n",
       " A reference moment value times the tolerance is used by the             \n",
       " Newton-Raphson method for checking convergence.  The calculated         \n",
       " reference MOMENT CONVERGENCE VALUE = 6.300578238E-08 is less than a     \n",
       " threshold.  This threshold is internally calculated.  You can           \n",
       " overwrite it by specifying MINREF on the CNVTOL command.  Check         \n",
       " results carefully.                                                      \n",
       "    EQUIL ITER   2 COMPLETED.  NEW TRIANG MATRIX.  MAX DOF INC= -0.6317E-06\n",
       "     DISP CONVERGENCE VALUE   =  0.6311E-06  CRITERION=  0.6030E-02 <<< CONVERGED\n",
       "     LINE SEARCH PARAMETER =  0.9991     SCALED MAX DOF INC = -0.6311E-06\n",
       "     FORCE CONVERGENCE VALUE  =  0.1112E-06  CRITERION=  0.6700E-02 <<< CONVERGED\n",
       "     MOMENT CONVERGENCE VALUE =  0.1515E-10  CRITERION=  0.1454E-03 <<< CONVERGED\n",
       "    >>> SOLUTION CONVERGED AFTER EQUILIBRIUM ITERATION   2\n",
       " *** LOAD STEP     3   SUBSTEP     1  COMPLETED.    CUM ITER =     27\n",
       " *** TIME =   3.00000         TIME INC =   1.00000"
      ]
     },
     "execution_count": 17,
     "metadata": {},
     "output_type": "execute_result"
    }
   ],
   "source": [
    "mapdl.nsubst(nsbstp=\"1\", nsbmx=\"1\", nsbmn=\"1\")\n",
    "mapdl.solve()"
   ]
  },
  {
   "cell_type": "markdown",
   "metadata": {},
   "source": [
    "Apply Load Step 4: Apply blood pressure (13.3 kPa) load to inner wall of plaque and allow the stent to act as a scaffold"
   ]
  },
  {
   "cell_type": "code",
   "execution_count": 18,
   "metadata": {},
   "outputs": [
    {
     "data": {
      "text/plain": [
       "SELECT ALL ENTITIES OF TYPE= ALL  AND BELOW"
      ]
     },
     "execution_count": 18,
     "metadata": {},
     "output_type": "execute_result"
    }
   ],
   "source": [
    "mapdl.nsubst(nsbstp=\"300\", nsbmx=\"3000\", nsbmn=\"30\")\n",
    "mapdl.sf(nlist=\"load\", lab=\"pres\", value=\"13\", value2=\"3e-3\")\n",
    "mapdl.allsel()"
   ]
  },
  {
   "cell_type": "markdown",
   "metadata": {},
   "source": [
    "Apply stabilization with energy option"
   ]
  },
  {
   "cell_type": "code",
   "execution_count": 19,
   "metadata": {},
   "outputs": [
    {
     "data": {
      "text/plain": [
       "NONLINEAR STABILIZATION CONTROL:\n",
       " KEY=CONS   METHOD=ENER   VALUE= 0.10000       SUBSTPOPT=NO     FORCELIMIT= 0.20000"
      ]
     },
     "execution_count": 19,
     "metadata": {},
     "output_type": "execute_result"
    }
   ],
   "source": [
    "mapdl.stabilize(key=\"const\", method=\"energy\", value=\"0.1\")"
   ]
  },
  {
   "cell_type": "code",
   "execution_count": 20,
   "metadata": {},
   "outputs": [],
   "source": [
    "mapdl.solve()\n",
    "mapdl.save()\n",
    "mapdl.finish()"
   ]
  },
  {
   "cell_type": "code",
   "execution_count": null,
   "metadata": {},
   "outputs": [],
   "source": [
    "mapdl.exit()"
   ]
  }
 ],
 "metadata": {
  "kernelspec": {
   "display_name": "Python 3.10.8 ('.venv': venv)",
   "language": "python",
   "name": "python3"
  },
  "language_info": {
   "codemirror_mode": {
    "name": "ipython",
    "version": 3
   },
   "file_extension": ".py",
   "mimetype": "text/x-python",
   "name": "python",
   "nbconvert_exporter": "python",
   "pygments_lexer": "ipython3",
   "version": "3.10.8"
  },
  "orig_nbformat": 4,
  "vscode": {
   "interpreter": {
    "hash": "a93856933cf6329d2ae7462f658624f577cba3f6508a7a11f2f11d710339034a"
   }
  }
 },
 "nbformat": 4,
 "nbformat_minor": 2
}
