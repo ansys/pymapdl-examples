{
  "cells": [
    {
      "cell_type": "code",
      "execution_count": null,
      "metadata": {
        "collapsed": false
      },
      "outputs": [],
      "source": [
        "%matplotlib inline"
      ]
    },
    {
      "cell_type": "markdown",
      "metadata": {},
      "source": [
        "\n\n# Deflection of a Hinged Support\nProblem Description:\n - A structure consisting of two equal steel bars, each of length $l$\n   and cross-sectional area $A$, with hinged ends is subjected to\n   the action of a load $F$. Determine the stress, $\\sigma$,\n   in the bars and the deflection, $\\delta$, of point 2. Neglect\n   the weight of the bars as a small quantity in comparison with the load\n   $F$.\n\nReference:\n - S. Timoshenko, Strength of Materials, Part I, Elementary Theory and\n   Problems, 3rd Edition, D. Van Nostrand Co., Inc., New York, NY, 1955,\n   pg. 10, problem 2.\n\nAnalysis Type(s):\n - Static Analysis ``ANTYPE=0``\n\nElement Type(s):\n - 3-D Spar (or Truss) Elements (LINK180)\n\n<img src=\"file://../../../_static/vm4_setup.png\" width=\"400\" alt=\"VM4 Problem Sketch\">\n\nMaterial Properties\n - $E = 30 \\cdot 10^6 psi$\n\nGeometric Properties:\n - $l = 15 ft$\n - $A = 0.5 in^2$\n - $\\Theta = 30 ^\\circ$\n\nLoading:\n - $F = 5000 lb$\n\nAnalytical Equations:\n - The tensile force in the bars is $S$\n   - $S = \\frac{P}{2 sin \\Theta}$\n - The necessary cross-sectional area $A$ is\n   - $A = \\frac{S}{\\sigma}$\n - The elongation of the bar $AB$ is\n   - $B_1 D = \\frac{\\sigma l}{E}$\n - The deflection $BB_1$ is\n   - $BB_1 = \\frac{B_1 D}{sin \\Theta}$\n\nNotes:\n - Consistent length units are used. The dimensions $a$ and $b$ are\n   calculated parametrically in the input as follows:\n   - $a = 2 l cos \\Theta$,\n   - $b = l sin \\Theta$.\n"
      ]
    },
    {
      "cell_type": "code",
      "execution_count": null,
      "metadata": {
        "collapsed": false
      },
      "outputs": [],
      "source": [
        "# sphinx_gallery_thumbnail_path = '_static/vm4_setup.png'"
      ]
    },
    {
      "cell_type": "markdown",
      "metadata": {},
      "source": [
        "## Start MAPDL\n\n"
      ]
    },
    {
      "cell_type": "code",
      "execution_count": null,
      "metadata": {
        "collapsed": false
      },
      "outputs": [],
      "source": [
        "from math import cos, pi, sin\n\nfrom ansys.mapdl.core import launch_mapdl\n\n# start mapdl and clear it\nmapdl = launch_mapdl()\nmapdl.clear()  # optional as MAPDL just started\n\n# enter verification example mode and the pre-processing routine\nmapdl.verify()\nmapdl.prep7()"
      ]
    },
    {
      "cell_type": "markdown",
      "metadata": {},
      "source": [
        "## Define Material\nCreate a simple hinge geometry.\nWe use the `LINK180` element type to model this and an elastic modulus\nof 30e6.\nWe store the x-coordinate of node 3 and the y-coordinate of node 2 for\nease of use later on.\n\n"
      ]
    },
    {
      "cell_type": "code",
      "execution_count": null,
      "metadata": {
        "collapsed": false
      },
      "outputs": [],
      "source": [
        "length_bar = 15 * 12\ntheta = 30\ntheta_rad = theta * pi / 180.0\nnode3_x = 2 * length_bar * cos(theta_rad)\nnode2_y = length_bar * sin(theta_rad)\n\nmapdl.et(1, \"LINK180\")\nmapdl.sectype(1, \"LINK\")\nmapdl.secdata(0.5)\nmapdl.mp(\"EX\", 1, 30e6)"
      ]
    },
    {
      "cell_type": "markdown",
      "metadata": {},
      "source": [
        "## Define Geometry\nWe create three nodes in an isosceles triangle shape, with elements\nalong the equal sides, forming a hinge.\n\n"
      ]
    },
    {
      "cell_type": "code",
      "execution_count": null,
      "metadata": {
        "collapsed": false
      },
      "outputs": [],
      "source": [
        "n1 = mapdl.n(1, 0, 0, 0)\nn2 = mapdl.n(2, node3_x * 0.5, -node2_y, 0)\nn3 = mapdl.n(3, node3_x, 0, 0)\n\nmapdl.e(n1, n2)\nmapdl.e(n2, n3)\nmapdl.eplot(show_node_numbering=True, line_width=5, cpos=\"xy\")"
      ]
    },
    {
      "cell_type": "markdown",
      "metadata": {},
      "source": [
        "## Define Boundary Conditions\n- Fix nodes 1 and 3 in place\n- Apply a force of -5000 in the negative y-direction to node 2\n- Then finish the prep7 section\n\n"
      ]
    },
    {
      "cell_type": "code",
      "execution_count": null,
      "metadata": {
        "collapsed": false
      },
      "outputs": [],
      "source": [
        "mapdl.d(1, \"ALL\", \"\", \"\", 3, 2)\nmapdl.f(2, \"FY\", -5000)\nmapdl.finish()"
      ]
    },
    {
      "cell_type": "markdown",
      "metadata": {},
      "source": [
        "## Solve\nEnter solution mode and solve the system.\n\n"
      ]
    },
    {
      "cell_type": "code",
      "execution_count": null,
      "metadata": {
        "collapsed": false
      },
      "outputs": [],
      "source": [
        "mapdl.run(\"/SOLU\")\nout = mapdl.solve()\nmapdl.finish()"
      ]
    },
    {
      "cell_type": "markdown",
      "metadata": {},
      "source": [
        "## Post-processing\nEnter post-processing, get the results and view the nodal displacement\nas well as the equivalent stress on the nodes.\n\nWe make the line width larger for ease of visualization as well as\nusing two perceptually linear colormaps to enhance display of the\ndata.\n\n"
      ]
    },
    {
      "cell_type": "code",
      "execution_count": null,
      "metadata": {
        "collapsed": false
      },
      "outputs": [],
      "source": [
        "mapdl.post1()\nmapdl.post_processing.plot_nodal_displacement(\n    \"Y\",\n    cmap=\"magma\",\n    line_width=5,\n    cpos=\"xy\",\n    scalar_bar_args={\"title\": \"Displacement\", \"vertical\": False},\n)"
      ]
    },
    {
      "cell_type": "markdown",
      "metadata": {},
      "source": [
        "## Principal nodal stress\nUse the ``post_processing`` attribute to get the principal nodal\nstress as an array.\n\n<div class=\"alert alert-info\"><h4>Note</h4><p>This returns the same data as :func:`prnsol\n   <ansys.mapdl.core.Mapdl.prnsol>`, except instead of returning\n   text, it returns a numpy array.</p></div>\n\n"
      ]
    },
    {
      "cell_type": "code",
      "execution_count": null,
      "metadata": {
        "collapsed": false
      },
      "outputs": [],
      "source": [
        "seqv = mapdl.post_processing.nodal_eqv_stress()\n\n# print out the nodes\nfor i, nnum in enumerate(mapdl.mesh.nnum):\n    print(f\"Node {nnum} : {seqv[i]} psi\")\n\n# Which is identical to:\n# print(mapdl.prnsol('S', 'PRIN'))"
      ]
    },
    {
      "cell_type": "markdown",
      "metadata": {},
      "source": [
        "## Check Results\nNow that we have the results we can compare the nodal displacement and\nstress experienced by node 2 to the known quantities 10000 psi and\n-0.12 inches. To do this we:\n\n- Find the mid-node from the coordinates using the :class:`Query\n  <ansys.mapdl.core.inline_functions.Query>` class\n- Get the y-displacement from node 2\n- Get the element nearest to node 2\n- Get the stress on this element\n- Compare\n\n"
      ]
    },
    {
      "cell_type": "code",
      "execution_count": null,
      "metadata": {
        "collapsed": false
      },
      "outputs": [],
      "source": [
        "q = mapdl.queries\nmid_node = q.node(node3_x * 0.5, -node2_y, 0)\ndisplacement = mapdl.get_value(\"NODE\", mid_node, \"U\", \"Y\")\nleft_element = q.enearn(mid_node)\nmapdl.etable(\"STRS\", \"LS\", 1)\nstress = mapdl.get_value(\"ELEM\", left_element, \"ETAB\", \"STRS\")\n\nresults = f\"\"\"\n---------------------  RESULTS COMPARISON  -----------------------\n|   TARGET         |  TARGET     |   Mechanical APDL   |   RATIO\n------------------------------------------------------------------\nStress [psi]          10000          {stress}               {stress/10000:.2f}\nDisplacement [in]     -0.12          {displacement:.2f}                 {abs(displacement) / 0.12:.2f}\n------------------------------------------------------------------\n\"\"\"\n\nprint(results)"
      ]
    },
    {
      "cell_type": "markdown",
      "metadata": {},
      "source": [
        "stop mapdl\n\n"
      ]
    },
    {
      "cell_type": "code",
      "execution_count": null,
      "metadata": {
        "collapsed": false
      },
      "outputs": [],
      "source": [
        "mapdl.exit()"
      ]
    }
  ],
  "metadata": {
    "kernelspec": {
      "display_name": "Python 3",
      "language": "python",
      "name": "python3"
    },
    "language_info": {
      "codemirror_mode": {
        "name": "ipython",
        "version": 3
      },
      "file_extension": ".py",
      "mimetype": "text/x-python",
      "name": "python",
      "nbconvert_exporter": "python",
      "pygments_lexer": "ipython3",
      "version": "3.10.8"
    }
  },
  "nbformat": 4,
  "nbformat_minor": 0
}