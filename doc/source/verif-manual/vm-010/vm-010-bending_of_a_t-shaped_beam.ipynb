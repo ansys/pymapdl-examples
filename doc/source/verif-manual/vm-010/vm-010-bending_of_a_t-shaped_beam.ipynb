{
  "cells": [
    {
      "cell_type": "code",
      "execution_count": null,
      "metadata": {
        "collapsed": false
      },
      "outputs": [],
      "source": [
        "%matplotlib inline"
      ]
    },
    {
      "cell_type": "markdown",
      "metadata": {},
      "source": [
        "\n\n# Bending of a Tee-Shaped Beam\nProblem Description:\n - Find the maximum tensile $\\sigma_{\\mathrm{(B,Bot)}}$ and compressive $\\sigma_{\\mathrm{(B,Top)}}$\n   bending stresses in an unsymmetrical `T-beam` subjected to uniform bending $M_z$,\n   with dimensions and geometric properties as shown below.\n\nReference:\n - S. H. Crandall, N. C. Dahl, *An Introduction to the Mechanics of Solids*,\n   McGraw-Hill Book Co., Inc., New York, NY, 1959, pg. 294, ex. 7.2.\n\nAnalysis Type(s):\n - Static Analysis (``ANTYPE = 0``)\n\nElement Type(s):\n - 3-D 2 Node Beam (``BEAM188``)\n\n.. figure:: ../../../_static/vm10_setup_1.png\n    :align: center\n    :width: 400\n    :alt:  VM10 Geometry of Beam188 and Element Model\n    :figclass: align-center\n\n    **Figure 1: VM10 Geometry of Beam188 and Element Model**\n\nMaterial Properties\n - $E = 30 \\cdot 10^6 psi$\n - $\\nu = 0.3$\n\nGeometric Properties:\n - $l = 100\\,in$\n - $h = 1.5\\,in$\n - $b = 8\\,in$\n\nLoading:\n - $M_z = 100,000\\,in\\,lb$\n\n<img src=\"file://../../../_static/vm10_setup.png\" width=\"400\" alt=\"VM10 Problem Sketch\">\n\nAnalysis Assumptions and Modeling Notes:\n - A length $(l = 100 in)$ is arbitrarily selected since the bending moment is constant.\n   A `T-section` beam is modeled using flange width $(6b)$,\n   flange thickness $(\\frac{h}{2})$, overall depth $(2h + \\frac{h}{2})$, and\n   stem thickness $(b)$, input using :meth:`Mapdl.secdata <ansys.mapdl.core.Mapdl.secdata>`.\n"
      ]
    },
    {
      "cell_type": "markdown",
      "metadata": {},
      "source": [
        "## Start MAPDL\nStart MAPDL and import Numpy and Pandas libraries.\n\n"
      ]
    },
    {
      "cell_type": "code",
      "execution_count": null,
      "metadata": {
        "collapsed": false
      },
      "outputs": [],
      "source": [
        "# sphinx_gallery_thumbnail_path = '_static/vm10_setup.png'\n\nimport numpy as np\nimport pandas as pd\n\nfrom ansys.mapdl.core import launch_mapdl\n\n# Start MAPDL.\nmapdl = launch_mapdl()"
      ]
    },
    {
      "cell_type": "markdown",
      "metadata": {},
      "source": [
        "## Pre-Processing\nEnter verification example mode and the pre-processing routine.\n\n"
      ]
    },
    {
      "cell_type": "code",
      "execution_count": null,
      "metadata": {
        "collapsed": false
      },
      "outputs": [],
      "source": [
        "mapdl.clear()\nmapdl.verify()\nmapdl.prep7(mute=True)"
      ]
    },
    {
      "cell_type": "markdown",
      "metadata": {},
      "source": [
        "## Define Element Type\nSet up the element type ``BEAM188``.\n\n"
      ]
    },
    {
      "cell_type": "code",
      "execution_count": null,
      "metadata": {
        "collapsed": false
      },
      "outputs": [],
      "source": [
        "# Type of analysis: Static.\nmapdl.antype(\"STATIC\")\n\n# Element type: BEAM188.\nmapdl.et(1, \"BEAM188\")\n\n# Special Features are defined by keyoptions of BEAM188:\n\n# KEYOPT(3)\n# Shape functions along the length:\n# Cubic\nmapdl.keyopt(1, 3, 3)  # Cubic shape function\n\n# Print the list with currently defined element types.\nprint(mapdl.etlist())"
      ]
    },
    {
      "cell_type": "markdown",
      "metadata": {},
      "source": [
        "## Define Material\nSet up the material, where:\n\n* $E = 30 \\cdot 10^6 psi$ - Young Modulus of steel.\n* $\\nu = 0.3$ - Poisson's ratio.\n\n"
      ]
    },
    {
      "cell_type": "code",
      "execution_count": null,
      "metadata": {
        "collapsed": false
      },
      "outputs": [],
      "source": [
        "# Steel material model.\n# Define Young's moulus and Poisson ratio for Steel.\nmapdl.mp(\"EX\", 1, 30e6)\nmapdl.mp(\"PRXY\", 1, 0.3)\n\n# Print the list of material properties.\nprint(mapdl.mplist())"
      ]
    },
    {
      "cell_type": "markdown",
      "metadata": {},
      "source": [
        "## Define Section\nSet up the cross-section properties for a beam elements, where:\n\n* $w_1 = 6b = 6 \\cdot 1.5 = 9\\,in$ - flange width.\n* $w_2 = 2h + h/2 = 2 \\cdot 8 + 8/2 = 20\\,in$ - overall depth.\n* $t_1 = h/2 = 8/2 = 4\\,in$ - flange thickness.\n* $t_2 = b = 1.5\\,in$ - stem thickness.\n\n"
      ]
    },
    {
      "cell_type": "code",
      "execution_count": null,
      "metadata": {
        "collapsed": false
      },
      "outputs": [],
      "source": [
        "# Parameterization of the cross-section dimensions.\nsec_num = 1\nw1 = 9\nw2 = 20\nt1 = 4\nt2 = 1.5\n\n# Define the beam cross-section.\nmapdl.sectype(sec_num, \"BEAM\", \"T\")\nmapdl.secdata(w1, w2, t1, t2)\n\n# Print the section properties.\nprint(mapdl.slist())"
      ]
    },
    {
      "cell_type": "markdown",
      "metadata": {},
      "source": [
        "## Define Geometry\nSet up the nodes and elements. Create nodes between elements.\n\n"
      ]
    },
    {
      "cell_type": "code",
      "execution_count": null,
      "metadata": {
        "collapsed": false
      },
      "outputs": [],
      "source": [
        "# Define nodes for the beam element.\nmapdl.n(1, x=0, y=0)\nmapdl.n(2, x=100, y=0)\n\n# Define one node for the orientation of the beam T-section.\nmapdl.n(3, x=0, y=1)\n\n# Print the list of the created nodes.\nprint(mapdl.nlist())"
      ]
    },
    {
      "cell_type": "markdown",
      "metadata": {},
      "source": [
        "## Define elements\nCreate element between nodes 1 and 2 using node 3 as orientational node.\n\n"
      ]
    },
    {
      "cell_type": "code",
      "execution_count": null,
      "metadata": {
        "collapsed": false
      },
      "outputs": [],
      "source": [
        "# Create element.\nmapdl.e(1, 2, 3)\n\n# Print the list of the elements and their attributes.\nprint(mapdl.elist())\n\n# Display elements with their nodes numbers.\ncpos = [\n    (162.20508123980457, 109.41124535475498, 112.95887397446565),\n    (50.0, 0.0, 0.0),\n    (-0.4135015240403764, -0.4134577015789461, 0.8112146563156641),\n]\n\nmapdl.eplot(show_node_numbering=True, line_width=5, cpos=cpos, font_size=40)"
      ]
    },
    {
      "cell_type": "markdown",
      "metadata": {},
      "source": [
        "## Define Boundary Conditions\nApplication of boundary conditions (BC).\n\n"
      ]
    },
    {
      "cell_type": "code",
      "execution_count": null,
      "metadata": {
        "collapsed": false
      },
      "outputs": [],
      "source": [
        "mapdl.d(node=1, lab=\"ALL\", mute=True)\nmapdl.d(node=\"ALL\", lab=\"UZ\", lab2=\"ROTX\", lab3=\"ROTY\", mute=True)"
      ]
    },
    {
      "cell_type": "markdown",
      "metadata": {},
      "source": [
        "## Define Distributed Loads\nApply a bending moment $\\mathrm{M_{z}}= 100000\\,in\\,lb$.\n\n"
      ]
    },
    {
      "cell_type": "code",
      "execution_count": null,
      "metadata": {
        "collapsed": false
      },
      "outputs": [],
      "source": [
        "# Parametrization of the bending moment.\nbending_mz = 100000\n\n# Application of the surface load to the beam element.\nmapdl.f(node=2, lab=\"MZ\", value=bending_mz)\nmapdl.finish(mute=True)"
      ]
    },
    {
      "cell_type": "markdown",
      "metadata": {},
      "source": [
        "## Solve\nEnter solution mode and run the simulation.\n\n"
      ]
    },
    {
      "cell_type": "code",
      "execution_count": null,
      "metadata": {
        "collapsed": false
      },
      "outputs": [],
      "source": [
        "# Start solution procedure.\nmapdl.slashsolu()\n\n# Define the number of substeps to be taken this load step.\nmapdl.nsubst(1)\nmapdl.solve(mute=True)"
      ]
    },
    {
      "cell_type": "markdown",
      "metadata": {},
      "source": [
        "## Post-processing\nEnter post-processing.\n\n"
      ]
    },
    {
      "cell_type": "code",
      "execution_count": null,
      "metadata": {
        "collapsed": false
      },
      "outputs": [],
      "source": [
        "# Enter the post-processing routine.\nmapdl.post1(mute=True)"
      ]
    },
    {
      "cell_type": "markdown",
      "metadata": {},
      "source": [
        "## Getting Displacements\nUsing :meth:`Mapdl.etable <ansys.mapdl.core.Mapdl.etable>` get the results of\nthe the maximum tensile and compressive bending stresses in\nan unsymmetric `T-beam` with :meth:`Mapdl.get_value <ansys.mapdl.core.Mapdl.get_value>`.\n\n"
      ]
    },
    {
      "cell_type": "code",
      "execution_count": null,
      "metadata": {
        "collapsed": false
      },
      "outputs": [],
      "source": [
        "#  Create a table of element values for BEAM188.\nmapdl.etable(lab=\"STRS_B\", item=\"LS\", comp=1)\nmapdl.etable(lab=\"STRS_T\", item=\"LS\", comp=31)\n\n# Get the value of the maximum compressive stress.\nstrss_top_compr = mapdl.get_value(\n    entity=\"ELEM\", entnum=1, item1=\"ETAB\", it1num=\"STRS_T\"\n)\n\n# Get the value of the maximum tensile bending stress.\nstrss_bot_tens = mapdl.get_value(entity=\"ELEM\", entnum=1, item1=\"ETAB\", it1num=\"STRS_B\")"
      ]
    },
    {
      "cell_type": "markdown",
      "metadata": {},
      "source": [
        "## Check Results\nFinally we have the results of the the maximum tensile and\ncompressive bending stresses, which can be compared with expected target\nvalues:\n\n- maximum tensile bending stress $\\sigma_{\\mathrm{(B,Bot)}} = 300\\,psi$.\n- maximum compressive bending stress $\\sigma_{\\mathrm{(B,Top)}} = -700\\,psi$.\n\nFor better representation of the results we can use ``pandas`` dataframe\nwith following settings below:\n\n"
      ]
    },
    {
      "cell_type": "code",
      "execution_count": null,
      "metadata": {
        "collapsed": false
      },
      "outputs": [],
      "source": [
        "# Define the names of the rows.\nrow_names = [\n    \"$$Stress - \\sigma_{\\mathrm{(B,Bot)}},\\,psi$$\",\n    \"$$Stress - \\sigma_{\\mathrm{(B,Top)}},\\,psi$$\",\n]\n\n# Define the names of the columns.\ncol_names = [\"Target\", \"Mechanical APDL\", \"RATIO\"]\n\n# Define the values of the target results.\ntarget_res = np.asarray([300, -700])\n\n# Create an array with outputs of the simulations.\nsimulation_res = np.asarray([strss_bot_tens, strss_top_compr])\n\n# Identifying and filling corresponding columns.\nmain_columns = {\n    \"Target\": target_res,\n    \"Mechanical APDL\": simulation_res,\n    \"Ratio\": list(np.divide(simulation_res, target_res)),\n}\n\n# Create and fill the output dataframe with pandas.\ndf2 = pd.DataFrame(main_columns, index=row_names).round(1)\n\n# Apply settings for the dataframe.\ndf2.head()"
      ]
    },
    {
      "cell_type": "markdown",
      "metadata": {},
      "source": [
        "stop mapdl\n\n"
      ]
    },
    {
      "cell_type": "code",
      "execution_count": null,
      "metadata": {
        "collapsed": false
      },
      "outputs": [],
      "source": [
        "mapdl.exit()"
      ]
    }
  ],
  "metadata": {
    "kernelspec": {
      "display_name": "Python 3",
      "language": "python",
      "name": "python3"
    },
    "language_info": {
      "codemirror_mode": {
        "name": "ipython",
        "version": 3
      },
      "file_extension": ".py",
      "mimetype": "text/x-python",
      "name": "python",
      "nbconvert_exporter": "python",
      "pygments_lexer": "ipython3",
      "version": "3.10.8"
    }
  },
  "nbformat": 4,
  "nbformat_minor": 0
}