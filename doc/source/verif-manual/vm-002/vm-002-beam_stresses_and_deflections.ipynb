{
  "cells": [
    {
      "cell_type": "code",
      "execution_count": null,
      "metadata": {
        "collapsed": false
      },
      "outputs": [],
      "source": [
        "%matplotlib inline"
      ]
    },
    {
      "cell_type": "markdown",
      "metadata": {},
      "source": [
        "\n\n# Beam Stresses and Deflections\n**Problem Description**\n\nA standard 30 inch WF beam, with a cross-sectional area $A$,\nis supported as shown below and loaded on the overhangs by a\nuniformly distributed load $w$. Determine the maximum bending\nstress, $\\sigma_max$, in the middle portion of the beam and\nthe deflection, $\\delta$, at the middle of the beam.\n\n**Reference**\n\nS. Timoshenko, Strength of Material, Part I, Elementary Theory and\nProblems, 3rd Edition, D. Van Nostrand Co., Inc., New York, NY, 1955,\npg. 98, problem 4.\n\n**Analysis Type(s)**\n\nStatic Analysis ``ANTYPE=0``\n\n**Element Type(s):**\n\n3-D 2 Node Beam (BEAM188)\n\n<img src=\"file://../../../_static/vm2_setup.png\" width=\"400\" alt=\"VM2 Problem Sketch\">\n\n**Material Properties**\n\n$E = 30 \\cdot 10^6 psi$\n\n**Geometric Properties**\n\n$a = 120 in$\n$l = 240 in$\n$h = 30 in$\n$A = 50.65 in^2$\n$I_z = 7892 in^4$\n\n**Loading**\n\n$w = (10000/12) lb/in$\n\n**Analytical Equations**\n\n- $M$ is the bending moment for the middle portion of the beam:\n  $M = 10000 \\cdot 10 \\cdot 60 = 6 \\cdot 10^6 lb \\cdot in$\n- Determination of the maximum stress in the middle portion of the beam is\n  $\\sigma_max = \\frac{M h}{2 I_z}$\n- The deflection, $\\delta$, at the middle of the beam can be defined\n  by the formulas of the transversally loaded beam:\n  $\\delta = 0.182 in$\n"
      ]
    },
    {
      "cell_type": "markdown",
      "metadata": {},
      "source": [
        "## Start MAPDL\n\n"
      ]
    },
    {
      "cell_type": "code",
      "execution_count": null,
      "metadata": {
        "collapsed": false
      },
      "outputs": [],
      "source": [
        "# sphinx_gallery_thumbnail_path = '_static/vm2_setup.png'\n\nfrom ansys.mapdl.core import launch_mapdl\n\n# Start mapdl and clear it.\nmapdl = launch_mapdl()\nmapdl.clear()\n\n# Enter verification example mode and the pre-processing routine.\nmapdl.verify()\nmapdl.prep7()"
      ]
    },
    {
      "cell_type": "markdown",
      "metadata": {},
      "source": [
        "## Define Element Type\nSet up the element type (a beam-type).\n\n"
      ]
    },
    {
      "cell_type": "code",
      "execution_count": null,
      "metadata": {
        "collapsed": false
      },
      "outputs": [],
      "source": [
        "# Type of analysis: Static.\nmapdl.antype(\"STATIC\")\n\n# Element type: BEAM188.\nmapdl.et(1, \"BEAM188\")\n\n# Special Features are defined by keyoptions of beam element:\n\n# KEYOPT(3)\n# Shape functions along the length:\n# Cubic\nmapdl.keyopt(1, 3, 3)  # Cubic shape function\n\n# KEYOPT(9)\n# Output control for values extrapolated to the element\n# and section nodes:\n# Same as KEYOPT(9) = 1 plus stresses and strains at all section nodes\nmapdl.keyopt(1, 9, 3, mute=True)"
      ]
    },
    {
      "cell_type": "markdown",
      "metadata": {},
      "source": [
        "## Define Material\nSet up the material.\n\n"
      ]
    },
    {
      "cell_type": "code",
      "execution_count": null,
      "metadata": {
        "collapsed": false
      },
      "outputs": [],
      "source": [
        "mapdl.mp(\"EX\", 1, 30e6)\nmapdl.mp(\"PRXY\", 1, 0.3)\nprint(mapdl.mplist())"
      ]
    },
    {
      "cell_type": "markdown",
      "metadata": {},
      "source": [
        "## Define Section\nSet up the cross-section properties for a beam element.\n\n"
      ]
    },
    {
      "cell_type": "code",
      "execution_count": null,
      "metadata": {
        "collapsed": false
      },
      "outputs": [],
      "source": [
        "w_f = 1.048394965\nw_w = 0.6856481\nsec_num = 1\nmapdl.sectype(sec_num, \"BEAM\", \"I\", \"ISection\")\nmapdl.secdata(15, 15, 28 + (2 * w_f), w_f, w_f, w_w)"
      ]
    },
    {
      "cell_type": "markdown",
      "metadata": {},
      "source": [
        "## Define Geometry\nSet up the nodes and elements. Create nodes then create elements\nbetween nodes.\n\n"
      ]
    },
    {
      "cell_type": "code",
      "execution_count": null,
      "metadata": {
        "collapsed": false
      },
      "outputs": [],
      "source": [
        "# Define nodes\nfor node_num in range(1, 6):\n    mapdl.n(node_num, (node_num - 1) * 120, 0, 0)\n\n# Define one node for the orientation of the beam cross-section.\norient_node = mapdl.n(6, 60, 1)\n\n# Print the list of the created nodes.\nprint(mapdl.nlist())"
      ]
    },
    {
      "cell_type": "markdown",
      "metadata": {},
      "source": [
        "Define elements\n\n"
      ]
    },
    {
      "cell_type": "code",
      "execution_count": null,
      "metadata": {
        "collapsed": false
      },
      "outputs": [],
      "source": [
        "for elem_num in range(1, 5):\n    mapdl.e(elem_num, elem_num + 1, orient_node)\n\n# Print the list of the created elements.\nprint(mapdl.elist())\n\n# Display elements with their nodes numbers.\nmapdl.eplot(show_node_numbering=True, line_width=5, cpos=\"xy\", font_size=40)"
      ]
    },
    {
      "cell_type": "markdown",
      "metadata": {},
      "source": [
        "## Define Boundary Conditions\nApplication of boundary conditions (BC).\n\n"
      ]
    },
    {
      "cell_type": "code",
      "execution_count": null,
      "metadata": {
        "collapsed": false
      },
      "outputs": [],
      "source": [
        "# BC for the beams seats\nmapdl.d(2, \"UX\", lab2=\"UY\")\nmapdl.d(4, \"UY\")\n\n# BC for all nodes of the beam\nmapdl.nsel(\"S\", \"LOC\", \"Y\", 0)\nmapdl.d(\"ALL\", \"UZ\")\nmapdl.d(\"ALL\", \"ROTX\")\nmapdl.d(\"ALL\", \"ROTY\")\nmapdl.nsel(\"ALL\")"
      ]
    },
    {
      "cell_type": "markdown",
      "metadata": {},
      "source": [
        "## Define Distributed Loads\nApply a distributed force of $w = (10000/12) lb/in$\nin the y-direction.\n\n"
      ]
    },
    {
      "cell_type": "code",
      "execution_count": null,
      "metadata": {
        "collapsed": false
      },
      "outputs": [],
      "source": [
        "# Parametrization of the distributed load.\nw = 10000 / 12\n\n# Application of the surface load to the beam element.\nmapdl.sfbeam(1, 1, \"PRES\", w)\nmapdl.sfbeam(4, 1, \"PRES\", w)\nmapdl.finish()"
      ]
    },
    {
      "cell_type": "markdown",
      "metadata": {},
      "source": [
        "## Solve\nEnter solution mode and solve the system. Print the solver output.\n\n"
      ]
    },
    {
      "cell_type": "code",
      "execution_count": null,
      "metadata": {
        "collapsed": false
      },
      "outputs": [],
      "source": [
        "mapdl.run(\"/SOLU\")\nout = mapdl.solve()\nmapdl.finish()\nprint(out)"
      ]
    },
    {
      "cell_type": "markdown",
      "metadata": {},
      "source": [
        "## Post-processing\nEnter post-processing. To get the stress and deflection results\nfrom the middle node and cross-section of the beam we can use\n:meth:`Mapdl.get_value <ansys.mapdl.core.Mapdl.get_value>`.\n\n"
      ]
    },
    {
      "cell_type": "code",
      "execution_count": null,
      "metadata": {
        "collapsed": false
      },
      "outputs": [],
      "source": [
        "# Enter the post-processing routine and select the first load step.\nmapdl.post1()\nmapdl.set(1)\n\n# Get the maximum stress at the middle of the beam.\ns_eqv_max = mapdl.get_value(\"secr\", 2, \"s\", \"eqv\", \"max\")\n\n# Get the deflection at the middle of the beam.\nmid_node_uy = mapdl.get_value(entity=\"NODE\", entnum=3, item1=\"u\", it1num=\"y\")"
      ]
    },
    {
      "cell_type": "markdown",
      "metadata": {},
      "source": [
        "## Check Results\nNow that we have the results we can compare the nodal displacement and stress\nexperienced by middle node of the beam to the known stresses -11,400 psi and\n0.182 inches of the deflection.\n\n"
      ]
    },
    {
      "cell_type": "code",
      "execution_count": null,
      "metadata": {
        "collapsed": false
      },
      "outputs": [],
      "source": [
        "# Results obtained by hand-calculations.\nstress_target = 11400.0\ndeflection_target = 0.182\n\n# Calculate the deviation.\nstress_ratio = s_eqv_max / stress_target\ndeflection_ratio = mid_node_uy / deflection_target\n\n# Print output results.\noutput = f\"\"\"\n----------------------------- VM3 RESULTS COMPARISON -----------------------------\n                |   TARGET   |   Mechanical APDL   |   RATIO   |\n----------------------------------------------------------------------------------\n    Stress{stress_target:18.3f} {s_eqv_max:16.3f} {stress_ratio:14.3f}\n    Deflection{deflection_target:14.3f} {mid_node_uy:16.3f} {deflection_ratio:14.3f}\n----------------------------------------------------------------------------------\n\"\"\"\nprint(output)"
      ]
    },
    {
      "cell_type": "markdown",
      "metadata": {},
      "source": [
        "stop mapdl\n\n"
      ]
    },
    {
      "cell_type": "code",
      "execution_count": null,
      "metadata": {
        "collapsed": false
      },
      "outputs": [],
      "source": [
        "mapdl.exit()"
      ]
    }
  ],
  "metadata": {
    "kernelspec": {
      "display_name": "Python 3",
      "language": "python",
      "name": "python3"
    },
    "language_info": {
      "codemirror_mode": {
        "name": "ipython",
        "version": 3
      },
      "file_extension": ".py",
      "mimetype": "text/x-python",
      "name": "python",
      "nbconvert_exporter": "python",
      "pygments_lexer": "ipython3",
      "version": "3.10.8"
    }
  },
  "nbformat": 4,
  "nbformat_minor": 0
}