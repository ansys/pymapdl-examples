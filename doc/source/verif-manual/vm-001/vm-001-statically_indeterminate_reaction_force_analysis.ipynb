{
  "cells": [
    {
      "cell_type": "code",
      "execution_count": null,
      "metadata": {
        "collapsed": false
      },
      "outputs": [],
      "source": [
        "%matplotlib inline"
      ]
    },
    {
      "cell_type": "markdown",
      "metadata": {},
      "source": [
        "\n",
        "\n",
        "# Statically Indeterminate Reaction Force Analysis\n",
        "Problem Description:\n",
        " - A prismatical bar with built-in ends is loaded axially at two\n",
        "   intermediate cross sections.  Determine the reactions $R_1$\n",
        "   and $R_2$.\n",
        "\n",
        "Reference:\n",
        " - S. Timoshenko, Strength of Materials, Part I, Elementary Theory and\n",
        "   Problems, 3rd Edition, D. Van Nostrand Co., Inc., New York, NY, 1955,\n",
        "   pg. 26, problem 10.\n",
        "\n",
        "Analysis Type(s):\n",
        " - Static Analysis ``ANTYPE=0``\n",
        "\n",
        "Element Type(s):\n",
        " - 3-D Spar (or Truss) Elements (LINK180)\n",
        "\n",
        "<img src=\"file://../../../_static/vm1_setup.png\" width=\"400\" alt=\"VM1 Problem Sketch\">\n",
        "\n",
        "Material Properties\n",
        " - $E = 30 \\cdot 10^6 psi$\n",
        "\n",
        "Geometric Properties:\n",
        " - $a = b = 0.3$\n",
        " - $l = 10 in$\n",
        "\n",
        "Loading:\n",
        " - $F_1 = 2*F_2 = 1000 lb$\n",
        "\n",
        "Analytical Equations:\n",
        " - $P = R_1 + R_2$ where $P$ is load.\n",
        " - $\\frac{R_2}{R_1} = \\frac{a}{b}$\n",
        "   Where $a$ and $b$ are the ratios of distances between\n",
        "   the load and the wall.\n"
      ]
    },
    {
      "cell_type": "code",
      "execution_count": null,
      "metadata": {
        "collapsed": false
      },
      "outputs": [],
      "source": [
        "# sphinx_gallery_thumbnail_path = '_static/vm1_setup.png'\n",
        "\n",
        "from ansys.mapdl.core import launch_mapdl\n",
        "\n",
        "# start mapdl and clear it\n",
        "mapdl = launch_mapdl()\n",
        "mapdl.clear()  # optional as MAPDL just started\n",
        "\n",
        "# enter verification example mode and the pre-processing routine\n",
        "mapdl.verify()\n",
        "mapdl.prep7()"
      ]
    },
    {
      "cell_type": "markdown",
      "metadata": {},
      "source": [
        "## Define Material\n",
        "Set up the material and its type (a single material, with a linking-type\n",
        "section and a Young's modulus of 30e6).\n",
        "\n"
      ]
    },
    {
      "cell_type": "code",
      "execution_count": null,
      "metadata": {
        "collapsed": false
      },
      "outputs": [],
      "source": [
        "mapdl.antype(\"STATIC\")\n",
        "mapdl.et(1, \"LINK180\")\n",
        "mapdl.sectype(1, \"LINK\")\n",
        "mapdl.secdata(1)\n",
        "mapdl.mp(\"EX\", 1, 30e6)"
      ]
    },
    {
      "cell_type": "markdown",
      "metadata": {},
      "source": [
        "## Define Geometry\n",
        "Set up the nodes and elements.  This creates a mesh just like in the\n",
        "problem setup.\n",
        "\n"
      ]
    },
    {
      "cell_type": "code",
      "execution_count": null,
      "metadata": {
        "collapsed": false
      },
      "outputs": [],
      "source": [
        "mapdl.n(1, 0, 0)\n",
        "mapdl.n(2, 0, 4)\n",
        "mapdl.n(3, 0, 7)\n",
        "mapdl.n(4, 0, 10)\n",
        "mapdl.e(1, 2)\n",
        "mapdl.egen(3, 1, 1)"
      ]
    },
    {
      "cell_type": "markdown",
      "metadata": {},
      "source": [
        "## Define Boundary Conditions\n",
        "Full constrain nodes 1 and 4, by incrementing from node 1 to node 4\n",
        "in steps of 3. Apply y-direction forces to nodes 2 and 3, with\n",
        "values of -500 lb and -1000 lb respectively. Then exit prep7.\n",
        "\n",
        "Effectiely, this sets:\n",
        "- $F_1 = 2*F_2 = 1000 lb$\n",
        "\n"
      ]
    },
    {
      "cell_type": "code",
      "execution_count": null,
      "metadata": {
        "collapsed": false
      },
      "outputs": [],
      "source": [
        "mapdl.d(1, \"ALL\", \"\", \"\", 4, 3)\n",
        "mapdl.f(2, \"FY\", -500)\n",
        "mapdl.f(3, \"FY\", -1000)\n",
        "mapdl.finish()"
      ]
    },
    {
      "cell_type": "markdown",
      "metadata": {},
      "source": [
        "## Solve\n",
        "Enter solution mode and solve the system.\n",
        "\n"
      ]
    },
    {
      "cell_type": "code",
      "execution_count": null,
      "metadata": {
        "collapsed": false
      },
      "outputs": [],
      "source": [
        "mapdl.run(\"/SOLU\")\n",
        "out = mapdl.solve()\n",
        "mapdl.finish()"
      ]
    },
    {
      "cell_type": "markdown",
      "metadata": {},
      "source": [
        "## Post-processing\n",
        "Enter post-processing. Select the nodes at ``y=10`` and ``y=0``, and\n",
        "sum the forces there. Then store the y-components in two variables:\n",
        "``reaction_1`` and ``reaction_2``.\n",
        "\n"
      ]
    },
    {
      "cell_type": "code",
      "execution_count": null,
      "metadata": {
        "collapsed": false
      },
      "outputs": [],
      "source": [
        "mapdl.post1()\n",
        "mapdl.nsel(\"S\", \"LOC\", \"Y\", 10)\n",
        "mapdl.fsum()\n",
        "reaction_1 = mapdl.get(\"REAC_1\", \"FSUM\", \"\", \"ITEM\", \"FY\")\n",
        "mapdl.nsel(\"S\", \"LOC\", \"Y\", 0)\n",
        "mapdl.fsum()\n",
        "reaction_2 = mapdl.get(\"REAC_2\", \"FSUM\", \"\", \"ITEM\", \"FY\")"
      ]
    },
    {
      "cell_type": "markdown",
      "metadata": {},
      "source": [
        "## Check Results\n",
        "Now that we have the reaction forces we can compare them to the\n",
        "expected values of 900 lbs and 600 lbs for reactions 1 and 2 respectively.\n",
        "\n",
        "Analytical results obtained from:\n",
        "- $P = R_1 + R_2$ where $P$ is load of 1500 lbs\n",
        "- $\\frac{R_2}{R_1} = \\frac{a}{b}$\n",
        "\n",
        "Hint: Solve for each reaction force independently.\n",
        "\n",
        "\n"
      ]
    },
    {
      "cell_type": "code",
      "execution_count": null,
      "metadata": {
        "collapsed": false
      },
      "outputs": [],
      "source": [
        "results = f\"\"\"\n",
        "    ---------------------  RESULTS COMPARISON  ---------------------\n",
        "    |   TARGET   |   Mechanical APDL   |   RATIO\n",
        "    /INPUT FILE=    LINE=       0\n",
        "    R1, lb          900.0       {abs(reaction_1)}   {abs(reaction_1) / 900}\n",
        "    R2, lb          600.0       {abs(reaction_2)}   {abs(reaction_2) / 600}\n",
        "    ----------------------------------------------------------------\n",
        "    \"\"\"\n",
        "print(results)"
      ]
    },
    {
      "cell_type": "markdown",
      "metadata": {},
      "source": [
        "stop mapdl\n",
        "\n"
      ]
    },
    {
      "cell_type": "code",
      "execution_count": null,
      "metadata": {
        "collapsed": false
      },
      "outputs": [],
      "source": [
        "mapdl.exit()"
      ]
    }
  ],
  "metadata": {
    "kernelspec": {
      "display_name": "Python 3.10.8 ('.venv': venv)",
      "language": "python",
      "name": "python3"
    },
    "language_info": {
      "codemirror_mode": {
        "name": "ipython",
        "version": 3
      },
      "file_extension": ".py",
      "mimetype": "text/x-python",
      "name": "python",
      "nbconvert_exporter": "python",
      "pygments_lexer": "ipython3",
      "version": "3.10.8"
    },
    "vscode": {
      "interpreter": {
        "hash": "269550a72b951409c73f23ea9b5a89d868b3d5a683e175acf6d5151541610ed6"
      }
    }
  },
  "nbformat": 4,
  "nbformat_minor": 0
}
