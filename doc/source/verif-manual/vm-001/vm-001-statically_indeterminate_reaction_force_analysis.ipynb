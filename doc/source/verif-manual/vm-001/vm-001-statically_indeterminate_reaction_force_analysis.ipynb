{
  "cells": [
    {
      "cell_type": "code",
      "execution_count": null,
      "metadata": {
        "collapsed": false
      },
      "outputs": [],
      "source": [
        "%matplotlib inline"
      ]
    },
    {
      "cell_type": "markdown",
      "metadata": {},
      "source": [
        "\n\n# Statically Indeterminate Reaction Force Analysis\nProblem Description:\n - A prismatical bar with built-in ends is loaded axially at two\n   intermediate cross sections.  Determine the reactions $R_1$\n   and $R_2$.\n\nReference:\n - S. Timoshenko, Strength of Materials, Part I, Elementary Theory and\n   Problems, 3rd Edition, D. Van Nostrand Co., Inc., New York, NY, 1955,\n   pg. 26, problem 10.\n\nAnalysis Type(s):\n - Static Analysis ``ANTYPE=0``\n\nElement Type(s):\n - 3-D Spar (or Truss) Elements (LINK180)\n\n<img src=\"file://../../../_static/vm1_setup.png\" width=\"400\" alt=\"VM1 Problem Sketch\">\n\nMaterial Properties\n - $E = 30 \\cdot 10^6 psi$\n\nGeometric Properties:\n - $a = b = 0.3$\n - $l = 10 in$\n\nLoading:\n - $F_1 = 2*F_2 = 1000 lb$\n\nAnalytical Equations:\n - $P = R_1 + R_2$ where $P$ is load.\n - $\\frac{R_2}{R_1} = \\frac{a}{b}$\n   Where $a$ and $b$ are the ratios of distances between\n   the load and the wall.\n"
      ]
    },
    {
      "cell_type": "code",
      "execution_count": null,
      "metadata": {
        "collapsed": false
      },
      "outputs": [],
      "source": [
        "# sphinx_gallery_thumbnail_path = '_static/vm1_setup.png'\n\nfrom ansys.mapdl.core import launch_mapdl\n\n# start mapdl and clear it\nmapdl = launch_mapdl()\nmapdl.clear()  # optional as MAPDL just started\n\n# enter verification example mode and the pre-processing routine\nmapdl.verify()\nmapdl.prep7()"
      ]
    },
    {
      "cell_type": "markdown",
      "metadata": {},
      "source": [
        "## Define Material\nSet up the material and its type (a single material, with a linking-type\nsection and a Young's modulus of 30e6).\n\n"
      ]
    },
    {
      "cell_type": "code",
      "execution_count": null,
      "metadata": {
        "collapsed": false
      },
      "outputs": [],
      "source": [
        "mapdl.antype(\"STATIC\")\nmapdl.et(1, \"LINK180\")\nmapdl.sectype(1, \"LINK\")\nmapdl.secdata(1)\nmapdl.mp(\"EX\", 1, 30e6)"
      ]
    },
    {
      "cell_type": "markdown",
      "metadata": {},
      "source": [
        "## Define Geometry\nSet up the nodes and elements.  This creates a mesh just like in the\nproblem setup.\n\n"
      ]
    },
    {
      "cell_type": "code",
      "execution_count": null,
      "metadata": {
        "collapsed": false
      },
      "outputs": [],
      "source": [
        "mapdl.n(1, 0, 0)\nmapdl.n(2, 0, 4)\nmapdl.n(3, 0, 7)\nmapdl.n(4, 0, 10)\nmapdl.e(1, 2)\nmapdl.egen(3, 1, 1)"
      ]
    },
    {
      "cell_type": "markdown",
      "metadata": {},
      "source": [
        "## Define Boundary Conditions\nFull constrain nodes 1 and 4, by incrementing from node 1 to node 4\nin steps of 3. Apply y-direction forces to nodes 2 and 3, with\nvalues of -500 lb and -1000 lb respectively. Then exit prep7.\n\nEffectiely, this sets:\n- $F_1 = 2*F_2 = 1000 lb$\n\n"
      ]
    },
    {
      "cell_type": "code",
      "execution_count": null,
      "metadata": {
        "collapsed": false
      },
      "outputs": [],
      "source": [
        "mapdl.d(1, \"ALL\", \"\", \"\", 4, 3)\nmapdl.f(2, \"FY\", -500)\nmapdl.f(3, \"FY\", -1000)\nmapdl.finish()"
      ]
    },
    {
      "cell_type": "markdown",
      "metadata": {},
      "source": [
        "## Solve\nEnter solution mode and solve the system.\n\n"
      ]
    },
    {
      "cell_type": "code",
      "execution_count": null,
      "metadata": {
        "collapsed": false
      },
      "outputs": [],
      "source": [
        "mapdl.run(\"/SOLU\")\nout = mapdl.solve()\nmapdl.finish()"
      ]
    },
    {
      "cell_type": "markdown",
      "metadata": {},
      "source": [
        "## Post-processing\nEnter post-processing. Select the nodes at ``y=10`` and ``y=0``, and\nsum the forces there. Then store the y-components in two variables:\n``reaction_1`` and ``reaction_2``.\n\n"
      ]
    },
    {
      "cell_type": "code",
      "execution_count": null,
      "metadata": {
        "collapsed": false
      },
      "outputs": [],
      "source": [
        "mapdl.post1()\nmapdl.nsel(\"S\", \"LOC\", \"Y\", 10)\nmapdl.fsum()\nreaction_1 = mapdl.get(\"REAC_1\", \"FSUM\", \"\", \"ITEM\", \"FY\")\nmapdl.nsel(\"S\", \"LOC\", \"Y\", 0)\nmapdl.fsum()\nreaction_2 = mapdl.get(\"REAC_2\", \"FSUM\", \"\", \"ITEM\", \"FY\")"
      ]
    },
    {
      "cell_type": "markdown",
      "metadata": {},
      "source": [
        "## Check Results\nNow that we have the reaction forces we can compare them to the\nexpected values of 900 lbs and 600 lbs for reactions 1 and 2 respectively.\n\nAnalytical results obtained from:\n- $P = R_1 + R_2$ where $P$ is load of 1500 lbs\n- $\\frac{R_2}{R_1} = \\frac{a}{b}$\n\nHint: Solve for each reaction force independently.\n\n\n"
      ]
    },
    {
      "cell_type": "code",
      "execution_count": null,
      "metadata": {
        "collapsed": false
      },
      "outputs": [],
      "source": [
        "results = f\"\"\"\n    ---------------------  RESULTS COMPARISON  ---------------------\n    |   TARGET   |   Mechanical APDL   |   RATIO\n    /INPUT FILE=    LINE=       0\n    R1, lb          900.0       {abs(reaction_1)}   {abs(reaction_1) / 900}\n    R2, lb          600.0       {abs(reaction_2)}   {abs(reaction_2) / 600}\n    ----------------------------------------------------------------\n    \"\"\"\nprint(results)"
      ]
    },
    {
      "cell_type": "markdown",
      "metadata": {},
      "source": [
        "stop mapdl\n\n"
      ]
    },
    {
      "cell_type": "code",
      "execution_count": null,
      "metadata": {
        "collapsed": false
      },
      "outputs": [],
      "source": [
        "mapdl.exit()"
      ]
    }
  ],
  "metadata": {
    "kernelspec": {
      "display_name": "Python 3",
      "language": "python",
      "name": "python3"
    },
    "language_info": {
      "codemirror_mode": {
        "name": "ipython",
        "version": 3
      },
      "file_extension": ".py",
      "mimetype": "text/x-python",
      "name": "python",
      "nbconvert_exporter": "python",
      "pygments_lexer": "ipython3",
      "version": "3.10.8"
    }
  },
  "nbformat": 4,
  "nbformat_minor": 0
}